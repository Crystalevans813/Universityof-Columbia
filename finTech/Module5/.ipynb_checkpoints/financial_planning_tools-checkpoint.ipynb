{
 "cells": [
  {
   "cell_type": "markdown",
   "metadata": {
    "tags": []
   },
   "source": [
    "# Financial Planning with APIs and Simulations\n",
    "\n",
    "In this Challenge, you’ll create two financial analysis tools by using a single Jupyter notebook:\n",
    "\n",
    "Part 1: A financial planner for emergencies. The members will be able to use this tool to visualize their current savings. The members can then determine if they have enough reserves for an emergency fund.\n",
    "\n",
    "Part 2: A financial planner for retirement. This tool will forecast the performance of their retirement portfolio in 30 years. To do this, the tool will make an Alpaca API call via the Alpaca SDK to get historical price data for use in Monte Carlo simulations.\n",
    "\n",
    "You’ll use the information from the Monte Carlo simulation to answer questions about the portfolio in your Jupyter notebook.\n",
    "\n"
   ]
  },
  {
   "cell_type": "code",
   "execution_count": 1,
   "metadata": {},
   "outputs": [],
   "source": [
    "from alpaca_trade_api.rest import TimeFrame "
   ]
  },
  {
   "cell_type": "code",
   "execution_count": 2,
   "metadata": {},
   "outputs": [],
   "source": [
    "# Import the required libraries and dependencies\n",
    "import os\n",
    "import requests\n",
    "import json\n",
    "import pandas as pd\n",
    "from dotenv import load_dotenv\n",
    "import alpaca_trade_api as tradeapi\n",
    "from MCForecastTools import MCSimulation\n",
    "\n",
    "%matplotlib inline"
   ]
  },
  {
   "cell_type": "code",
   "execution_count": 3,
   "metadata": {},
   "outputs": [
    {
     "data": {
      "text/plain": [
       "True"
      ]
     },
     "execution_count": 3,
     "metadata": {},
     "output_type": "execute_result"
    }
   ],
   "source": [
    "# Load the environment variables from the .env file\n",
    "#by calling the load_dotenv function\n",
    "load_dotenv()"
   ]
  },
  {
   "cell_type": "code",
   "execution_count": null,
   "metadata": {},
   "outputs": [],
   "source": []
  },
  {
   "cell_type": "markdown",
   "metadata": {},
   "source": [
    "## Part 1: Create a Financial Planner for Emergencies"
   ]
  },
  {
   "cell_type": "markdown",
   "metadata": {},
   "source": [
    "### Evaluate the Cryptocurrency Wallet by Using the Requests Library\n",
    "\n",
    "In this section, you’ll determine the current value of a member’s cryptocurrency wallet. You’ll collect the current prices for the Bitcoin and Ethereum cryptocurrencies by using the Python Requests library. For the prototype, you’ll assume that the member holds the 1.2 Bitcoins (BTC) and 5.3 Ethereum coins (ETH). To do all this, complete the following steps:\n",
    "\n",
    "1. Create a variable named `monthly_income`, and set its value to `12000`.\n",
    "\n",
    "2. Use the Requests library to get the current price (in US dollars) of Bitcoin (BTC) and Ethereum (ETH) by using the API endpoints that the starter code supplies.\n",
    "\n",
    "3. Navigate the JSON response object to access the current price of each coin, and store each in a variable.\n",
    "\n",
    "    > **Hint** Note the specific identifier for each cryptocurrency in the API JSON response. The Bitcoin identifier is `1`, and the Ethereum identifier is `1027`.\n",
    "\n",
    "4. Calculate the value, in US dollars, of the current amount of each cryptocurrency and of the entire cryptocurrency wallet.\n",
    "\n"
   ]
  },
  {
   "cell_type": "code",
   "execution_count": 4,
   "metadata": {},
   "outputs": [],
   "source": [
    "# The current number of coins for each cryptocurrency asset held in the portfolio.\n",
    "btc_coins = 1.2\n",
    "eth_coins = 5.3"
   ]
  },
  {
   "cell_type": "markdown",
   "metadata": {},
   "source": [
    "#### Step 1: Create a variable named `monthly_income`, and set its value to `12000`."
   ]
  },
  {
   "cell_type": "code",
   "execution_count": 5,
   "metadata": {},
   "outputs": [],
   "source": [
    "# The monthly amount for the member's household income\n",
    "monthly_income = 12000\n"
   ]
  },
  {
   "cell_type": "markdown",
   "metadata": {},
   "source": [
    "#### Review the endpoint URLs for the API calls to Free Crypto API in order to get the current pricing information for both BTC and ETH."
   ]
  },
  {
   "cell_type": "code",
   "execution_count": 6,
   "metadata": {},
   "outputs": [],
   "source": [
    "# The Free Crypto API Call endpoint URLs for the held cryptocurrency assets\n",
    "btc_url = \"https://api.alternative.me/v2/ticker/Bitcoin/?convert=USD\"\n",
    "eth_url = \"https://api.alternative.me/v2/ticker/Ethereum/?convert=USD\""
   ]
  },
  {
   "cell_type": "markdown",
   "metadata": {},
   "source": [
    "#### Step 2. Use the Requests library to get the current price (in US dollars) of Bitcoin (BTC) and Ethereum (ETH) by using the API endpoints that the starter code supplied."
   ]
  },
  {
   "cell_type": "code",
   "execution_count": 7,
   "metadata": {},
   "outputs": [
    {
     "name": "stdout",
     "output_type": "stream",
     "text": [
      "{\n",
      "    \"data\": {\n",
      "        \"1\": {\n",
      "            \"circulating_supply\": 19099600,\n",
      "            \"id\": 1,\n",
      "            \"last_updated\": 1658440783,\n",
      "            \"max_supply\": 21000000,\n",
      "            \"name\": \"Bitcoin\",\n",
      "            \"quotes\": {\n",
      "                \"USD\": {\n",
      "                    \"market_cap\": 443049726836,\n",
      "                    \"percent_change_1h\": -0.107981647771823,\n",
      "                    \"percent_change_24h\": -1.66817877121592,\n",
      "                    \"percent_change_7d\": 14.7855795432213,\n",
      "                    \"percentage_change_1h\": -0.107981647771823,\n",
      "                    \"percentage_change_24h\": -1.66817877121592,\n",
      "                    \"percentage_change_7d\": 14.7855795432213,\n",
      "                    \"price\": 23216.0,\n",
      "                    \"volume_24h\": 61382899221\n",
      "                }\n",
      "            },\n",
      "            \"rank\": 1,\n",
      "            \"symbol\": \"BTC\",\n",
      "            \"total_supply\": 19099600,\n",
      "            \"website_slug\": \"bitcoin\"\n",
      "        }\n",
      "    },\n",
      "    \"metadata\": {\n",
      "        \"error\": null,\n",
      "        \"num_cryptocurrencies\": 3116,\n",
      "        \"timestamp\": 1658440783\n",
      "    }\n",
      "}\n"
     ]
    }
   ],
   "source": [
    "# Using the Python requests library, make an API call to access the current price of BTC\n",
    "\n",
    "\n",
    "btc_url = \"https://api.alternative.me/v2/ticker/Bitcoin/?convert=USD\"\n",
    "\n",
    "# Use the json.dumps function to review the response data from the API call\n",
    "# Use the indent and sort_keys parameters to make the response object readable\n",
    "btc_url_response = requests.get(btc_url).json()\n",
    "print(json.dumps(btc_url_response, indent=4, sort_keys=True))"
   ]
  },
  {
   "cell_type": "code",
   "execution_count": 8,
   "metadata": {
    "tags": []
   },
   "outputs": [
    {
     "name": "stdout",
     "output_type": "stream",
     "text": [
      "{\n",
      "    \"data\": {\n",
      "        \"1027\": {\n",
      "            \"circulating_supply\": 119770288,\n",
      "            \"id\": 1027,\n",
      "            \"last_updated\": 1658440756,\n",
      "            \"max_supply\": 119770288,\n",
      "            \"name\": \"Ethereum\",\n",
      "            \"quotes\": {\n",
      "                \"USD\": {\n",
      "                    \"market_cap\": 190554558922,\n",
      "                    \"percent_change_1h\": -0.0130952400497099,\n",
      "                    \"percent_change_24h\": 2.79299485040136,\n",
      "                    \"percent_change_7d\": 42.8428378889508,\n",
      "                    \"percentage_change_1h\": -0.0130952400497099,\n",
      "                    \"percentage_change_24h\": 2.79299485040136,\n",
      "                    \"percentage_change_7d\": 42.8428378889508,\n",
      "                    \"price\": 1589.73,\n",
      "                    \"volume_24h\": 19441286835\n",
      "                }\n",
      "            },\n",
      "            \"rank\": 2,\n",
      "            \"symbol\": \"ETH\",\n",
      "            \"total_supply\": 119770288,\n",
      "            \"website_slug\": \"ethereum\"\n",
      "        }\n",
      "    },\n",
      "    \"metadata\": {\n",
      "        \"error\": null,\n",
      "        \"num_cryptocurrencies\": 3116,\n",
      "        \"timestamp\": 1658440756\n",
      "    }\n",
      "}\n"
     ]
    }
   ],
   "source": [
    "# Using the Python requests library, make an API call to access the current price ETH\n",
    "eth_url = \"https://api.alternative.me/v2/ticker/Ethereum/?convert=USD\"\n",
    "\n",
    "# Use the json.dumps function to review the response data from the API call\n",
    "# Use the indent and sort_keys parameters to make the response object readable\n",
    "eth_url_response  = requests.get(eth_url).json()\n",
    "print(json.dumps(eth_url_response, indent=4, sort_keys=True))\n"
   ]
  },
  {
   "cell_type": "markdown",
   "metadata": {},
   "source": [
    "#### Step 3: Navigate the JSON response object to access the current price of each coin, and store each in a variable."
   ]
  },
  {
   "cell_type": "code",
   "execution_count": 9,
   "metadata": {},
   "outputs": [
    {
     "name": "stdout",
     "output_type": "stream",
     "text": [
      "The symbol for BTC is BTC\n",
      "The CURRENT price for BTC is $23216.0\n"
     ]
    }
   ],
   "source": [
    "btc_symbol = btc_url_response['data']['1']['symbol']\n",
    "print(f\"The symbol for BTC is {btc_symbol}\")\n",
    "btc_price = btc_url_response ['data']['1']['quotes']['USD']['price']\n",
    "print(f\"The CURRENT price for BTC is ${btc_price}\")\n",
    "\n",
    "# Navigate the BTC response object to access the current price of BTC\n",
    "\n",
    "# Print the current price of BTC\n",
    "\n"
   ]
  },
  {
   "cell_type": "code",
   "execution_count": 10,
   "metadata": {},
   "outputs": [
    {
     "name": "stdout",
     "output_type": "stream",
     "text": [
      "The symbol for ETH is ETH\n",
      "The CURRENT price for ETH is $1589.73\n"
     ]
    }
   ],
   "source": [
    "# Navigate the BTC response object to access the current price of ETH\n",
    "\n",
    "eth_symbol = eth_url_response['data']['1027']['symbol']\n",
    "print(f\"The symbol for ETH is {eth_symbol}\")\n",
    "eth_price = eth_url_response ['data']['1027']['quotes']['USD']['price']\n",
    "print(f\"The CURRENT price for ETH is ${eth_price}\")\n",
    "\n",
    "\n"
   ]
  },
  {
   "cell_type": "markdown",
   "metadata": {},
   "source": [
    "### Step 4: Calculate the value, in US dollars, of the current amount of each cryptocurrency and of the entire cryptocurrency wallet."
   ]
  },
  {
   "cell_type": "code",
   "execution_count": 11,
   "metadata": {
    "tags": []
   },
   "outputs": [
    {
     "name": "stdout",
     "output_type": "stream",
     "text": [
      "The Bitcon portfolio value is: $27,859.20\n"
     ]
    }
   ],
   "source": [
    "# Navigate the BTC response object to access the current price of BTC\n",
    "# Print the current price of BTC\n",
    "btc_price = btc_url_response ['data']['1']['quotes']['USD']['price']\n",
    "\n",
    "# Print current value of your holding in BTC\n",
    "btc_value = btc_coins * btc_price\n",
    "print(f\"The Bitcon portfolio value is: ${btc_value:,.2f}\")\n"
   ]
  },
  {
   "cell_type": "code",
   "execution_count": 12,
   "metadata": {},
   "outputs": [
    {
     "name": "stdout",
     "output_type": "stream",
     "text": [
      "The Etherium portfolio value is: $8,425.57\n"
     ]
    }
   ],
   "source": [
    "# Compute the current value of the ETH holding \n",
    "eth_price = eth_url_response ['data']['1027']['quotes']['USD']['price']\n",
    "eth_value = eth_coins * eth_price\n",
    "print(f\"The Etherium portfolio value is: ${eth_value:,.2f}\")"
   ]
  },
  {
   "cell_type": "code",
   "execution_count": 13,
   "metadata": {},
   "outputs": [
    {
     "name": "stdout",
     "output_type": "stream",
     "text": [
      "Current cryptocurrency wallet balance: $36,284.77\n"
     ]
    }
   ],
   "source": [
    "# Compute the total value of the cryptocurrency wallet\n",
    "# Add the value of the BTC holding to the value of the ETH holding\n",
    "total_crypto_wallet = btc_value + eth_value\n",
    "\n",
    "# Print current cryptocurrency wallet balance\n",
    "print(f\"Current cryptocurrency wallet balance: ${total_crypto_wallet:,.2f}\")\n"
   ]
  },
  {
   "cell_type": "markdown",
   "metadata": {
    "tags": []
   },
   "source": [
    "### Evaluate the Stock and Bond Holdings by Using the Alpaca SDK\n",
    "\n",
    "In this section, you’ll determine the current value of a member’s stock and bond holdings. You’ll make an API call to Alpaca via the Alpaca SDK to get the current closing prices of the SPDR S&P 500 ETF Trust (ticker: SPY) and of the iShares Core US Aggregate Bond ETF (ticker: AGG). For the prototype, assume that the member holds 110 shares of SPY, which represents the stock portion of their portfolio, and 200 shares of AGG, which represents the bond portion. To do all this, complete the following steps:\n",
    "\n",
    "1. In the `Starter_Code` folder, create an environment file (`.env`) to store the values of your Alpaca API key and Alpaca secret key.\n",
    "\n",
    "2. Set the variables for the Alpaca API and secret keys. Using the Alpaca SDK, create the Alpaca `tradeapi.REST` object. In this object, include the parameters for the Alpaca API key, the secret key, and the version number.\n",
    "\n",
    "3. Set the following parameters for the Alpaca API call:\n",
    "\n",
    "    - `tickers`: Use the tickers for the member’s stock and bond holdings.\n",
    "\n",
    "    - `timeframe`: Use a time frame of one day.\n",
    "\n",
    "    - `start_date` and `end_date`: Use the same date for these parameters, and format them with the date of the previous weekday (or `2020-08-07`). This is because you want the one closing price for the most-recent trading day.\n",
    "\n",
    "4. Get the current closing prices for `SPY` and `AGG` by using the Alpaca `get_bars` function. Format the response as a Pandas DataFrame by including the `df` property at the end of the `get_bars` function.\n",
    "\n",
    "5. Navigating the Alpaca response DataFrame, select the `SPY` and `AGG` closing prices, and store them as variables.\n",
    "\n",
    "6. Calculate the value, in US dollars, of the current amount of shares in each of the stock and bond portions of the portfolio, and print the results.\n"
   ]
  },
  {
   "cell_type": "markdown",
   "metadata": {},
   "source": [
    "#### Review the total number of shares held in both (SPY) and (AGG)."
   ]
  },
  {
   "cell_type": "code",
   "execution_count": 14,
   "metadata": {
    "tags": []
   },
   "outputs": [],
   "source": [
    "# Current amount of shares held in both the stock (SPY) and bond (AGG) portion of the portfolio.\n",
    "spy_shares = 110\n",
    "agg_shares = 200\n"
   ]
  },
  {
   "cell_type": "markdown",
   "metadata": {
    "tags": []
   },
   "source": [
    "#### Step 1: In the `Starter_Code` folder, create an environment file (`.env`) to store the values of your Alpaca API key and Alpaca secret key."
   ]
  },
  {
   "cell_type": "markdown",
   "metadata": {
    "tags": []
   },
   "source": [
    "#### Step 2: Set the variables for the Alpaca API and secret keys. Using the Alpaca SDK, create the Alpaca `tradeapi.REST` object. In this object, include the parameters for the Alpaca API key, the secret key, and the version number."
   ]
  },
  {
   "cell_type": "code",
   "execution_count": null,
   "metadata": {
    "tags": []
   },
   "outputs": [],
   "source": []
  },
  {
   "cell_type": "code",
   "execution_count": 15,
   "metadata": {},
   "outputs": [
    {
     "data": {
      "text/plain": [
       "str"
      ]
     },
     "execution_count": 15,
     "metadata": {},
     "output_type": "execute_result"
    }
   ],
   "source": [
    "load_dotenv()\n",
    "\n",
    "# Set Alpaca API key and secret\n",
    "alpaca_api_key = os.getenv(\"alpaca_api_key\")\n",
    "type(alpaca_api_key) \n",
    "\n",
    "alpaca_secret_key = os.getenv(\"alpaca_secret_key\")\n",
    "type(alpaca_secret_key)                          \n"
   ]
  },
  {
   "cell_type": "code",
   "execution_count": 16,
   "metadata": {},
   "outputs": [],
   "source": [
    "# Create the Alpaca API object\n",
    "alpaca = tradeapi.REST(alpaca_api_key,alpaca_secret_key,api_version=\"v2\")\n"
   ]
  },
  {
   "cell_type": "code",
   "execution_count": null,
   "metadata": {},
   "outputs": [],
   "source": []
  },
  {
   "cell_type": "markdown",
   "metadata": {},
   "source": [
    "#### Step 3: Set the following parameters for the Alpaca API call:\n",
    "\n",
    "- `tickers`: Use the tickers for the member’s stock and bond holdings.\n",
    "\n",
    "- `timeframe`: Use a time frame of one day.\n",
    "\n",
    "- `start_date` and `end_date`: Use the same date for these parameters, and format them with the date of the previous weekday (or `2020-08-07`). This is because you want the one closing price for the most-recent trading day.\n"
   ]
  },
  {
   "cell_type": "code",
   "execution_count": 17,
   "metadata": {},
   "outputs": [],
   "source": [
    "# Set the tickers for both the bond and stock portion of the portfolio\n",
    "#SPDR S&P 500 ETF Trust (ticker: SPY)\n",
    "#Core US Aggregate Bond ETF \n",
    "\n",
    "tickers = [\"SPY\", \"AGG\"]\n",
    "\n",
    "# Set timeframe to 1Day\n",
    "timeframe = \"1Day\"\n",
    "\n",
    "\n",
    "# Format current date as ISO format\n",
    "# Set both the start and end date at the date of your prior weekday \n",
    "# This will give you the closing price of the previous trading day\n",
    "# Alternatively you can use a start and end date of 2020-08-07\n",
    "# Format current date as ISO format\n",
    "\n",
    "start_date = pd.Timestamp(\"2020-08-07\", tz=\"America/New_York\").isoformat()\n",
    "end_date = pd.Timestamp(\"2020-08-07\", tz=\"America/New_York\").isoformat()\n"
   ]
  },
  {
   "cell_type": "markdown",
   "metadata": {},
   "source": [
    "#### Step 4: Get the current closing prices for `SPY` and `AGG` by using the Alpaca `get_bars` function. Format the response as a Pandas DataFrame by including the `df` property at the end of the `get_bars` function."
   ]
  },
  {
   "cell_type": "code",
   "execution_count": 18,
   "metadata": {},
   "outputs": [
    {
     "data": {
      "text/html": [
       "<div>\n",
       "<style scoped>\n",
       "    .dataframe tbody tr th:only-of-type {\n",
       "        vertical-align: middle;\n",
       "    }\n",
       "\n",
       "    .dataframe tbody tr th {\n",
       "        vertical-align: top;\n",
       "    }\n",
       "\n",
       "    .dataframe thead tr th {\n",
       "        text-align: left;\n",
       "    }\n",
       "\n",
       "    .dataframe thead tr:last-of-type th {\n",
       "        text-align: right;\n",
       "    }\n",
       "</style>\n",
       "<table border=\"1\" class=\"dataframe\">\n",
       "  <thead>\n",
       "    <tr>\n",
       "      <th></th>\n",
       "      <th colspan=\"7\" halign=\"left\">SPY</th>\n",
       "      <th colspan=\"7\" halign=\"left\">AGG</th>\n",
       "    </tr>\n",
       "    <tr>\n",
       "      <th></th>\n",
       "      <th>open</th>\n",
       "      <th>high</th>\n",
       "      <th>low</th>\n",
       "      <th>close</th>\n",
       "      <th>volume</th>\n",
       "      <th>trade_count</th>\n",
       "      <th>vwap</th>\n",
       "      <th>open</th>\n",
       "      <th>high</th>\n",
       "      <th>low</th>\n",
       "      <th>close</th>\n",
       "      <th>volume</th>\n",
       "      <th>trade_count</th>\n",
       "      <th>vwap</th>\n",
       "    </tr>\n",
       "    <tr>\n",
       "      <th>timestamp</th>\n",
       "      <th></th>\n",
       "      <th></th>\n",
       "      <th></th>\n",
       "      <th></th>\n",
       "      <th></th>\n",
       "      <th></th>\n",
       "      <th></th>\n",
       "      <th></th>\n",
       "      <th></th>\n",
       "      <th></th>\n",
       "      <th></th>\n",
       "      <th></th>\n",
       "      <th></th>\n",
       "      <th></th>\n",
       "    </tr>\n",
       "  </thead>\n",
       "  <tbody>\n",
       "    <tr>\n",
       "      <th>2020-08-07 04:00:00+00:00</th>\n",
       "      <td>333.29</td>\n",
       "      <td>334.88</td>\n",
       "      <td>332.3</td>\n",
       "      <td>334.57</td>\n",
       "      <td>57282821</td>\n",
       "      <td>350100</td>\n",
       "      <td>333.800372</td>\n",
       "      <td>119.66</td>\n",
       "      <td>119.73</td>\n",
       "      <td>119.395</td>\n",
       "      <td>119.43</td>\n",
       "      <td>5559066</td>\n",
       "      <td>15246</td>\n",
       "      <td>119.475306</td>\n",
       "    </tr>\n",
       "  </tbody>\n",
       "</table>\n",
       "</div>"
      ],
      "text/plain": [
       "                              SPY                                   \\\n",
       "                             open    high    low   close    volume   \n",
       "timestamp                                                            \n",
       "2020-08-07 04:00:00+00:00  333.29  334.88  332.3  334.57  57282821   \n",
       "\n",
       "                                                      AGG                   \\\n",
       "                          trade_count        vwap    open    high      low   \n",
       "timestamp                                                                    \n",
       "2020-08-07 04:00:00+00:00      350100  333.800372  119.66  119.73  119.395   \n",
       "\n",
       "                                                                    \n",
       "                            close   volume trade_count        vwap  \n",
       "timestamp                                                           \n",
       "2020-08-07 04:00:00+00:00  119.43  5559066       15246  119.475306  "
      ]
     },
     "execution_count": 18,
     "metadata": {},
     "output_type": "execute_result"
    }
   ],
   "source": [
    "# Use the Alpaca get_bars function to get current closing prices the portfolio\n",
    "# Be sure to set the `df` property after the function to format the response object as a DataFrame\n",
    "df_portfolio = alpaca.get_bars(\n",
    "    tickers,\n",
    "    timeframe,\n",
    "    start = start_date,\n",
    "    end = end_date\n",
    ").df\n",
    "\n",
    "# Display sample data\n",
    "df_portfolio\n",
    "\n",
    "# Reorganize the DataFrame by separating ticker data\n",
    "#tickers = [\"SPY\", \"AGG\"]\n",
    "SPY = df_portfolio[df_portfolio['symbol']=='SPY'].drop('symbol', axis=1)\n",
    "AGG = df_portfolio[df_portfolio['symbol']=='AGG'].drop('symbol', axis=1)\n",
    "\n",
    "# Concatenate the Ticker DataFrames\n",
    "df_portfolio = pd.concat([SPY,AGG],axis=1, keys=['SPY','AGG'])\n",
    "\n",
    "# Display sample data\n",
    "df_portfolio.head()\n",
    "\n"
   ]
  },
  {
   "cell_type": "code",
   "execution_count": null,
   "metadata": {},
   "outputs": [],
   "source": []
  },
  {
   "cell_type": "markdown",
   "metadata": {},
   "source": [
    "#### Step 5: Navigating the Alpaca response DataFrame, select the `SPY` and `AGG` closing prices, and store them as variables."
   ]
  },
  {
   "cell_type": "code",
   "execution_count": null,
   "metadata": {},
   "outputs": [],
   "source": []
  },
  {
   "cell_type": "code",
   "execution_count": 19,
   "metadata": {},
   "outputs": [
    {
     "name": "stdout",
     "output_type": "stream",
     "text": [
      "119.43\n",
      "<class 'float'>\n"
     ]
    }
   ],
   "source": [
    "# Access the closing price for AGG from the Alpaca DataFrame\n",
    "# Converting the value to a floating point number\n",
    "agg_close_price = float(df_portfolio[\"AGG\"][\"close\"])\n",
    "\n",
    "# Print the AGG closing price\n",
    "print(agg_close_price)\n",
    "print(type(agg_close_price))\n"
   ]
  },
  {
   "cell_type": "code",
   "execution_count": 20,
   "metadata": {},
   "outputs": [
    {
     "name": "stdout",
     "output_type": "stream",
     "text": [
      "334.57\n",
      "<class 'float'>\n"
     ]
    }
   ],
   "source": [
    "# Access the closing price for SPY from the Alpaca DataFrame\n",
    "# Converting the value to a floating point number\n",
    "spy_close_price = agg_close_price = float(df_portfolio[\"SPY\"][\"close\"])\n",
    "\n",
    "# Print the SPY closing price\n",
    "print(spy_close_price)\n",
    "print(type(spy_close_price))"
   ]
  },
  {
   "cell_type": "markdown",
   "metadata": {},
   "source": [
    "#### Step 6: Calculate the value, in US dollars, of the current amount of shares in each of the stock and bond portions of the portfolio, and print the results."
   ]
  },
  {
   "cell_type": "code",
   "execution_count": 21,
   "metadata": {},
   "outputs": [
    {
     "name": "stdout",
     "output_type": "stream",
     "text": [
      "The current value of the 200 is $66914.00\n"
     ]
    }
   ],
   "source": [
    "# Calculate the current value of the bond portion of the portfolio\n",
    "\n",
    "agg_value = agg_close_price * agg_shares\n",
    "print(f\"The current value of the {agg_shares} is ${agg_value:0.2f}\")\n",
    "\n",
    "                                            "
   ]
  },
  {
   "cell_type": "code",
   "execution_count": null,
   "metadata": {},
   "outputs": [],
   "source": []
  },
  {
   "cell_type": "code",
   "execution_count": 22,
   "metadata": {},
   "outputs": [
    {
     "name": "stdout",
     "output_type": "stream",
     "text": [
      "The current value of the 110 is $36802.70\n"
     ]
    }
   ],
   "source": [
    "# Calculate the current value of the stock portion of the portfolio\n",
    "spy_value = spy_shares*spy_close_price\n",
    "\n",
    "# Print the current value of the stock portfolio\n",
    "print(f\"The current value of the {spy_shares} is ${spy_value:0.2f}\")\n"
   ]
  },
  {
   "cell_type": "code",
   "execution_count": 23,
   "metadata": {},
   "outputs": [
    {
     "name": "stdout",
     "output_type": "stream",
     "text": [
      "The total value of the stock and bond portion of the portfolio is $103716.70\n"
     ]
    }
   ],
   "source": [
    "# Calculate the total value of the stock and bond portion of the portfolio\n",
    "total_stocks_bonds = agg_value + spy_value\n",
    "print(f\"The total value of the stock and bond portion of the portfolio is ${total_stocks_bonds:0.2f}\")\n",
    "\n"
   ]
  },
  {
   "cell_type": "code",
   "execution_count": 24,
   "metadata": {},
   "outputs": [
    {
     "name": "stdout",
     "output_type": "stream",
     "text": [
      "The current value of the is $140001.47\n"
     ]
    }
   ],
   "source": [
    "# Calculate the total value of the member's entire savings portfolio\n",
    "# Add the value of the cryptocurrency walled to the value of the total stocks and bonds\n",
    "\n",
    "total_portfolio = total_crypto_wallet + total_stocks_bonds\n",
    "print(f\"The current value of the is ${total_portfolio:0.2f}\")\n"
   ]
  },
  {
   "cell_type": "code",
   "execution_count": null,
   "metadata": {},
   "outputs": [],
   "source": []
  },
  {
   "cell_type": "markdown",
   "metadata": {},
   "source": [
    "### Evaluate the Emergency Fund\n",
    "\n",
    "In this section, you’ll use the valuations for the cryptocurrency wallet and for the stock and bond portions of the portfolio to determine if the credit union member has enough savings to build an emergency fund into their financial plan. To do this, complete the following steps:\n",
    "\n",
    "1. Create a Python list named `savings_data` that has two elements. The first element contains the total value of the cryptocurrency wallet. The second element contains the total value of the stock and bond portions of the portfolio.\n",
    "\n",
    "2. Use the `savings_data` list to create a Pandas DataFrame named `savings_df`, and then display this DataFrame. The function to create the DataFrame should take the following three parameters:\n",
    "\n",
    "    - `savings_data`: Use the list that you just created.\n",
    "\n",
    "    - `columns`: Set this parameter equal to a Python list with a single value called `amount`.\n",
    "\n",
    "    - `index`: Set this parameter equal to a Python list with the values of `crypto` and `stock/bond`.\n",
    "\n",
    "3. Use the `savings_df` DataFrame to plot a pie chart that visualizes the composition of the member’s portfolio. The y-axis of the pie chart uses `amount`. Be sure to add a title.\n",
    "\n",
    "4. Using Python, determine if the current portfolio has enough to create an emergency fund as part of the member’s financial plan. Ideally, an emergency fund should equal to three times the member’s monthly income. To do this, implement the following steps:\n",
    "\n",
    "    1. Create a variable named `emergency_fund_value`, and set it equal to three times the value of the member’s `monthly_income` of $12000. (You set this earlier in Part 1).\n",
    "\n",
    "    2. Create a series of three if statements to determine if the member’s total portfolio is large enough to fund the emergency portfolio:\n",
    "\n",
    "        1. If the total portfolio value is greater than the emergency fund value, display a message congratulating the member for having enough money in this fund.\n",
    "\n",
    "        2. Else if the total portfolio value is equal to the emergency fund value, display a message congratulating the member on reaching this important financial goal.\n",
    "\n",
    "        3. Else the total portfolio is less than the emergency fund value, so display a message showing how many dollars away the member is from reaching the goal. (Subtract the total portfolio value from the emergency fund value.)\n"
   ]
  },
  {
   "cell_type": "markdown",
   "metadata": {},
   "source": [
    "#### Step 1: Create a Python list named `savings_data` that has two elements. The first element contains the total value of the cryptocurrency wallet. The second element contains the total value of the stock and bond portions of the portfolio."
   ]
  },
  {
   "cell_type": "code",
   "execution_count": 25,
   "metadata": {},
   "outputs": [
    {
     "name": "stdout",
     "output_type": "stream",
     "text": [
      "[36284.769, 103716.7]\n"
     ]
    }
   ],
   "source": [
    "# Consolidate financial assets data into a Python list\n",
    "\n",
    "savings_data = [total_crypto_wallet, total_stocks_bonds]\n",
    "print(savings_data)\n",
    "\n",
    "# Review the Python list savings_data\n"
   ]
  },
  {
   "cell_type": "markdown",
   "metadata": {},
   "source": [
    "#### Step 2: Use the `savings_data` list to create a Pandas DataFrame named `savings_df`, and then display this DataFrame. The function to create the DataFrame should take the following three parameters:\n",
    "\n",
    "- `savings_data`: Use the list that you just created.\n",
    "\n",
    "- `columns`: Set this parameter equal to a Python list with a single value called `amount`.\n",
    "\n",
    "- `index`: Set this parameter equal to a Python list with the values of `crypto` and `stock/bond`.\n"
   ]
  },
  {
   "cell_type": "code",
   "execution_count": 26,
   "metadata": {},
   "outputs": [
    {
     "name": "stdout",
     "output_type": "stream",
     "text": [
      "                amount\n",
      "crypto       36284.769\n",
      "stock/bond  103716.700\n"
     ]
    },
    {
     "data": {
      "text/html": [
       "<div>\n",
       "<style scoped>\n",
       "    .dataframe tbody tr th:only-of-type {\n",
       "        vertical-align: middle;\n",
       "    }\n",
       "\n",
       "    .dataframe tbody tr th {\n",
       "        vertical-align: top;\n",
       "    }\n",
       "\n",
       "    .dataframe thead th {\n",
       "        text-align: right;\n",
       "    }\n",
       "</style>\n",
       "<table border=\"1\" class=\"dataframe\">\n",
       "  <thead>\n",
       "    <tr style=\"text-align: right;\">\n",
       "      <th></th>\n",
       "      <th>amount</th>\n",
       "    </tr>\n",
       "  </thead>\n",
       "  <tbody>\n",
       "    <tr>\n",
       "      <th>crypto</th>\n",
       "      <td>36284.769</td>\n",
       "    </tr>\n",
       "    <tr>\n",
       "      <th>stock/bond</th>\n",
       "      <td>103716.700</td>\n",
       "    </tr>\n",
       "  </tbody>\n",
       "</table>\n",
       "</div>"
      ],
      "text/plain": [
       "                amount\n",
       "crypto       36284.769\n",
       "stock/bond  103716.700"
      ]
     },
     "metadata": {},
     "output_type": "display_data"
    }
   ],
   "source": [
    "# Create a Pandas DataFrame called savings_df \n",
    "savings_df  = pd.DataFrame(\n",
    "   savings_data,\n",
    "   columns = [\"amount\"],\n",
    "    index = [\"crypto\",\"stock/bond\"]\n",
    ")\n",
    "\n",
    "# Display sample data\n",
    "print(savings_df)\n",
    "\n",
    "# Display the savings_df DataFrame\n",
    "display(savings_df)\n"
   ]
  },
  {
   "cell_type": "code",
   "execution_count": null,
   "metadata": {},
   "outputs": [],
   "source": []
  },
  {
   "cell_type": "markdown",
   "metadata": {},
   "source": [
    "#### Step 3: Use the `savings_df` DataFrame to plot a pie chart that visualizes the composition of the member’s portfolio. The y-axis of the pie chart uses `amount`. Be sure to add a title."
   ]
  },
  {
   "cell_type": "code",
   "execution_count": 27,
   "metadata": {},
   "outputs": [
    {
     "name": "stdout",
     "output_type": "stream",
     "text": [
      "                amount\n",
      "crypto       36284.769\n",
      "stock/bond  103716.700\n"
     ]
    },
    {
     "data": {
      "text/html": [
       "<div>\n",
       "<style scoped>\n",
       "    .dataframe tbody tr th:only-of-type {\n",
       "        vertical-align: middle;\n",
       "    }\n",
       "\n",
       "    .dataframe tbody tr th {\n",
       "        vertical-align: top;\n",
       "    }\n",
       "\n",
       "    .dataframe thead th {\n",
       "        text-align: right;\n",
       "    }\n",
       "</style>\n",
       "<table border=\"1\" class=\"dataframe\">\n",
       "  <thead>\n",
       "    <tr style=\"text-align: right;\">\n",
       "      <th></th>\n",
       "      <th>amount</th>\n",
       "    </tr>\n",
       "  </thead>\n",
       "  <tbody>\n",
       "    <tr>\n",
       "      <th>crypto</th>\n",
       "      <td>36284.769</td>\n",
       "    </tr>\n",
       "    <tr>\n",
       "      <th>stock/bond</th>\n",
       "      <td>103716.700</td>\n",
       "    </tr>\n",
       "  </tbody>\n",
       "</table>\n",
       "</div>"
      ],
      "text/plain": [
       "                amount\n",
       "crypto       36284.769\n",
       "stock/bond  103716.700"
      ]
     },
     "metadata": {},
     "output_type": "display_data"
    }
   ],
   "source": [
    "pie_savings_df  = pd.DataFrame(\n",
    "   savings_data,\n",
    "   columns = [\"amount\"],\n",
    "    index = [\"crypto\",\"stock/bond\"]\n",
    ")\n",
    "\n",
    "# Display sample data\n",
    "print(pie_savings_df)\n",
    "\n",
    "# Display the savings_df DataFrame\n",
    "display(pie_savings_df )"
   ]
  },
  {
   "cell_type": "code",
   "execution_count": 28,
   "metadata": {},
   "outputs": [
    {
     "data": {
      "text/plain": [
       "<AxesSubplot:title={'center':' Member’s Total Portfolio'}, ylabel='amount'>"
      ]
     },
     "execution_count": 28,
     "metadata": {},
     "output_type": "execute_result"
    },
    {
     "data": {
      "image/png": "[encoded data removed]",
      "text/plain": [
       "<Figure size 432x288 with 1 Axes>"
      ]
     },
     "metadata": {},
     "output_type": "display_data"
    }
   ],
   "source": [
    "# Plot the total value of the member's portfolio (crypto and stock/bond) in a pie chart\n",
    "pie_savings_df.plot.pie(y=\"amount\", title=\" Member’s Total Portfolio\")\n"
   ]
  },
  {
   "cell_type": "markdown",
   "metadata": {},
   "source": [
    "#### Step 4: Using Python, determine if the current portfolio has enough to create an emergency fund as part of the member’s financial plan. Ideally, an emergency fund should equal to three times the member’s monthly income. To do this, implement the following steps:\n",
    "\n",
    "Step 1. Create a variable named `emergency_fund_value`, and set it equal to three times the value of the member’s `monthly_income` of 12000. (You set this earlier in Part 1).\n",
    "\n",
    "Step 2. Create a series of three if statements to determine if the member’s total portfolio is large enough to fund the emergency portfolio:\n",
    "\n",
    "* If the total portfolio value is greater than the emergency fund value, display a message congratulating the member for having enough money in this fund.\n",
    "\n",
    "* Else if the total portfolio value is equal to the emergency fund value, display a message congratulating the member on reaching this important financial goal.\n",
    "\n",
    "* Else the total portfolio is less than the emergency fund value, so display a message showing how many dollars away the member is from reaching the goal. (Subtract the total portfolio value from the emergency fund value.)\n"
   ]
  },
  {
   "cell_type": "markdown",
   "metadata": {},
   "source": [
    "##### Step 4-1: Create a variable named `emergency_fund_value`, and set it equal to three times the value of the member’s `monthly_income` of 12000. (You set this earlier in Part 1)."
   ]
  },
  {
   "cell_type": "code",
   "execution_count": 29,
   "metadata": {},
   "outputs": [],
   "source": [
    "# Create a variable named emergency_fund_value\n",
    "emergency_fund_value = monthly_income\n",
    "total_portfolio_value = total_crypto_wallet + total_stocks_bonds\n"
   ]
  },
  {
   "cell_type": "markdown",
   "metadata": {},
   "source": [
    "##### Step 4-2: Create a series of three if statements to determine if the member’s total portfolio is large enough to fund the emergency portfolio:\n",
    "\n",
    "* If the total portfolio value is greater than the emergency fund value, display a message congratulating the member for having enough money in this fund.\n",
    "\n",
    "* Else if the total portfolio value is equal to the emergency fund value, display a message congratulating the member on reaching this important financial goal.\n",
    "\n",
    "* Else the total portfolio is less than the emergency fund value, so display a message showing how many dollars away the member is from reaching the goal. (Subtract the total portfolio value from the emergency fund value.)"
   ]
  },
  {
   "cell_type": "code",
   "execution_count": 30,
   "metadata": {},
   "outputs": [
    {
     "name": "stdout",
     "output_type": "stream",
     "text": [
      "Dear Sir or Madam, Congratulation your total portfolio has sufficient funds in the amount of $140001.46899999998\n"
     ]
    }
   ],
   "source": [
    "# Evaluate the possibility of creating an emergency fund with 3 conditions: state if the member’s total portfolio is large enough to fund the emergency portfolio:\n",
    "if  total_portfolio_value > emergency_fund_value: \n",
    "    print(f\"Dear Sir or Madam, Congratulation your total portfolio has sufficient funds in the amount of ${total_portfolio_value}\")\n",
    "    \n",
    "elif total_portfolio_value == emergency_fund_value:\n",
    "    print(f\"Congratulating on reaching this important financial goal\")\n",
    "    \n",
    "else: \n",
    "    total_portfolio_value < emergency_fund_value\n",
    "    print(f\"approximately ${total_portfolio_value - emergency_fund_value:0.2f} more than you emergency fund, which is more than enough to fund your emergency portfolio with ${emergency_fund_value:0.2f}\")\n"
   ]
  },
  {
   "cell_type": "markdown",
   "metadata": {},
   "source": [
    "## Part 2: Create a Financial Planner for Retirement"
   ]
  },
  {
   "cell_type": "markdown",
   "metadata": {},
   "source": [
    "### Create the Monte Carlo Simulation\n",
    "\n",
    "In this section, you’ll use the MCForecastTools library to create a Monte Carlo simulation for the member’s savings portfolio. To do this, complete the following steps:\n",
    "\n",
    "1. Make an API call via the Alpaca SDK to get 3 years of historical closing prices for a traditional 60/40 portfolio split: 60% stocks (SPY) and 40% bonds (AGG).\n",
    "\n",
    "2. Run a Monte Carlo simulation of 500 samples and 30 years for the 60/40 portfolio, and then plot the results.The following image shows the overlay line plot resulting from a simulation with these characteristics. However, because a random number generator is used to run each live Monte Carlo simulation, your image will differ slightly from this exact image:\n",
    "\n",
    "![A screenshot depicts the resulting plot.](Images/5-4-monte-carlo-line-plot.png)\n",
    "\n",
    "3. Plot the probability distribution of the Monte Carlo simulation. Plot the probability distribution of the Monte Carlo simulation. The following image shows the histogram plot resulting from a simulation with these characteristics. However, because a random number generator is used to run each live Monte Carlo simulation, your image will differ slightly from this exact image:\n",
    "\n",
    "![A screenshot depicts the histogram plot.](Images/5-4-monte-carlo-histogram.png)\n",
    "\n",
    "4. Generate the summary statistics for the Monte Carlo simulation.\n",
    "\n"
   ]
  },
  {
   "cell_type": "markdown",
   "metadata": {},
   "source": [
    "#### Step 1: Make an API call via the Alpaca SDK to get 3 years of historical closing prices for a traditional 60/40 portfolio split: 60% stocks (SPY) and 40% bonds (AGG)."
   ]
  },
  {
   "cell_type": "code",
   "execution_count": 31,
   "metadata": {},
   "outputs": [],
   "source": [
    "# Set start and end dates of 3 years back from your current date\n",
    "# Alternatively, you can use an end date of 2020-08-07 and work 3 years back from that date \n",
    "\n"
   ]
  },
  {
   "cell_type": "code",
   "execution_count": 32,
   "metadata": {},
   "outputs": [
    {
     "data": {
      "text/html": [
       "<div>\n",
       "<style scoped>\n",
       "    .dataframe tbody tr th:only-of-type {\n",
       "        vertical-align: middle;\n",
       "    }\n",
       "\n",
       "    .dataframe tbody tr th {\n",
       "        vertical-align: top;\n",
       "    }\n",
       "\n",
       "    .dataframe thead tr th {\n",
       "        text-align: left;\n",
       "    }\n",
       "\n",
       "    .dataframe thead tr:last-of-type th {\n",
       "        text-align: right;\n",
       "    }\n",
       "</style>\n",
       "<table border=\"1\" class=\"dataframe\">\n",
       "  <thead>\n",
       "    <tr>\n",
       "      <th></th>\n",
       "      <th colspan=\"7\" halign=\"left\">SPY</th>\n",
       "      <th colspan=\"7\" halign=\"left\">AGG</th>\n",
       "    </tr>\n",
       "    <tr>\n",
       "      <th></th>\n",
       "      <th>open</th>\n",
       "      <th>high</th>\n",
       "      <th>low</th>\n",
       "      <th>close</th>\n",
       "      <th>volume</th>\n",
       "      <th>trade_count</th>\n",
       "      <th>vwap</th>\n",
       "      <th>open</th>\n",
       "      <th>high</th>\n",
       "      <th>low</th>\n",
       "      <th>close</th>\n",
       "      <th>volume</th>\n",
       "      <th>trade_count</th>\n",
       "      <th>vwap</th>\n",
       "    </tr>\n",
       "    <tr>\n",
       "      <th>timestamp</th>\n",
       "      <th></th>\n",
       "      <th></th>\n",
       "      <th></th>\n",
       "      <th></th>\n",
       "      <th></th>\n",
       "      <th></th>\n",
       "      <th></th>\n",
       "      <th></th>\n",
       "      <th></th>\n",
       "      <th></th>\n",
       "      <th></th>\n",
       "      <th></th>\n",
       "      <th></th>\n",
       "      <th></th>\n",
       "    </tr>\n",
       "  </thead>\n",
       "  <tbody>\n",
       "    <tr>\n",
       "      <th>2017-08-07 04:00:00+00:00</th>\n",
       "      <td>247.50</td>\n",
       "      <td>247.87</td>\n",
       "      <td>247.37</td>\n",
       "      <td>247.87</td>\n",
       "      <td>31995021</td>\n",
       "      <td>100111</td>\n",
       "      <td>247.668698</td>\n",
       "      <td>109.69</td>\n",
       "      <td>109.72</td>\n",
       "      <td>109.6066</td>\n",
       "      <td>109.67</td>\n",
       "      <td>2359826</td>\n",
       "      <td>7755</td>\n",
       "      <td>109.674876</td>\n",
       "    </tr>\n",
       "    <tr>\n",
       "      <th>2017-08-08 04:00:00+00:00</th>\n",
       "      <td>247.49</td>\n",
       "      <td>248.91</td>\n",
       "      <td>246.83</td>\n",
       "      <td>247.26</td>\n",
       "      <td>61719353</td>\n",
       "      <td>192921</td>\n",
       "      <td>247.739709</td>\n",
       "      <td>109.67</td>\n",
       "      <td>109.69</td>\n",
       "      <td>109.5000</td>\n",
       "      <td>109.57</td>\n",
       "      <td>2570876</td>\n",
       "      <td>12663</td>\n",
       "      <td>109.577636</td>\n",
       "    </tr>\n",
       "    <tr>\n",
       "      <th>2017-08-09 04:00:00+00:00</th>\n",
       "      <td>246.46</td>\n",
       "      <td>247.31</td>\n",
       "      <td>246.06</td>\n",
       "      <td>247.25</td>\n",
       "      <td>62632619</td>\n",
       "      <td>223650</td>\n",
       "      <td>246.791421</td>\n",
       "      <td>109.87</td>\n",
       "      <td>109.87</td>\n",
       "      <td>109.6600</td>\n",
       "      <td>109.67</td>\n",
       "      <td>2308932</td>\n",
       "      <td>11031</td>\n",
       "      <td>109.771749</td>\n",
       "    </tr>\n",
       "    <tr>\n",
       "      <th>2017-08-10 04:00:00+00:00</th>\n",
       "      <td>246.30</td>\n",
       "      <td>246.44</td>\n",
       "      <td>243.70</td>\n",
       "      <td>243.76</td>\n",
       "      <td>120418270</td>\n",
       "      <td>424321</td>\n",
       "      <td>245.027847</td>\n",
       "      <td>109.70</td>\n",
       "      <td>109.85</td>\n",
       "      <td>109.6700</td>\n",
       "      <td>109.78</td>\n",
       "      <td>2004163</td>\n",
       "      <td>12437</td>\n",
       "      <td>109.776611</td>\n",
       "    </tr>\n",
       "    <tr>\n",
       "      <th>2017-08-11 04:00:00+00:00</th>\n",
       "      <td>244.00</td>\n",
       "      <td>244.80</td>\n",
       "      <td>243.75</td>\n",
       "      <td>244.12</td>\n",
       "      <td>74869947</td>\n",
       "      <td>278786</td>\n",
       "      <td>244.222867</td>\n",
       "      <td>109.75</td>\n",
       "      <td>109.94</td>\n",
       "      <td>109.6800</td>\n",
       "      <td>109.87</td>\n",
       "      <td>1913253</td>\n",
       "      <td>10113</td>\n",
       "      <td>109.860974</td>\n",
       "    </tr>\n",
       "  </tbody>\n",
       "</table>\n",
       "</div>"
      ],
      "text/plain": [
       "                              SPY                                     \\\n",
       "                             open    high     low   close     volume   \n",
       "timestamp                                                              \n",
       "2017-08-07 04:00:00+00:00  247.50  247.87  247.37  247.87   31995021   \n",
       "2017-08-08 04:00:00+00:00  247.49  248.91  246.83  247.26   61719353   \n",
       "2017-08-09 04:00:00+00:00  246.46  247.31  246.06  247.25   62632619   \n",
       "2017-08-10 04:00:00+00:00  246.30  246.44  243.70  243.76  120418270   \n",
       "2017-08-11 04:00:00+00:00  244.00  244.80  243.75  244.12   74869947   \n",
       "\n",
       "                                                      AGG                    \\\n",
       "                          trade_count        vwap    open    high       low   \n",
       "timestamp                                                                     \n",
       "2017-08-07 04:00:00+00:00      100111  247.668698  109.69  109.72  109.6066   \n",
       "2017-08-08 04:00:00+00:00      192921  247.739709  109.67  109.69  109.5000   \n",
       "2017-08-09 04:00:00+00:00      223650  246.791421  109.87  109.87  109.6600   \n",
       "2017-08-10 04:00:00+00:00      424321  245.027847  109.70  109.85  109.6700   \n",
       "2017-08-11 04:00:00+00:00      278786  244.222867  109.75  109.94  109.6800   \n",
       "\n",
       "                                                                    \n",
       "                            close   volume trade_count        vwap  \n",
       "timestamp                                                           \n",
       "2017-08-07 04:00:00+00:00  109.67  2359826        7755  109.674876  \n",
       "2017-08-08 04:00:00+00:00  109.57  2570876       12663  109.577636  \n",
       "2017-08-09 04:00:00+00:00  109.67  2308932       11031  109.771749  \n",
       "2017-08-10 04:00:00+00:00  109.78  2004163       12437  109.776611  \n",
       "2017-08-11 04:00:00+00:00  109.87  1913253       10113  109.860974  "
      ]
     },
     "execution_count": 32,
     "metadata": {},
     "output_type": "execute_result"
    }
   ],
   "source": [
    "# Use the Alpaca get_bars function to make the API call to get the 3 years worth of pricing data\n",
    "# The tickers and timeframe parameters should have been set in Part 1 of this activity \n",
    "# The start and end dates should be updated with the information set above\n",
    "# Remember to add the df property to the end of the call so the response is returned as a DataFrame\n",
    "\n",
    "tickers = [\"SPY\",\"AGG\"]\n",
    "timeframe = \"1Day\"\n",
    "\n",
    "start_date = pd.Timestamp(\"2017-08-07\", tz=\"America/New_York\").isoformat()\n",
    "end_date = pd.Timestamp(\"2020-08-07\", tz=\"America/New_York\").isoformat()\n",
    "\n",
    "\n",
    "df_portfolio = alpaca.get_bars(\n",
    "    tickers,\n",
    "    timeframe,\n",
    "    start = start_date,\n",
    "    end = end_date\n",
    ").df\n",
    "\n",
    "# Display sample data\n",
    "df_portfolio\n",
    "\n",
    "# Reorganize the DataFrame by separating ticker data\n",
    "#tickers = [\"SPY\", \"AGG\"]\n",
    "SPY = df_portfolio[df_portfolio['symbol']=='SPY'].drop('symbol', axis=1)\n",
    "AGG = df_portfolio[df_portfolio['symbol']=='AGG'].drop('symbol', axis=1)\n",
    "\n",
    "# Concatenate the Ticker DataFrames\n",
    "df_portfolio = pd.concat([SPY,AGG],axis=1, keys=['SPY','AGG'])\n",
    "\n",
    "# Display sample data\n",
    "df_portfolio.head()\n"
   ]
  },
  {
   "cell_type": "markdown",
   "metadata": {},
   "source": [
    "#### Step 2: Run a Monte Carlo simulation of 500 samples and 30 years for the 60/40 portfolio, and then plot the results."
   ]
  },
  {
   "cell_type": "code",
   "execution_count": 33,
   "metadata": {},
   "outputs": [
    {
     "name": "stdout",
     "output_type": "stream",
     "text": [
      "Running Monte Carlo simulation number 0.\n",
      "Running Monte Carlo simulation number 10.\n",
      "Running Monte Carlo simulation number 20.\n",
      "Running Monte Carlo simulation number 30.\n",
      "Running Monte Carlo simulation number 40.\n",
      "Running Monte Carlo simulation number 50.\n",
      "Running Monte Carlo simulation number 60.\n",
      "Running Monte Carlo simulation number 70.\n",
      "Running Monte Carlo simulation number 80.\n",
      "Running Monte Carlo simulation number 90.\n",
      "Running Monte Carlo simulation number 100.\n"
     ]
    },
    {
     "name": "stderr",
     "output_type": "stream",
     "text": [
      "/Users/crystalevans/finTech/Module5/MCForecastTools.py:117: PerformanceWarning: DataFrame is highly fragmented.  This is usually the result of calling `frame.insert` many times, which has poor performance.  Consider joining all columns at once using pd.concat(axis=1) instead.  To get a de-fragmented frame, use `newframe = frame.copy()`\n",
      "  portfolio_cumulative_returns[n] = (1 + sim_df.fillna(0)).cumprod()\n"
     ]
    },
    {
     "name": "stdout",
     "output_type": "stream",
     "text": [
      "Running Monte Carlo simulation number 110.\n",
      "Running Monte Carlo simulation number 120.\n",
      "Running Monte Carlo simulation number 130.\n",
      "Running Monte Carlo simulation number 140.\n",
      "Running Monte Carlo simulation number 150.\n",
      "Running Monte Carlo simulation number 160.\n",
      "Running Monte Carlo simulation number 170.\n",
      "Running Monte Carlo simulation number 180.\n",
      "Running Monte Carlo simulation number 190.\n",
      "Running Monte Carlo simulation number 200.\n",
      "Running Monte Carlo simulation number 210.\n",
      "Running Monte Carlo simulation number 220.\n",
      "Running Monte Carlo simulation number 230.\n",
      "Running Monte Carlo simulation number 240.\n",
      "Running Monte Carlo simulation number 250.\n",
      "Running Monte Carlo simulation number 260.\n",
      "Running Monte Carlo simulation number 270.\n",
      "Running Monte Carlo simulation number 280.\n",
      "Running Monte Carlo simulation number 290.\n",
      "Running Monte Carlo simulation number 300.\n",
      "Running Monte Carlo simulation number 310.\n",
      "Running Monte Carlo simulation number 320.\n",
      "Running Monte Carlo simulation number 330.\n",
      "Running Monte Carlo simulation number 340.\n",
      "Running Monte Carlo simulation number 350.\n",
      "Running Monte Carlo simulation number 360.\n",
      "Running Monte Carlo simulation number 370.\n",
      "Running Monte Carlo simulation number 380.\n",
      "Running Monte Carlo simulation number 390.\n",
      "Running Monte Carlo simulation number 400.\n",
      "Running Monte Carlo simulation number 410.\n",
      "Running Monte Carlo simulation number 420.\n",
      "Running Monte Carlo simulation number 430.\n",
      "Running Monte Carlo simulation number 440.\n",
      "Running Monte Carlo simulation number 450.\n",
      "Running Monte Carlo simulation number 460.\n",
      "Running Monte Carlo simulation number 470.\n",
      "Running Monte Carlo simulation number 480.\n",
      "Running Monte Carlo simulation number 490.\n"
     ]
    },
    {
     "data": {
      "text/html": [
       "<div>\n",
       "<style scoped>\n",
       "    .dataframe tbody tr th:only-of-type {\n",
       "        vertical-align: middle;\n",
       "    }\n",
       "\n",
       "    .dataframe tbody tr th {\n",
       "        vertical-align: top;\n",
       "    }\n",
       "\n",
       "    .dataframe thead th {\n",
       "        text-align: right;\n",
       "    }\n",
       "</style>\n",
       "<table border=\"1\" class=\"dataframe\">\n",
       "  <thead>\n",
       "    <tr style=\"text-align: right;\">\n",
       "      <th></th>\n",
       "      <th>0</th>\n",
       "      <th>1</th>\n",
       "      <th>2</th>\n",
       "      <th>3</th>\n",
       "      <th>4</th>\n",
       "      <th>5</th>\n",
       "      <th>6</th>\n",
       "      <th>7</th>\n",
       "      <th>8</th>\n",
       "      <th>9</th>\n",
       "      <th>...</th>\n",
       "      <th>490</th>\n",
       "      <th>491</th>\n",
       "      <th>492</th>\n",
       "      <th>493</th>\n",
       "      <th>494</th>\n",
       "      <th>495</th>\n",
       "      <th>496</th>\n",
       "      <th>497</th>\n",
       "      <th>498</th>\n",
       "      <th>499</th>\n",
       "    </tr>\n",
       "  </thead>\n",
       "  <tbody>\n",
       "    <tr>\n",
       "      <th>0</th>\n",
       "      <td>1.000000</td>\n",
       "      <td>1.000000</td>\n",
       "      <td>1.000000</td>\n",
       "      <td>1.000000</td>\n",
       "      <td>1.000000</td>\n",
       "      <td>1.000000</td>\n",
       "      <td>1.000000</td>\n",
       "      <td>1.000000</td>\n",
       "      <td>1.000000</td>\n",
       "      <td>1.000000</td>\n",
       "      <td>...</td>\n",
       "      <td>1.000000</td>\n",
       "      <td>1.000000</td>\n",
       "      <td>1.000000</td>\n",
       "      <td>1.000000</td>\n",
       "      <td>1.000000</td>\n",
       "      <td>1.000000</td>\n",
       "      <td>1.000000</td>\n",
       "      <td>1.000000</td>\n",
       "      <td>1.000000</td>\n",
       "      <td>1.000000</td>\n",
       "    </tr>\n",
       "    <tr>\n",
       "      <th>1</th>\n",
       "      <td>1.007073</td>\n",
       "      <td>1.008843</td>\n",
       "      <td>1.002855</td>\n",
       "      <td>1.017875</td>\n",
       "      <td>0.994588</td>\n",
       "      <td>0.995400</td>\n",
       "      <td>0.986012</td>\n",
       "      <td>0.994105</td>\n",
       "      <td>1.007706</td>\n",
       "      <td>1.011057</td>\n",
       "      <td>...</td>\n",
       "      <td>1.007791</td>\n",
       "      <td>0.984327</td>\n",
       "      <td>0.999728</td>\n",
       "      <td>1.003142</td>\n",
       "      <td>1.005986</td>\n",
       "      <td>0.993295</td>\n",
       "      <td>1.003970</td>\n",
       "      <td>1.004486</td>\n",
       "      <td>0.994921</td>\n",
       "      <td>0.998232</td>\n",
       "    </tr>\n",
       "    <tr>\n",
       "      <th>2</th>\n",
       "      <td>0.999520</td>\n",
       "      <td>1.029940</td>\n",
       "      <td>1.013734</td>\n",
       "      <td>1.010261</td>\n",
       "      <td>1.010309</td>\n",
       "      <td>0.989309</td>\n",
       "      <td>0.977977</td>\n",
       "      <td>0.990992</td>\n",
       "      <td>1.019459</td>\n",
       "      <td>1.007835</td>\n",
       "      <td>...</td>\n",
       "      <td>1.003276</td>\n",
       "      <td>0.983885</td>\n",
       "      <td>1.007272</td>\n",
       "      <td>1.002302</td>\n",
       "      <td>1.010837</td>\n",
       "      <td>0.997499</td>\n",
       "      <td>0.986971</td>\n",
       "      <td>0.988156</td>\n",
       "      <td>0.997905</td>\n",
       "      <td>0.984040</td>\n",
       "    </tr>\n",
       "    <tr>\n",
       "      <th>3</th>\n",
       "      <td>0.981731</td>\n",
       "      <td>1.038798</td>\n",
       "      <td>1.027101</td>\n",
       "      <td>1.010385</td>\n",
       "      <td>1.010624</td>\n",
       "      <td>0.988523</td>\n",
       "      <td>0.979893</td>\n",
       "      <td>0.986157</td>\n",
       "      <td>1.029579</td>\n",
       "      <td>1.008525</td>\n",
       "      <td>...</td>\n",
       "      <td>1.011463</td>\n",
       "      <td>0.989327</td>\n",
       "      <td>1.015679</td>\n",
       "      <td>1.000439</td>\n",
       "      <td>1.007606</td>\n",
       "      <td>0.997507</td>\n",
       "      <td>0.998458</td>\n",
       "      <td>0.987309</td>\n",
       "      <td>1.011180</td>\n",
       "      <td>0.987569</td>\n",
       "    </tr>\n",
       "    <tr>\n",
       "      <th>4</th>\n",
       "      <td>0.990911</td>\n",
       "      <td>1.036983</td>\n",
       "      <td>1.023704</td>\n",
       "      <td>0.999126</td>\n",
       "      <td>1.024180</td>\n",
       "      <td>0.989534</td>\n",
       "      <td>0.976326</td>\n",
       "      <td>1.002612</td>\n",
       "      <td>1.024873</td>\n",
       "      <td>1.002763</td>\n",
       "      <td>...</td>\n",
       "      <td>1.004596</td>\n",
       "      <td>0.986617</td>\n",
       "      <td>1.013302</td>\n",
       "      <td>1.006000</td>\n",
       "      <td>1.015463</td>\n",
       "      <td>1.013505</td>\n",
       "      <td>1.000498</td>\n",
       "      <td>0.993415</td>\n",
       "      <td>1.019878</td>\n",
       "      <td>0.982540</td>\n",
       "    </tr>\n",
       "    <tr>\n",
       "      <th>...</th>\n",
       "      <td>...</td>\n",
       "      <td>...</td>\n",
       "      <td>...</td>\n",
       "      <td>...</td>\n",
       "      <td>...</td>\n",
       "      <td>...</td>\n",
       "      <td>...</td>\n",
       "      <td>...</td>\n",
       "      <td>...</td>\n",
       "      <td>...</td>\n",
       "      <td>...</td>\n",
       "      <td>...</td>\n",
       "      <td>...</td>\n",
       "      <td>...</td>\n",
       "      <td>...</td>\n",
       "      <td>...</td>\n",
       "      <td>...</td>\n",
       "      <td>...</td>\n",
       "      <td>...</td>\n",
       "      <td>...</td>\n",
       "      <td>...</td>\n",
       "    </tr>\n",
       "    <tr>\n",
       "      <th>1256</th>\n",
       "      <td>1.118053</td>\n",
       "      <td>1.390496</td>\n",
       "      <td>2.740196</td>\n",
       "      <td>1.560509</td>\n",
       "      <td>2.231357</td>\n",
       "      <td>0.919547</td>\n",
       "      <td>1.005732</td>\n",
       "      <td>1.248672</td>\n",
       "      <td>1.594873</td>\n",
       "      <td>1.466658</td>\n",
       "      <td>...</td>\n",
       "      <td>1.358380</td>\n",
       "      <td>1.600050</td>\n",
       "      <td>1.082565</td>\n",
       "      <td>1.591961</td>\n",
       "      <td>1.239567</td>\n",
       "      <td>1.847424</td>\n",
       "      <td>1.461440</td>\n",
       "      <td>1.194184</td>\n",
       "      <td>1.372499</td>\n",
       "      <td>1.108180</td>\n",
       "    </tr>\n",
       "    <tr>\n",
       "      <th>1257</th>\n",
       "      <td>1.125724</td>\n",
       "      <td>1.388237</td>\n",
       "      <td>2.727833</td>\n",
       "      <td>1.557444</td>\n",
       "      <td>2.247204</td>\n",
       "      <td>0.905361</td>\n",
       "      <td>0.986250</td>\n",
       "      <td>1.258083</td>\n",
       "      <td>1.588042</td>\n",
       "      <td>1.489927</td>\n",
       "      <td>...</td>\n",
       "      <td>1.363460</td>\n",
       "      <td>1.610464</td>\n",
       "      <td>1.070285</td>\n",
       "      <td>1.579865</td>\n",
       "      <td>1.247344</td>\n",
       "      <td>1.879044</td>\n",
       "      <td>1.444525</td>\n",
       "      <td>1.210388</td>\n",
       "      <td>1.375723</td>\n",
       "      <td>1.104076</td>\n",
       "    </tr>\n",
       "    <tr>\n",
       "      <th>1258</th>\n",
       "      <td>1.092625</td>\n",
       "      <td>1.383327</td>\n",
       "      <td>2.693928</td>\n",
       "      <td>1.557195</td>\n",
       "      <td>2.237693</td>\n",
       "      <td>0.904615</td>\n",
       "      <td>0.980506</td>\n",
       "      <td>1.249971</td>\n",
       "      <td>1.589848</td>\n",
       "      <td>1.478092</td>\n",
       "      <td>...</td>\n",
       "      <td>1.360958</td>\n",
       "      <td>1.591877</td>\n",
       "      <td>1.076579</td>\n",
       "      <td>1.587946</td>\n",
       "      <td>1.241682</td>\n",
       "      <td>1.883100</td>\n",
       "      <td>1.439964</td>\n",
       "      <td>1.218607</td>\n",
       "      <td>1.374940</td>\n",
       "      <td>1.100947</td>\n",
       "    </tr>\n",
       "    <tr>\n",
       "      <th>1259</th>\n",
       "      <td>1.096425</td>\n",
       "      <td>1.389351</td>\n",
       "      <td>2.709921</td>\n",
       "      <td>1.574157</td>\n",
       "      <td>2.239980</td>\n",
       "      <td>0.909787</td>\n",
       "      <td>0.981487</td>\n",
       "      <td>1.227120</td>\n",
       "      <td>1.590770</td>\n",
       "      <td>1.468303</td>\n",
       "      <td>...</td>\n",
       "      <td>1.356736</td>\n",
       "      <td>1.578000</td>\n",
       "      <td>1.078829</td>\n",
       "      <td>1.590735</td>\n",
       "      <td>1.212072</td>\n",
       "      <td>1.881815</td>\n",
       "      <td>1.460676</td>\n",
       "      <td>1.229502</td>\n",
       "      <td>1.382877</td>\n",
       "      <td>1.115521</td>\n",
       "    </tr>\n",
       "    <tr>\n",
       "      <th>1260</th>\n",
       "      <td>1.092734</td>\n",
       "      <td>1.386622</td>\n",
       "      <td>2.681432</td>\n",
       "      <td>1.588324</td>\n",
       "      <td>2.253068</td>\n",
       "      <td>0.919410</td>\n",
       "      <td>0.971589</td>\n",
       "      <td>1.225012</td>\n",
       "      <td>1.575910</td>\n",
       "      <td>1.468312</td>\n",
       "      <td>...</td>\n",
       "      <td>1.376388</td>\n",
       "      <td>1.586522</td>\n",
       "      <td>1.067963</td>\n",
       "      <td>1.587635</td>\n",
       "      <td>1.201233</td>\n",
       "      <td>1.876836</td>\n",
       "      <td>1.454844</td>\n",
       "      <td>1.239119</td>\n",
       "      <td>1.387404</td>\n",
       "      <td>1.096052</td>\n",
       "    </tr>\n",
       "  </tbody>\n",
       "</table>\n",
       "<p>1261 rows × 500 columns</p>\n",
       "</div>"
      ],
      "text/plain": [
       "           0         1         2         3         4         5         6    \\\n",
       "0     1.000000  1.000000  1.000000  1.000000  1.000000  1.000000  1.000000   \n",
       "1     1.007073  1.008843  1.002855  1.017875  0.994588  0.995400  0.986012   \n",
       "2     0.999520  1.029940  1.013734  1.010261  1.010309  0.989309  0.977977   \n",
       "3     0.981731  1.038798  1.027101  1.010385  1.010624  0.988523  0.979893   \n",
       "4     0.990911  1.036983  1.023704  0.999126  1.024180  0.989534  0.976326   \n",
       "...        ...       ...       ...       ...       ...       ...       ...   \n",
       "1256  1.118053  1.390496  2.740196  1.560509  2.231357  0.919547  1.005732   \n",
       "1257  1.125724  1.388237  2.727833  1.557444  2.247204  0.905361  0.986250   \n",
       "1258  1.092625  1.383327  2.693928  1.557195  2.237693  0.904615  0.980506   \n",
       "1259  1.096425  1.389351  2.709921  1.574157  2.239980  0.909787  0.981487   \n",
       "1260  1.092734  1.386622  2.681432  1.588324  2.253068  0.919410  0.971589   \n",
       "\n",
       "           7         8         9    ...       490       491       492  \\\n",
       "0     1.000000  1.000000  1.000000  ...  1.000000  1.000000  1.000000   \n",
       "1     0.994105  1.007706  1.011057  ...  1.007791  0.984327  0.999728   \n",
       "2     0.990992  1.019459  1.007835  ...  1.003276  0.983885  1.007272   \n",
       "3     0.986157  1.029579  1.008525  ...  1.011463  0.989327  1.015679   \n",
       "4     1.002612  1.024873  1.002763  ...  1.004596  0.986617  1.013302   \n",
       "...        ...       ...       ...  ...       ...       ...       ...   \n",
       "1256  1.248672  1.594873  1.466658  ...  1.358380  1.600050  1.082565   \n",
       "1257  1.258083  1.588042  1.489927  ...  1.363460  1.610464  1.070285   \n",
       "1258  1.249971  1.589848  1.478092  ...  1.360958  1.591877  1.076579   \n",
       "1259  1.227120  1.590770  1.468303  ...  1.356736  1.578000  1.078829   \n",
       "1260  1.225012  1.575910  1.468312  ...  1.376388  1.586522  1.067963   \n",
       "\n",
       "           493       494       495       496       497       498       499  \n",
       "0     1.000000  1.000000  1.000000  1.000000  1.000000  1.000000  1.000000  \n",
       "1     1.003142  1.005986  0.993295  1.003970  1.004486  0.994921  0.998232  \n",
       "2     1.002302  1.010837  0.997499  0.986971  0.988156  0.997905  0.984040  \n",
       "3     1.000439  1.007606  0.997507  0.998458  0.987309  1.011180  0.987569  \n",
       "4     1.006000  1.015463  1.013505  1.000498  0.993415  1.019878  0.982540  \n",
       "...        ...       ...       ...       ...       ...       ...       ...  \n",
       "1256  1.591961  1.239567  1.847424  1.461440  1.194184  1.372499  1.108180  \n",
       "1257  1.579865  1.247344  1.879044  1.444525  1.210388  1.375723  1.104076  \n",
       "1258  1.587946  1.241682  1.883100  1.439964  1.218607  1.374940  1.100947  \n",
       "1259  1.590735  1.212072  1.881815  1.460676  1.229502  1.382877  1.115521  \n",
       "1260  1.587635  1.201233  1.876836  1.454844  1.239119  1.387404  1.096052  \n",
       "\n",
       "[1261 rows x 500 columns]"
      ]
     },
     "execution_count": 33,
     "metadata": {},
     "output_type": "execute_result"
    }
   ],
   "source": [
    "# Configure the Monte Carlo simulation to forecast 30 years cumulative returns\n",
    "# The weights should be split 40% to AGG and 60% to SPY.\n",
    "# Run 500 samples.\n",
    "MC_fiveyear = MCSimulation(\n",
    "    portfolio_data = df_portfolio,\n",
    "    weights = [.60,.40],\n",
    "    num_simulation = 500,\n",
    "    num_trading_days = 252*5\n",
    ")\n",
    "\n",
    "# Review the simulation input data\n",
    "MC_fiveyear.portfolio_data.head()\n",
    "MC_fiveyear.calc_cumulative_return()\n"
   ]
  },
  {
   "cell_type": "code",
   "execution_count": 34,
   "metadata": {},
   "outputs": [
    {
     "data": {
      "image/png": "[encoded data removed]",
      "text/plain": [
       "<Figure size 432x288 with 1 Axes>"
      ]
     },
     "metadata": {
      "needs_background": "light"
     },
     "output_type": "display_data"
    }
   ],
   "source": [
    "# Visualize the 5-year Monte Carlo simulation by creating an\n",
    "# overlay line plot\n",
    "# Plot simulation outcomes\n",
    "MC_sim_line_plot = MC_fiveyear.plot_simulation()\n",
    "\n",
    "# Save the plot for future use\n",
    "MC_sim_line_plot.get_figure().savefig(\"MC_fiveyear_sim_plot.png\", bbox_inches=\"tight\")"
   ]
  },
  {
   "cell_type": "code",
   "execution_count": 35,
   "metadata": {},
   "outputs": [
    {
     "name": "stdout",
     "output_type": "stream",
     "text": [
      "Running Monte Carlo simulation number 0.\n",
      "Running Monte Carlo simulation number 10.\n",
      "Running Monte Carlo simulation number 20.\n",
      "Running Monte Carlo simulation number 30.\n",
      "Running Monte Carlo simulation number 40.\n",
      "Running Monte Carlo simulation number 50.\n",
      "Running Monte Carlo simulation number 60.\n",
      "Running Monte Carlo simulation number 70.\n",
      "Running Monte Carlo simulation number 80.\n",
      "Running Monte Carlo simulation number 90.\n",
      "Running Monte Carlo simulation number 100.\n"
     ]
    },
    {
     "name": "stderr",
     "output_type": "stream",
     "text": [
      "/Users/crystalevans/finTech/Module5/MCForecastTools.py:117: PerformanceWarning: DataFrame is highly fragmented.  This is usually the result of calling `frame.insert` many times, which has poor performance.  Consider joining all columns at once using pd.concat(axis=1) instead.  To get a de-fragmented frame, use `newframe = frame.copy()`\n",
      "  portfolio_cumulative_returns[n] = (1 + sim_df.fillna(0)).cumprod()\n"
     ]
    },
    {
     "name": "stdout",
     "output_type": "stream",
     "text": [
      "Running Monte Carlo simulation number 110.\n",
      "Running Monte Carlo simulation number 120.\n",
      "Running Monte Carlo simulation number 130.\n",
      "Running Monte Carlo simulation number 140.\n",
      "Running Monte Carlo simulation number 150.\n",
      "Running Monte Carlo simulation number 160.\n",
      "Running Monte Carlo simulation number 170.\n",
      "Running Monte Carlo simulation number 180.\n",
      "Running Monte Carlo simulation number 190.\n",
      "Running Monte Carlo simulation number 200.\n",
      "Running Monte Carlo simulation number 210.\n",
      "Running Monte Carlo simulation number 220.\n",
      "Running Monte Carlo simulation number 230.\n",
      "Running Monte Carlo simulation number 240.\n",
      "Running Monte Carlo simulation number 250.\n",
      "Running Monte Carlo simulation number 260.\n",
      "Running Monte Carlo simulation number 270.\n",
      "Running Monte Carlo simulation number 280.\n",
      "Running Monte Carlo simulation number 290.\n",
      "Running Monte Carlo simulation number 300.\n",
      "Running Monte Carlo simulation number 310.\n",
      "Running Monte Carlo simulation number 320.\n",
      "Running Monte Carlo simulation number 330.\n",
      "Running Monte Carlo simulation number 340.\n",
      "Running Monte Carlo simulation number 350.\n",
      "Running Monte Carlo simulation number 360.\n",
      "Running Monte Carlo simulation number 370.\n",
      "Running Monte Carlo simulation number 380.\n",
      "Running Monte Carlo simulation number 390.\n",
      "Running Monte Carlo simulation number 400.\n",
      "Running Monte Carlo simulation number 410.\n",
      "Running Monte Carlo simulation number 420.\n",
      "Running Monte Carlo simulation number 430.\n",
      "Running Monte Carlo simulation number 440.\n",
      "Running Monte Carlo simulation number 450.\n",
      "Running Monte Carlo simulation number 460.\n",
      "Running Monte Carlo simulation number 470.\n",
      "Running Monte Carlo simulation number 480.\n",
      "Running Monte Carlo simulation number 490.\n"
     ]
    },
    {
     "data": {
      "text/html": [
       "<div>\n",
       "<style scoped>\n",
       "    .dataframe tbody tr th:only-of-type {\n",
       "        vertical-align: middle;\n",
       "    }\n",
       "\n",
       "    .dataframe tbody tr th {\n",
       "        vertical-align: top;\n",
       "    }\n",
       "\n",
       "    .dataframe thead th {\n",
       "        text-align: right;\n",
       "    }\n",
       "</style>\n",
       "<table border=\"1\" class=\"dataframe\">\n",
       "  <thead>\n",
       "    <tr style=\"text-align: right;\">\n",
       "      <th></th>\n",
       "      <th>0</th>\n",
       "      <th>1</th>\n",
       "      <th>2</th>\n",
       "      <th>3</th>\n",
       "      <th>4</th>\n",
       "      <th>5</th>\n",
       "      <th>6</th>\n",
       "      <th>7</th>\n",
       "      <th>8</th>\n",
       "      <th>9</th>\n",
       "      <th>...</th>\n",
       "      <th>490</th>\n",
       "      <th>491</th>\n",
       "      <th>492</th>\n",
       "      <th>493</th>\n",
       "      <th>494</th>\n",
       "      <th>495</th>\n",
       "      <th>496</th>\n",
       "      <th>497</th>\n",
       "      <th>498</th>\n",
       "      <th>499</th>\n",
       "    </tr>\n",
       "  </thead>\n",
       "  <tbody>\n",
       "    <tr>\n",
       "      <th>0</th>\n",
       "      <td>1.000000</td>\n",
       "      <td>1.000000</td>\n",
       "      <td>1.000000</td>\n",
       "      <td>1.000000</td>\n",
       "      <td>1.000000</td>\n",
       "      <td>1.000000</td>\n",
       "      <td>1.000000</td>\n",
       "      <td>1.000000</td>\n",
       "      <td>1.000000</td>\n",
       "      <td>1.000000</td>\n",
       "      <td>...</td>\n",
       "      <td>1.000000</td>\n",
       "      <td>1.000000</td>\n",
       "      <td>1.000000</td>\n",
       "      <td>1.000000</td>\n",
       "      <td>1.000000</td>\n",
       "      <td>1.000000</td>\n",
       "      <td>1.000000</td>\n",
       "      <td>1.000000</td>\n",
       "      <td>1.000000</td>\n",
       "      <td>1.000000</td>\n",
       "    </tr>\n",
       "    <tr>\n",
       "      <th>1</th>\n",
       "      <td>1.006235</td>\n",
       "      <td>0.994029</td>\n",
       "      <td>0.986637</td>\n",
       "      <td>1.011433</td>\n",
       "      <td>1.011102</td>\n",
       "      <td>0.997815</td>\n",
       "      <td>0.996853</td>\n",
       "      <td>0.993925</td>\n",
       "      <td>1.008707</td>\n",
       "      <td>0.996036</td>\n",
       "      <td>...</td>\n",
       "      <td>0.998585</td>\n",
       "      <td>0.988098</td>\n",
       "      <td>0.992471</td>\n",
       "      <td>0.990742</td>\n",
       "      <td>1.003127</td>\n",
       "      <td>0.996376</td>\n",
       "      <td>1.006718</td>\n",
       "      <td>1.007194</td>\n",
       "      <td>1.005422</td>\n",
       "      <td>1.011083</td>\n",
       "    </tr>\n",
       "    <tr>\n",
       "      <th>2</th>\n",
       "      <td>1.015696</td>\n",
       "      <td>1.001754</td>\n",
       "      <td>0.976035</td>\n",
       "      <td>1.028052</td>\n",
       "      <td>1.021170</td>\n",
       "      <td>0.992890</td>\n",
       "      <td>0.995625</td>\n",
       "      <td>0.999332</td>\n",
       "      <td>0.997342</td>\n",
       "      <td>1.014008</td>\n",
       "      <td>...</td>\n",
       "      <td>0.998703</td>\n",
       "      <td>0.974599</td>\n",
       "      <td>0.996383</td>\n",
       "      <td>0.999082</td>\n",
       "      <td>1.015068</td>\n",
       "      <td>1.007136</td>\n",
       "      <td>1.015318</td>\n",
       "      <td>1.005336</td>\n",
       "      <td>1.027435</td>\n",
       "      <td>1.007881</td>\n",
       "    </tr>\n",
       "    <tr>\n",
       "      <th>3</th>\n",
       "      <td>1.020651</td>\n",
       "      <td>1.006227</td>\n",
       "      <td>0.989313</td>\n",
       "      <td>1.035901</td>\n",
       "      <td>1.001311</td>\n",
       "      <td>0.990104</td>\n",
       "      <td>0.998444</td>\n",
       "      <td>1.002751</td>\n",
       "      <td>1.015091</td>\n",
       "      <td>1.022999</td>\n",
       "      <td>...</td>\n",
       "      <td>0.993525</td>\n",
       "      <td>0.958573</td>\n",
       "      <td>0.993250</td>\n",
       "      <td>0.998856</td>\n",
       "      <td>1.003677</td>\n",
       "      <td>1.008975</td>\n",
       "      <td>0.995120</td>\n",
       "      <td>0.999930</td>\n",
       "      <td>1.032102</td>\n",
       "      <td>1.023767</td>\n",
       "    </tr>\n",
       "    <tr>\n",
       "      <th>4</th>\n",
       "      <td>1.027380</td>\n",
       "      <td>0.993610</td>\n",
       "      <td>0.990419</td>\n",
       "      <td>1.029365</td>\n",
       "      <td>0.988389</td>\n",
       "      <td>0.993137</td>\n",
       "      <td>0.997079</td>\n",
       "      <td>1.001310</td>\n",
       "      <td>1.029010</td>\n",
       "      <td>1.026868</td>\n",
       "      <td>...</td>\n",
       "      <td>0.996494</td>\n",
       "      <td>0.948434</td>\n",
       "      <td>1.005529</td>\n",
       "      <td>0.990733</td>\n",
       "      <td>1.018033</td>\n",
       "      <td>1.005648</td>\n",
       "      <td>0.986693</td>\n",
       "      <td>1.006864</td>\n",
       "      <td>1.033752</td>\n",
       "      <td>1.019403</td>\n",
       "    </tr>\n",
       "    <tr>\n",
       "      <th>...</th>\n",
       "      <td>...</td>\n",
       "      <td>...</td>\n",
       "      <td>...</td>\n",
       "      <td>...</td>\n",
       "      <td>...</td>\n",
       "      <td>...</td>\n",
       "      <td>...</td>\n",
       "      <td>...</td>\n",
       "      <td>...</td>\n",
       "      <td>...</td>\n",
       "      <td>...</td>\n",
       "      <td>...</td>\n",
       "      <td>...</td>\n",
       "      <td>...</td>\n",
       "      <td>...</td>\n",
       "      <td>...</td>\n",
       "      <td>...</td>\n",
       "      <td>...</td>\n",
       "      <td>...</td>\n",
       "      <td>...</td>\n",
       "      <td>...</td>\n",
       "    </tr>\n",
       "    <tr>\n",
       "      <th>7556</th>\n",
       "      <td>19.972777</td>\n",
       "      <td>4.854270</td>\n",
       "      <td>1.797851</td>\n",
       "      <td>15.374614</td>\n",
       "      <td>10.738299</td>\n",
       "      <td>12.702277</td>\n",
       "      <td>10.509630</td>\n",
       "      <td>47.705287</td>\n",
       "      <td>38.685528</td>\n",
       "      <td>16.898686</td>\n",
       "      <td>...</td>\n",
       "      <td>17.764433</td>\n",
       "      <td>5.190023</td>\n",
       "      <td>13.048004</td>\n",
       "      <td>4.852771</td>\n",
       "      <td>38.732461</td>\n",
       "      <td>11.264405</td>\n",
       "      <td>11.931464</td>\n",
       "      <td>10.019589</td>\n",
       "      <td>15.205890</td>\n",
       "      <td>13.116623</td>\n",
       "    </tr>\n",
       "    <tr>\n",
       "      <th>7557</th>\n",
       "      <td>20.032450</td>\n",
       "      <td>4.865715</td>\n",
       "      <td>1.755530</td>\n",
       "      <td>15.369949</td>\n",
       "      <td>10.781834</td>\n",
       "      <td>12.596157</td>\n",
       "      <td>10.517158</td>\n",
       "      <td>48.613968</td>\n",
       "      <td>38.650909</td>\n",
       "      <td>16.882694</td>\n",
       "      <td>...</td>\n",
       "      <td>17.938366</td>\n",
       "      <td>5.141337</td>\n",
       "      <td>13.063721</td>\n",
       "      <td>4.854156</td>\n",
       "      <td>38.566719</td>\n",
       "      <td>11.251809</td>\n",
       "      <td>11.889462</td>\n",
       "      <td>9.996608</td>\n",
       "      <td>15.201681</td>\n",
       "      <td>13.164883</td>\n",
       "    </tr>\n",
       "    <tr>\n",
       "      <th>7558</th>\n",
       "      <td>20.292845</td>\n",
       "      <td>4.882829</td>\n",
       "      <td>1.733973</td>\n",
       "      <td>15.385606</td>\n",
       "      <td>10.811347</td>\n",
       "      <td>12.568855</td>\n",
       "      <td>10.518510</td>\n",
       "      <td>47.921431</td>\n",
       "      <td>38.892689</td>\n",
       "      <td>16.879673</td>\n",
       "      <td>...</td>\n",
       "      <td>18.016289</td>\n",
       "      <td>5.137967</td>\n",
       "      <td>13.098201</td>\n",
       "      <td>4.843443</td>\n",
       "      <td>38.745817</td>\n",
       "      <td>11.314406</td>\n",
       "      <td>11.782451</td>\n",
       "      <td>9.946429</td>\n",
       "      <td>15.337808</td>\n",
       "      <td>13.170255</td>\n",
       "    </tr>\n",
       "    <tr>\n",
       "      <th>7559</th>\n",
       "      <td>20.216422</td>\n",
       "      <td>4.915139</td>\n",
       "      <td>1.764536</td>\n",
       "      <td>15.239369</td>\n",
       "      <td>10.874382</td>\n",
       "      <td>12.624085</td>\n",
       "      <td>10.563885</td>\n",
       "      <td>47.941512</td>\n",
       "      <td>38.990510</td>\n",
       "      <td>16.867706</td>\n",
       "      <td>...</td>\n",
       "      <td>18.117464</td>\n",
       "      <td>5.169956</td>\n",
       "      <td>13.198177</td>\n",
       "      <td>4.851556</td>\n",
       "      <td>39.085761</td>\n",
       "      <td>11.387443</td>\n",
       "      <td>11.803692</td>\n",
       "      <td>9.863932</td>\n",
       "      <td>15.252436</td>\n",
       "      <td>12.970483</td>\n",
       "    </tr>\n",
       "    <tr>\n",
       "      <th>7560</th>\n",
       "      <td>20.280238</td>\n",
       "      <td>4.937733</td>\n",
       "      <td>1.735990</td>\n",
       "      <td>15.404191</td>\n",
       "      <td>10.724900</td>\n",
       "      <td>12.674241</td>\n",
       "      <td>10.402891</td>\n",
       "      <td>48.193487</td>\n",
       "      <td>39.500236</td>\n",
       "      <td>17.073265</td>\n",
       "      <td>...</td>\n",
       "      <td>17.993296</td>\n",
       "      <td>5.223840</td>\n",
       "      <td>13.150390</td>\n",
       "      <td>4.856450</td>\n",
       "      <td>38.811373</td>\n",
       "      <td>11.432583</td>\n",
       "      <td>11.752581</td>\n",
       "      <td>9.862561</td>\n",
       "      <td>15.320182</td>\n",
       "      <td>12.908244</td>\n",
       "    </tr>\n",
       "  </tbody>\n",
       "</table>\n",
       "<p>7561 rows × 500 columns</p>\n",
       "</div>"
      ],
      "text/plain": [
       "            0         1         2          3          4          5    \\\n",
       "0      1.000000  1.000000  1.000000   1.000000   1.000000   1.000000   \n",
       "1      1.006235  0.994029  0.986637   1.011433   1.011102   0.997815   \n",
       "2      1.015696  1.001754  0.976035   1.028052   1.021170   0.992890   \n",
       "3      1.020651  1.006227  0.989313   1.035901   1.001311   0.990104   \n",
       "4      1.027380  0.993610  0.990419   1.029365   0.988389   0.993137   \n",
       "...         ...       ...       ...        ...        ...        ...   \n",
       "7556  19.972777  4.854270  1.797851  15.374614  10.738299  12.702277   \n",
       "7557  20.032450  4.865715  1.755530  15.369949  10.781834  12.596157   \n",
       "7558  20.292845  4.882829  1.733973  15.385606  10.811347  12.568855   \n",
       "7559  20.216422  4.915139  1.764536  15.239369  10.874382  12.624085   \n",
       "7560  20.280238  4.937733  1.735990  15.404191  10.724900  12.674241   \n",
       "\n",
       "            6          7          8          9    ...        490       491  \\\n",
       "0      1.000000   1.000000   1.000000   1.000000  ...   1.000000  1.000000   \n",
       "1      0.996853   0.993925   1.008707   0.996036  ...   0.998585  0.988098   \n",
       "2      0.995625   0.999332   0.997342   1.014008  ...   0.998703  0.974599   \n",
       "3      0.998444   1.002751   1.015091   1.022999  ...   0.993525  0.958573   \n",
       "4      0.997079   1.001310   1.029010   1.026868  ...   0.996494  0.948434   \n",
       "...         ...        ...        ...        ...  ...        ...       ...   \n",
       "7556  10.509630  47.705287  38.685528  16.898686  ...  17.764433  5.190023   \n",
       "7557  10.517158  48.613968  38.650909  16.882694  ...  17.938366  5.141337   \n",
       "7558  10.518510  47.921431  38.892689  16.879673  ...  18.016289  5.137967   \n",
       "7559  10.563885  47.941512  38.990510  16.867706  ...  18.117464  5.169956   \n",
       "7560  10.402891  48.193487  39.500236  17.073265  ...  17.993296  5.223840   \n",
       "\n",
       "            492       493        494        495        496        497  \\\n",
       "0      1.000000  1.000000   1.000000   1.000000   1.000000   1.000000   \n",
       "1      0.992471  0.990742   1.003127   0.996376   1.006718   1.007194   \n",
       "2      0.996383  0.999082   1.015068   1.007136   1.015318   1.005336   \n",
       "3      0.993250  0.998856   1.003677   1.008975   0.995120   0.999930   \n",
       "4      1.005529  0.990733   1.018033   1.005648   0.986693   1.006864   \n",
       "...         ...       ...        ...        ...        ...        ...   \n",
       "7556  13.048004  4.852771  38.732461  11.264405  11.931464  10.019589   \n",
       "7557  13.063721  4.854156  38.566719  11.251809  11.889462   9.996608   \n",
       "7558  13.098201  4.843443  38.745817  11.314406  11.782451   9.946429   \n",
       "7559  13.198177  4.851556  39.085761  11.387443  11.803692   9.863932   \n",
       "7560  13.150390  4.856450  38.811373  11.432583  11.752581   9.862561   \n",
       "\n",
       "            498        499  \n",
       "0      1.000000   1.000000  \n",
       "1      1.005422   1.011083  \n",
       "2      1.027435   1.007881  \n",
       "3      1.032102   1.023767  \n",
       "4      1.033752   1.019403  \n",
       "...         ...        ...  \n",
       "7556  15.205890  13.116623  \n",
       "7557  15.201681  13.164883  \n",
       "7558  15.337808  13.170255  \n",
       "7559  15.252436  12.970483  \n",
       "7560  15.320182  12.908244  \n",
       "\n",
       "[7561 rows x 500 columns]"
      ]
     },
     "execution_count": 35,
     "metadata": {},
     "output_type": "execute_result"
    }
   ],
   "source": [
    "# Run the Monte Carlo simulation to forecast 30 years cumulative returns\n",
    "\n",
    "MC_thirtyyear = MCSimulation(\n",
    "    portfolio_data = df_portfolio,\n",
    "    weights = [.60,.40],\n",
    "    num_simulation = 500,\n",
    "    num_trading_days = 252*30\n",
    ")\n",
    "\n",
    "# Review the simulation input data\n",
    "MC_thirtyyear.portfolio_data.head()\n",
    "MC_thirtyyear.calc_cumulative_return()"
   ]
  },
  {
   "cell_type": "code",
   "execution_count": 36,
   "metadata": {},
   "outputs": [
    {
     "data": {
      "text/plain": [
       "<AxesSubplot:title={'center':'SPY 30 year sim'}, xlabel='timestamp'>"
      ]
     },
     "execution_count": 36,
     "metadata": {},
     "output_type": "execute_result"
    },
    {
     "data": {
      "image/png": "[encoded data removed]",
      "text/plain": [
       "<Figure size 432x288 with 1 Axes>"
      ]
     },
     "metadata": {
      "needs_background": "light"
     },
     "output_type": "display_data"
    }
   ],
   "source": [
    "MC_thirtyyear.portfolio_data[(\"SPY\",\"close\")].plot(title=\"SPY 30 year sim\")"
   ]
  },
  {
   "cell_type": "code",
   "execution_count": 37,
   "metadata": {},
   "outputs": [
    {
     "data": {
      "text/plain": [
       "<AxesSubplot:title={'center':'AGG 30 year sim'}, xlabel='timestamp'>"
      ]
     },
     "execution_count": 37,
     "metadata": {},
     "output_type": "execute_result"
    },
    {
     "data": {
      "image/png": "[encoded data removed]",
      "text/plain": [
       "<Figure size 432x288 with 1 Axes>"
      ]
     },
     "metadata": {
      "needs_background": "light"
     },
     "output_type": "display_data"
    }
   ],
   "source": [
    "MC_thirtyyear.portfolio_data[(\"AGG\",\"close\")].plot(title=\"AGG 30 year sim\")"
   ]
  },
  {
   "cell_type": "code",
   "execution_count": 38,
   "metadata": {},
   "outputs": [
    {
     "data": {
      "image/png": "[encoded data removed]",
      "text/plain": [
       "<Figure size 432x288 with 1 Axes>"
      ]
     },
     "metadata": {
      "needs_background": "light"
     },
     "output_type": "display_data"
    }
   ],
   "source": [
    "# Visualize the 30-year Monte Carlo simulation by creating an\n",
    "# overlay line plot\n",
    "# Plot simulation outcomes\n",
    "MC_sim_line_plot = MC_thirtyyear.plot_simulation()\n",
    "\n",
    "# Save the plot for future use\n",
    "MC_sim_line_plot.get_figure().savefig(\"MC_thirtyyear_sim_plot.png\", bbox_inches=\"tight\")\n"
   ]
  },
  {
   "cell_type": "markdown",
   "metadata": {},
   "source": [
    "#### Step 3: Plot the probability distribution of the Monte Carlo simulation."
   ]
  },
  {
   "cell_type": "code",
   "execution_count": 39,
   "metadata": {},
   "outputs": [],
   "source": [
    "# Visualize the probability distribution of the 30-year Monte Carlo simulation \n",
    "# by plotting a histogram\n",
    "# YOUR CODE HERE\n"
   ]
  },
  {
   "cell_type": "markdown",
   "metadata": {},
   "source": [
    "#### Step 4: Generate the summary statistics for the Monte Carlo simulation."
   ]
  },
  {
   "cell_type": "code",
   "execution_count": 40,
   "metadata": {},
   "outputs": [
    {
     "data": {
      "text/plain": [
       "MCForecastTools.MCSimulation"
      ]
     },
     "execution_count": 40,
     "metadata": {},
     "output_type": "execute_result"
    }
   ],
   "source": [
    "type(MC_thirtyyear)"
   ]
  },
  {
   "cell_type": "code",
   "execution_count": 41,
   "metadata": {},
   "outputs": [
    {
     "data": {
      "text/html": [
       "<div>\n",
       "<style scoped>\n",
       "    .dataframe tbody tr th:only-of-type {\n",
       "        vertical-align: middle;\n",
       "    }\n",
       "\n",
       "    .dataframe tbody tr th {\n",
       "        vertical-align: top;\n",
       "    }\n",
       "\n",
       "    .dataframe thead tr th {\n",
       "        text-align: left;\n",
       "    }\n",
       "\n",
       "    .dataframe thead tr:last-of-type th {\n",
       "        text-align: right;\n",
       "    }\n",
       "</style>\n",
       "<table border=\"1\" class=\"dataframe\">\n",
       "  <thead>\n",
       "    <tr>\n",
       "      <th></th>\n",
       "      <th colspan=\"8\" halign=\"left\">SPY</th>\n",
       "      <th colspan=\"8\" halign=\"left\">AGG</th>\n",
       "    </tr>\n",
       "    <tr>\n",
       "      <th></th>\n",
       "      <th>open</th>\n",
       "      <th>high</th>\n",
       "      <th>low</th>\n",
       "      <th>close</th>\n",
       "      <th>volume</th>\n",
       "      <th>trade_count</th>\n",
       "      <th>vwap</th>\n",
       "      <th>daily_return</th>\n",
       "      <th>open</th>\n",
       "      <th>high</th>\n",
       "      <th>low</th>\n",
       "      <th>close</th>\n",
       "      <th>volume</th>\n",
       "      <th>trade_count</th>\n",
       "      <th>vwap</th>\n",
       "      <th>daily_return</th>\n",
       "    </tr>\n",
       "    <tr>\n",
       "      <th>timestamp</th>\n",
       "      <th></th>\n",
       "      <th></th>\n",
       "      <th></th>\n",
       "      <th></th>\n",
       "      <th></th>\n",
       "      <th></th>\n",
       "      <th></th>\n",
       "      <th></th>\n",
       "      <th></th>\n",
       "      <th></th>\n",
       "      <th></th>\n",
       "      <th></th>\n",
       "      <th></th>\n",
       "      <th></th>\n",
       "      <th></th>\n",
       "      <th></th>\n",
       "    </tr>\n",
       "  </thead>\n",
       "  <tbody>\n",
       "    <tr>\n",
       "      <th>2017-08-07 04:00:00+00:00</th>\n",
       "      <td>247.50</td>\n",
       "      <td>247.87</td>\n",
       "      <td>247.37</td>\n",
       "      <td>247.87</td>\n",
       "      <td>31995021</td>\n",
       "      <td>100111</td>\n",
       "      <td>247.668698</td>\n",
       "      <td>NaN</td>\n",
       "      <td>109.69</td>\n",
       "      <td>109.72</td>\n",
       "      <td>109.6066</td>\n",
       "      <td>109.67</td>\n",
       "      <td>2359826</td>\n",
       "      <td>7755</td>\n",
       "      <td>109.674876</td>\n",
       "      <td>NaN</td>\n",
       "    </tr>\n",
       "    <tr>\n",
       "      <th>2017-08-08 04:00:00+00:00</th>\n",
       "      <td>247.49</td>\n",
       "      <td>248.91</td>\n",
       "      <td>246.83</td>\n",
       "      <td>247.26</td>\n",
       "      <td>61719353</td>\n",
       "      <td>192921</td>\n",
       "      <td>247.739709</td>\n",
       "      <td>-0.002461</td>\n",
       "      <td>109.67</td>\n",
       "      <td>109.69</td>\n",
       "      <td>109.5000</td>\n",
       "      <td>109.57</td>\n",
       "      <td>2570876</td>\n",
       "      <td>12663</td>\n",
       "      <td>109.577636</td>\n",
       "      <td>-0.000912</td>\n",
       "    </tr>\n",
       "  </tbody>\n",
       "</table>\n",
       "</div>"
      ],
      "text/plain": [
       "                              SPY                                    \\\n",
       "                             open    high     low   close    volume   \n",
       "timestamp                                                             \n",
       "2017-08-07 04:00:00+00:00  247.50  247.87  247.37  247.87  31995021   \n",
       "2017-08-08 04:00:00+00:00  247.49  248.91  246.83  247.26  61719353   \n",
       "\n",
       "                                                                   AGG  \\\n",
       "                          trade_count        vwap daily_return    open   \n",
       "timestamp                                                                \n",
       "2017-08-07 04:00:00+00:00      100111  247.668698          NaN  109.69   \n",
       "2017-08-08 04:00:00+00:00      192921  247.739709    -0.002461  109.67   \n",
       "\n",
       "                                                                          \\\n",
       "                             high       low   close   volume trade_count   \n",
       "timestamp                                                                  \n",
       "2017-08-07 04:00:00+00:00  109.72  109.6066  109.67  2359826        7755   \n",
       "2017-08-08 04:00:00+00:00  109.69  109.5000  109.57  2570876       12663   \n",
       "\n",
       "                                                    \n",
       "                                 vwap daily_return  \n",
       "timestamp                                           \n",
       "2017-08-07 04:00:00+00:00  109.674876          NaN  \n",
       "2017-08-08 04:00:00+00:00  109.577636    -0.000912  "
      ]
     },
     "execution_count": 41,
     "metadata": {},
     "output_type": "execute_result"
    }
   ],
   "source": [
    "MC_thirtyyear.portfolio_data.head(2)"
   ]
  },
  {
   "cell_type": "code",
   "execution_count": 42,
   "metadata": {
    "tags": []
   },
   "outputs": [
    {
     "data": {
      "image/png": "[encoded data removed]",
      "text/plain": [
       "<Figure size 432x288 with 1 Axes>"
      ]
     },
     "metadata": {
      "needs_background": "light"
     },
     "output_type": "display_data"
    }
   ],
   "source": [
    "# Generate summary statistics from the 30-year Monte Carlo simulation results\n",
    "# Save the results as a variable\n",
    "# Generate descriptive statistics\n",
    "\n",
    "MC_thirtyyear.portfolio_data.describe()\n",
    "\n",
    "MC_sim30_spy_plot = MC_thirtyyear.portfolio_data[(\"SPY\", \"close\")].plot(kind=\"hist\", title='SPY Probability Distribution')"
   ]
  },
  {
   "cell_type": "code",
   "execution_count": 43,
   "metadata": {
    "tags": []
   },
   "outputs": [
    {
     "data": {
      "image/png": "[encoded data removed]",
      "text/plain": [
       "<Figure size 432x288 with 1 Axes>"
      ]
     },
     "metadata": {
      "needs_background": "light"
     },
     "output_type": "display_data"
    }
   ],
   "source": [
    "MC_sim30_agg_plot = MC_thirtyyear.portfolio_data[(\"AGG\", \"close\")].plot(kind=\"hist\",title='AGG Probability Distribution')\n",
    "\n",
    "# Review the 30-year Monte Carlo summary statistics\n",
    "# YOUR CODE HERE"
   ]
  },
  {
   "cell_type": "markdown",
   "metadata": {},
   "source": [
    "### Analyze the Retirement Portfolio Forecasts\n",
    "\n",
    "Using the current value of only the stock and bond portion of the member's portfolio and the summary statistics that you generated from the Monte Carlo simulation, answer the following question in your Jupyter notebook:\n",
    "\n",
    "-  What are the lower and upper bounds for the expected value of the portfolio with a 95% confidence interval?\n"
   ]
  },
  {
   "cell_type": "code",
   "execution_count": 44,
   "metadata": {},
   "outputs": [
    {
     "data": {
      "text/html": [
       "<div>\n",
       "<style scoped>\n",
       "    .dataframe tbody tr th:only-of-type {\n",
       "        vertical-align: middle;\n",
       "    }\n",
       "\n",
       "    .dataframe tbody tr th {\n",
       "        vertical-align: top;\n",
       "    }\n",
       "\n",
       "    .dataframe thead tr th {\n",
       "        text-align: left;\n",
       "    }\n",
       "</style>\n",
       "<table border=\"1\" class=\"dataframe\">\n",
       "  <thead>\n",
       "    <tr>\n",
       "      <th></th>\n",
       "      <th colspan=\"8\" halign=\"left\">SPY</th>\n",
       "      <th colspan=\"8\" halign=\"left\">AGG</th>\n",
       "    </tr>\n",
       "    <tr>\n",
       "      <th></th>\n",
       "      <th>open</th>\n",
       "      <th>high</th>\n",
       "      <th>low</th>\n",
       "      <th>close</th>\n",
       "      <th>volume</th>\n",
       "      <th>trade_count</th>\n",
       "      <th>vwap</th>\n",
       "      <th>daily_return</th>\n",
       "      <th>open</th>\n",
       "      <th>high</th>\n",
       "      <th>low</th>\n",
       "      <th>close</th>\n",
       "      <th>volume</th>\n",
       "      <th>trade_count</th>\n",
       "      <th>vwap</th>\n",
       "      <th>daily_return</th>\n",
       "    </tr>\n",
       "  </thead>\n",
       "  <tbody>\n",
       "    <tr>\n",
       "      <th>count</th>\n",
       "      <td>757.000000</td>\n",
       "      <td>757.000000</td>\n",
       "      <td>757.000000</td>\n",
       "      <td>757.000000</td>\n",
       "      <td>7.570000e+02</td>\n",
       "      <td>7.570000e+02</td>\n",
       "      <td>757.000000</td>\n",
       "      <td>756.000000</td>\n",
       "      <td>757.000000</td>\n",
       "      <td>757.000000</td>\n",
       "      <td>757.000000</td>\n",
       "      <td>757.000000</td>\n",
       "      <td>7.570000e+02</td>\n",
       "      <td>757.000000</td>\n",
       "      <td>757.000000</td>\n",
       "      <td>756.000000</td>\n",
       "    </tr>\n",
       "    <tr>\n",
       "      <th>mean</th>\n",
       "      <td>283.026354</td>\n",
       "      <td>284.629050</td>\n",
       "      <td>281.256257</td>\n",
       "      <td>283.046909</td>\n",
       "      <td>8.969203e+07</td>\n",
       "      <td>4.192793e+05</td>\n",
       "      <td>282.991967</td>\n",
       "      <td>0.000495</td>\n",
       "      <td>110.030264</td>\n",
       "      <td>110.167568</td>\n",
       "      <td>109.880810</td>\n",
       "      <td>110.029524</td>\n",
       "      <td>4.618833e+06</td>\n",
       "      <td>15384.072655</td>\n",
       "      <td>110.032067</td>\n",
       "      <td>0.000119</td>\n",
       "    </tr>\n",
       "    <tr>\n",
       "      <th>std</th>\n",
       "      <td>22.195649</td>\n",
       "      <td>22.032066</td>\n",
       "      <td>22.350123</td>\n",
       "      <td>22.213616</td>\n",
       "      <td>5.319384e+07</td>\n",
       "      <td>4.055646e+05</td>\n",
       "      <td>22.132909</td>\n",
       "      <td>0.013949</td>\n",
       "      <td>4.034746</td>\n",
       "      <td>4.054598</td>\n",
       "      <td>3.986533</td>\n",
       "      <td>4.026540</td>\n",
       "      <td>3.015248e+06</td>\n",
       "      <td>8542.604772</td>\n",
       "      <td>4.022279</td>\n",
       "      <td>0.003414</td>\n",
       "    </tr>\n",
       "    <tr>\n",
       "      <th>min</th>\n",
       "      <td>228.000000</td>\n",
       "      <td>229.683300</td>\n",
       "      <td>218.260000</td>\n",
       "      <td>222.950000</td>\n",
       "      <td>2.053806e+07</td>\n",
       "      <td>8.430500e+04</td>\n",
       "      <td>224.679293</td>\n",
       "      <td>-0.109424</td>\n",
       "      <td>104.070000</td>\n",
       "      <td>104.169900</td>\n",
       "      <td>103.940000</td>\n",
       "      <td>104.010000</td>\n",
       "      <td>1.131600e+06</td>\n",
       "      <td>5750.000000</td>\n",
       "      <td>104.067149</td>\n",
       "      <td>-0.040010</td>\n",
       "    </tr>\n",
       "    <tr>\n",
       "      <th>25%</th>\n",
       "      <td>267.500000</td>\n",
       "      <td>268.550000</td>\n",
       "      <td>265.500000</td>\n",
       "      <td>267.190000</td>\n",
       "      <td>5.722988e+07</td>\n",
       "      <td>2.235030e+05</td>\n",
       "      <td>267.169028</td>\n",
       "      <td>-0.003428</td>\n",
       "      <td>106.540000</td>\n",
       "      <td>106.650000</td>\n",
       "      <td>106.400000</td>\n",
       "      <td>106.510000</td>\n",
       "      <td>2.665096e+06</td>\n",
       "      <td>10540.000000</td>\n",
       "      <td>106.542041</td>\n",
       "      <td>-0.001067</td>\n",
       "    </tr>\n",
       "    <tr>\n",
       "      <th>50%</th>\n",
       "      <td>280.700000</td>\n",
       "      <td>282.580000</td>\n",
       "      <td>279.360000</td>\n",
       "      <td>281.060000</td>\n",
       "      <td>7.464939e+07</td>\n",
       "      <td>2.954980e+05</td>\n",
       "      <td>281.076175</td>\n",
       "      <td>0.000825</td>\n",
       "      <td>109.270000</td>\n",
       "      <td>109.420000</td>\n",
       "      <td>109.153600</td>\n",
       "      <td>109.300000</td>\n",
       "      <td>3.703224e+06</td>\n",
       "      <td>13034.000000</td>\n",
       "      <td>109.303491</td>\n",
       "      <td>0.000188</td>\n",
       "    </tr>\n",
       "    <tr>\n",
       "      <th>75%</th>\n",
       "      <td>296.280000</td>\n",
       "      <td>297.892000</td>\n",
       "      <td>294.330000</td>\n",
       "      <td>296.280000</td>\n",
       "      <td>1.020926e+08</td>\n",
       "      <td>4.421280e+05</td>\n",
       "      <td>296.650886</td>\n",
       "      <td>0.006178</td>\n",
       "      <td>112.850000</td>\n",
       "      <td>112.940000</td>\n",
       "      <td>112.620000</td>\n",
       "      <td>112.810000</td>\n",
       "      <td>5.584110e+06</td>\n",
       "      <td>17210.000000</td>\n",
       "      <td>112.821055</td>\n",
       "      <td>0.001317</td>\n",
       "    </tr>\n",
       "    <tr>\n",
       "      <th>max</th>\n",
       "      <td>337.810000</td>\n",
       "      <td>339.080000</td>\n",
       "      <td>337.480000</td>\n",
       "      <td>338.340000</td>\n",
       "      <td>3.943770e+08</td>\n",
       "      <td>3.709931e+06</td>\n",
       "      <td>338.258804</td>\n",
       "      <td>0.090603</td>\n",
       "      <td>119.660000</td>\n",
       "      <td>119.730000</td>\n",
       "      <td>119.530000</td>\n",
       "      <td>119.630000</td>\n",
       "      <td>2.517426e+07</td>\n",
       "      <td>72445.000000</td>\n",
       "      <td>119.604199</td>\n",
       "      <td>0.023721</td>\n",
       "    </tr>\n",
       "  </tbody>\n",
       "</table>\n",
       "</div>"
      ],
      "text/plain": [
       "              SPY                                                    \\\n",
       "             open        high         low       close        volume   \n",
       "count  757.000000  757.000000  757.000000  757.000000  7.570000e+02   \n",
       "mean   283.026354  284.629050  281.256257  283.046909  8.969203e+07   \n",
       "std     22.195649   22.032066   22.350123   22.213616  5.319384e+07   \n",
       "min    228.000000  229.683300  218.260000  222.950000  2.053806e+07   \n",
       "25%    267.500000  268.550000  265.500000  267.190000  5.722988e+07   \n",
       "50%    280.700000  282.580000  279.360000  281.060000  7.464939e+07   \n",
       "75%    296.280000  297.892000  294.330000  296.280000  1.020926e+08   \n",
       "max    337.810000  339.080000  337.480000  338.340000  3.943770e+08   \n",
       "\n",
       "                                                     AGG              \\\n",
       "        trade_count        vwap daily_return        open        high   \n",
       "count  7.570000e+02  757.000000   756.000000  757.000000  757.000000   \n",
       "mean   4.192793e+05  282.991967     0.000495  110.030264  110.167568   \n",
       "std    4.055646e+05   22.132909     0.013949    4.034746    4.054598   \n",
       "min    8.430500e+04  224.679293    -0.109424  104.070000  104.169900   \n",
       "25%    2.235030e+05  267.169028    -0.003428  106.540000  106.650000   \n",
       "50%    2.954980e+05  281.076175     0.000825  109.270000  109.420000   \n",
       "75%    4.421280e+05  296.650886     0.006178  112.850000  112.940000   \n",
       "max    3.709931e+06  338.258804     0.090603  119.660000  119.730000   \n",
       "\n",
       "                                                                       \\\n",
       "              low       close        volume   trade_count        vwap   \n",
       "count  757.000000  757.000000  7.570000e+02    757.000000  757.000000   \n",
       "mean   109.880810  110.029524  4.618833e+06  15384.072655  110.032067   \n",
       "std      3.986533    4.026540  3.015248e+06   8542.604772    4.022279   \n",
       "min    103.940000  104.010000  1.131600e+06   5750.000000  104.067149   \n",
       "25%    106.400000  106.510000  2.665096e+06  10540.000000  106.542041   \n",
       "50%    109.153600  109.300000  3.703224e+06  13034.000000  109.303491   \n",
       "75%    112.620000  112.810000  5.584110e+06  17210.000000  112.821055   \n",
       "max    119.530000  119.630000  2.517426e+07  72445.000000  119.604199   \n",
       "\n",
       "                    \n",
       "      daily_return  \n",
       "count   756.000000  \n",
       "mean      0.000119  \n",
       "std       0.003414  \n",
       "min      -0.040010  \n",
       "25%      -0.001067  \n",
       "50%       0.000188  \n",
       "75%       0.001317  \n",
       "max       0.023721  "
      ]
     },
     "execution_count": 44,
     "metadata": {},
     "output_type": "execute_result"
    }
   ],
   "source": [
    "MC_thirtyyear.portfolio_data.describe()"
   ]
  },
  {
   "cell_type": "code",
   "execution_count": 45,
   "metadata": {},
   "outputs": [
    {
     "data": {
      "text/plain": [
       "(283.04690885072637, 22.21361565776465)"
      ]
     },
     "execution_count": 45,
     "metadata": {},
     "output_type": "execute_result"
    }
   ],
   "source": [
    "spy_close_df = MC_thirtyyear.portfolio_data[(\"SPY\",\"close\")]\n",
    "spy_close_mean = spy_close_df.describe()['mean']\n",
    "spy_close_std = spy_close_df.describe()['std']\n",
    "spy_close_mean, spy_close_std"
   ]
  },
  {
   "cell_type": "code",
   "execution_count": 46,
   "metadata": {},
   "outputs": [
    {
     "data": {
      "text/plain": [
       "(110.02952443857325, 4.026540132038654)"
      ]
     },
     "execution_count": 46,
     "metadata": {},
     "output_type": "execute_result"
    }
   ],
   "source": [
    "agg_close_df = MC_thirtyyear.portfolio_data[(\"AGG\",\"close\")]\n",
    "agg_close_mean = agg_close_df.describe()['mean']\n",
    "agg_close_std = agg_close_df.describe()['std']\n",
    "agg_close_mean, agg_close_std"
   ]
  },
  {
   "cell_type": "code",
   "execution_count": 47,
   "metadata": {},
   "outputs": [],
   "source": [
    "port_mean = spy_close_mean * 0.6 + agg_close_mean * 0.4\n",
    "port_std = spy_close_std * 0.6 + agg_close_std * 0.4"
   ]
  },
  {
   "cell_type": "code",
   "execution_count": 48,
   "metadata": {
    "tags": []
   },
   "outputs": [
    {
     "name": "stdout",
     "output_type": "stream",
     "text": [
      "The current balance of the stock and bond portion of the members portfolio is $103716.70\n"
     ]
    }
   ],
   "source": [
    "# Print the current balance of the stock and bond portion of the members portfolio\n",
    "total_stocks_bonds = agg_value + spy_value\n",
    "print(f\"The current balance of the stock and bond portion of the members portfolio is ${total_stocks_bonds:0.2f}\")\n"
   ]
  },
  {
   "cell_type": "code",
   "execution_count": 49,
   "metadata": {},
   "outputs": [
    {
     "data": {
      "text/plain": [
       "(184.55993560881558, 243.11997456291465)"
      ]
     },
     "execution_count": 49,
     "metadata": {},
     "output_type": "execute_result"
    }
   ],
   "source": [
    "# Use the lower and upper `95%` confidence intervals to calculate the range of the possible outcomes for the current stock/bond portfolio\n",
    "ci_lower_thirty_cumulative_return = port_mean - (1.96 * port_std)\n",
    "ci_upper_thirty_cumulative_return = port_mean + (1.96 * port_std)\n",
    "\n",
    "# Print the result of your calculations\n",
    "ci_lower_thirty_cumulative_return, ci_upper_thirty_cumulative_return"
   ]
  },
  {
   "cell_type": "markdown",
   "metadata": {},
   "source": [
    "### Forecast Cumulative Returns in 10 Years\n",
    "\n",
    "The CTO of the credit union is impressed with your work on these planning tools but wonders if 30 years is a long time to wait until retirement. So, your next task is to adjust the retirement portfolio and run a new Monte Carlo simulation to find out if the changes will allow members to retire earlier.\n",
    "\n",
    "For this new Monte Carlo simulation, do the following: \n",
    "\n",
    "- Forecast the cumulative returns for 10 years from now. Because of the shortened investment horizon (30 years to 10 years), the portfolio needs to invest more heavily in the riskier asset&mdash;that is, stock&mdash;to help accumulate wealth for retirement. \n",
    "\n",
    "- Adjust the weights of the retirement portfolio so that the composition for the Monte Carlo simulation consists of 20% bonds and 80% stocks. \n",
    "\n",
    "- Run the simulation over 500 samples, and use the same data that the API call to Alpaca generated.\n",
    "\n",
    "- Based on the new Monte Carlo simulation, answer the following questions in your Jupyter notebook:\n",
    "\n",
    "    - Using the current value of only the stock and bond portion of the member's portfolio and the summary statistics that you generated from the new Monte Carlo simulation, what are the lower and upper bounds for the expected value of the portfolio (with the new weights) with a 95% confidence interval?\n",
    "\n",
    "    - Will weighting the portfolio more heavily toward stocks allow the credit union members to retire after only 10 years?\n"
   ]
  },
  {
   "cell_type": "code",
   "execution_count": 50,
   "metadata": {},
   "outputs": [
    {
     "name": "stdout",
     "output_type": "stream",
     "text": [
      "Running Monte Carlo simulation number 0.\n",
      "Running Monte Carlo simulation number 10.\n",
      "Running Monte Carlo simulation number 20.\n",
      "Running Monte Carlo simulation number 30.\n",
      "Running Monte Carlo simulation number 40.\n",
      "Running Monte Carlo simulation number 50.\n",
      "Running Monte Carlo simulation number 60.\n",
      "Running Monte Carlo simulation number 70.\n",
      "Running Monte Carlo simulation number 80.\n",
      "Running Monte Carlo simulation number 90.\n",
      "Running Monte Carlo simulation number 100.\n"
     ]
    },
    {
     "name": "stderr",
     "output_type": "stream",
     "text": [
      "/Users/crystalevans/finTech/Module5/MCForecastTools.py:117: PerformanceWarning: DataFrame is highly fragmented.  This is usually the result of calling `frame.insert` many times, which has poor performance.  Consider joining all columns at once using pd.concat(axis=1) instead.  To get a de-fragmented frame, use `newframe = frame.copy()`\n",
      "  portfolio_cumulative_returns[n] = (1 + sim_df.fillna(0)).cumprod()\n"
     ]
    },
    {
     "name": "stdout",
     "output_type": "stream",
     "text": [
      "Running Monte Carlo simulation number 110.\n",
      "Running Monte Carlo simulation number 120.\n",
      "Running Monte Carlo simulation number 130.\n",
      "Running Monte Carlo simulation number 140.\n",
      "Running Monte Carlo simulation number 150.\n",
      "Running Monte Carlo simulation number 160.\n",
      "Running Monte Carlo simulation number 170.\n",
      "Running Monte Carlo simulation number 180.\n",
      "Running Monte Carlo simulation number 190.\n",
      "Running Monte Carlo simulation number 200.\n",
      "Running Monte Carlo simulation number 210.\n",
      "Running Monte Carlo simulation number 220.\n",
      "Running Monte Carlo simulation number 230.\n",
      "Running Monte Carlo simulation number 240.\n",
      "Running Monte Carlo simulation number 250.\n",
      "Running Monte Carlo simulation number 260.\n",
      "Running Monte Carlo simulation number 270.\n",
      "Running Monte Carlo simulation number 280.\n",
      "Running Monte Carlo simulation number 290.\n",
      "Running Monte Carlo simulation number 300.\n",
      "Running Monte Carlo simulation number 310.\n",
      "Running Monte Carlo simulation number 320.\n",
      "Running Monte Carlo simulation number 330.\n",
      "Running Monte Carlo simulation number 340.\n",
      "Running Monte Carlo simulation number 350.\n",
      "Running Monte Carlo simulation number 360.\n",
      "Running Monte Carlo simulation number 370.\n",
      "Running Monte Carlo simulation number 380.\n",
      "Running Monte Carlo simulation number 390.\n",
      "Running Monte Carlo simulation number 400.\n",
      "Running Monte Carlo simulation number 410.\n",
      "Running Monte Carlo simulation number 420.\n",
      "Running Monte Carlo simulation number 430.\n",
      "Running Monte Carlo simulation number 440.\n",
      "Running Monte Carlo simulation number 450.\n",
      "Running Monte Carlo simulation number 460.\n",
      "Running Monte Carlo simulation number 470.\n",
      "Running Monte Carlo simulation number 480.\n",
      "Running Monte Carlo simulation number 490.\n"
     ]
    },
    {
     "data": {
      "text/html": [
       "<div>\n",
       "<style scoped>\n",
       "    .dataframe tbody tr th:only-of-type {\n",
       "        vertical-align: middle;\n",
       "    }\n",
       "\n",
       "    .dataframe tbody tr th {\n",
       "        vertical-align: top;\n",
       "    }\n",
       "\n",
       "    .dataframe thead th {\n",
       "        text-align: right;\n",
       "    }\n",
       "</style>\n",
       "<table border=\"1\" class=\"dataframe\">\n",
       "  <thead>\n",
       "    <tr style=\"text-align: right;\">\n",
       "      <th></th>\n",
       "      <th>0</th>\n",
       "      <th>1</th>\n",
       "      <th>2</th>\n",
       "      <th>3</th>\n",
       "      <th>4</th>\n",
       "      <th>5</th>\n",
       "      <th>6</th>\n",
       "      <th>7</th>\n",
       "      <th>8</th>\n",
       "      <th>9</th>\n",
       "      <th>...</th>\n",
       "      <th>490</th>\n",
       "      <th>491</th>\n",
       "      <th>492</th>\n",
       "      <th>493</th>\n",
       "      <th>494</th>\n",
       "      <th>495</th>\n",
       "      <th>496</th>\n",
       "      <th>497</th>\n",
       "      <th>498</th>\n",
       "      <th>499</th>\n",
       "    </tr>\n",
       "  </thead>\n",
       "  <tbody>\n",
       "    <tr>\n",
       "      <th>0</th>\n",
       "      <td>1.000000</td>\n",
       "      <td>1.000000</td>\n",
       "      <td>1.000000</td>\n",
       "      <td>1.000000</td>\n",
       "      <td>1.000000</td>\n",
       "      <td>1.000000</td>\n",
       "      <td>1.000000</td>\n",
       "      <td>1.000000</td>\n",
       "      <td>1.000000</td>\n",
       "      <td>1.000000</td>\n",
       "      <td>...</td>\n",
       "      <td>1.000000</td>\n",
       "      <td>1.000000</td>\n",
       "      <td>1.000000</td>\n",
       "      <td>1.000000</td>\n",
       "      <td>1.000000</td>\n",
       "      <td>1.000000</td>\n",
       "      <td>1.000000</td>\n",
       "      <td>1.000000</td>\n",
       "      <td>1.000000</td>\n",
       "      <td>1.000000</td>\n",
       "    </tr>\n",
       "    <tr>\n",
       "      <th>1</th>\n",
       "      <td>1.018717</td>\n",
       "      <td>0.985884</td>\n",
       "      <td>1.016826</td>\n",
       "      <td>1.006081</td>\n",
       "      <td>0.979848</td>\n",
       "      <td>0.999357</td>\n",
       "      <td>1.008708</td>\n",
       "      <td>1.012729</td>\n",
       "      <td>1.019460</td>\n",
       "      <td>0.998781</td>\n",
       "      <td>...</td>\n",
       "      <td>0.988942</td>\n",
       "      <td>0.990801</td>\n",
       "      <td>1.011483</td>\n",
       "      <td>1.009978</td>\n",
       "      <td>1.000712</td>\n",
       "      <td>1.016162</td>\n",
       "      <td>1.016679</td>\n",
       "      <td>0.999229</td>\n",
       "      <td>1.022327</td>\n",
       "      <td>0.993093</td>\n",
       "    </tr>\n",
       "    <tr>\n",
       "      <th>2</th>\n",
       "      <td>1.016878</td>\n",
       "      <td>0.978935</td>\n",
       "      <td>1.012572</td>\n",
       "      <td>0.993134</td>\n",
       "      <td>0.982363</td>\n",
       "      <td>0.991231</td>\n",
       "      <td>1.009187</td>\n",
       "      <td>1.020906</td>\n",
       "      <td>1.023899</td>\n",
       "      <td>1.010439</td>\n",
       "      <td>...</td>\n",
       "      <td>0.980078</td>\n",
       "      <td>0.993720</td>\n",
       "      <td>1.008188</td>\n",
       "      <td>1.009171</td>\n",
       "      <td>1.009173</td>\n",
       "      <td>1.023830</td>\n",
       "      <td>1.008413</td>\n",
       "      <td>1.011569</td>\n",
       "      <td>1.010619</td>\n",
       "      <td>1.000312</td>\n",
       "    </tr>\n",
       "    <tr>\n",
       "      <th>3</th>\n",
       "      <td>1.038520</td>\n",
       "      <td>0.977591</td>\n",
       "      <td>1.020394</td>\n",
       "      <td>0.991987</td>\n",
       "      <td>0.992593</td>\n",
       "      <td>0.979169</td>\n",
       "      <td>1.019193</td>\n",
       "      <td>1.025642</td>\n",
       "      <td>1.023988</td>\n",
       "      <td>1.014736</td>\n",
       "      <td>...</td>\n",
       "      <td>0.977615</td>\n",
       "      <td>1.003930</td>\n",
       "      <td>1.007144</td>\n",
       "      <td>1.028305</td>\n",
       "      <td>1.006777</td>\n",
       "      <td>1.032927</td>\n",
       "      <td>1.008236</td>\n",
       "      <td>1.010533</td>\n",
       "      <td>1.001966</td>\n",
       "      <td>0.988981</td>\n",
       "    </tr>\n",
       "    <tr>\n",
       "      <th>4</th>\n",
       "      <td>1.038032</td>\n",
       "      <td>0.967401</td>\n",
       "      <td>1.012617</td>\n",
       "      <td>0.994286</td>\n",
       "      <td>0.982638</td>\n",
       "      <td>0.987658</td>\n",
       "      <td>1.019676</td>\n",
       "      <td>1.011262</td>\n",
       "      <td>1.039575</td>\n",
       "      <td>1.010984</td>\n",
       "      <td>...</td>\n",
       "      <td>0.971048</td>\n",
       "      <td>0.998919</td>\n",
       "      <td>1.014512</td>\n",
       "      <td>1.022322</td>\n",
       "      <td>0.998752</td>\n",
       "      <td>1.034398</td>\n",
       "      <td>0.992429</td>\n",
       "      <td>1.014724</td>\n",
       "      <td>1.018284</td>\n",
       "      <td>0.979611</td>\n",
       "    </tr>\n",
       "    <tr>\n",
       "      <th>...</th>\n",
       "      <td>...</td>\n",
       "      <td>...</td>\n",
       "      <td>...</td>\n",
       "      <td>...</td>\n",
       "      <td>...</td>\n",
       "      <td>...</td>\n",
       "      <td>...</td>\n",
       "      <td>...</td>\n",
       "      <td>...</td>\n",
       "      <td>...</td>\n",
       "      <td>...</td>\n",
       "      <td>...</td>\n",
       "      <td>...</td>\n",
       "      <td>...</td>\n",
       "      <td>...</td>\n",
       "      <td>...</td>\n",
       "      <td>...</td>\n",
       "      <td>...</td>\n",
       "      <td>...</td>\n",
       "      <td>...</td>\n",
       "      <td>...</td>\n",
       "    </tr>\n",
       "    <tr>\n",
       "      <th>2516</th>\n",
       "      <td>3.676009</td>\n",
       "      <td>1.517756</td>\n",
       "      <td>2.935310</td>\n",
       "      <td>1.184310</td>\n",
       "      <td>3.205765</td>\n",
       "      <td>3.585804</td>\n",
       "      <td>2.627253</td>\n",
       "      <td>1.484689</td>\n",
       "      <td>2.119219</td>\n",
       "      <td>2.325369</td>\n",
       "      <td>...</td>\n",
       "      <td>2.924146</td>\n",
       "      <td>2.500444</td>\n",
       "      <td>4.577436</td>\n",
       "      <td>1.188093</td>\n",
       "      <td>2.084403</td>\n",
       "      <td>3.913905</td>\n",
       "      <td>1.792080</td>\n",
       "      <td>1.424876</td>\n",
       "      <td>3.048421</td>\n",
       "      <td>3.499700</td>\n",
       "    </tr>\n",
       "    <tr>\n",
       "      <th>2517</th>\n",
       "      <td>3.686521</td>\n",
       "      <td>1.530144</td>\n",
       "      <td>2.944531</td>\n",
       "      <td>1.174240</td>\n",
       "      <td>3.191907</td>\n",
       "      <td>3.644812</td>\n",
       "      <td>2.592463</td>\n",
       "      <td>1.495715</td>\n",
       "      <td>2.118541</td>\n",
       "      <td>2.344945</td>\n",
       "      <td>...</td>\n",
       "      <td>2.952403</td>\n",
       "      <td>2.519432</td>\n",
       "      <td>4.611486</td>\n",
       "      <td>1.165881</td>\n",
       "      <td>2.047783</td>\n",
       "      <td>3.900063</td>\n",
       "      <td>1.819969</td>\n",
       "      <td>1.444730</td>\n",
       "      <td>2.976563</td>\n",
       "      <td>3.513382</td>\n",
       "    </tr>\n",
       "    <tr>\n",
       "      <th>2518</th>\n",
       "      <td>3.628362</td>\n",
       "      <td>1.510109</td>\n",
       "      <td>2.924711</td>\n",
       "      <td>1.168753</td>\n",
       "      <td>3.224423</td>\n",
       "      <td>3.568590</td>\n",
       "      <td>2.557383</td>\n",
       "      <td>1.491336</td>\n",
       "      <td>2.108162</td>\n",
       "      <td>2.368039</td>\n",
       "      <td>...</td>\n",
       "      <td>2.937944</td>\n",
       "      <td>2.523903</td>\n",
       "      <td>4.630417</td>\n",
       "      <td>1.159910</td>\n",
       "      <td>2.053281</td>\n",
       "      <td>3.931771</td>\n",
       "      <td>1.835823</td>\n",
       "      <td>1.449457</td>\n",
       "      <td>2.973702</td>\n",
       "      <td>3.518557</td>\n",
       "    </tr>\n",
       "    <tr>\n",
       "      <th>2519</th>\n",
       "      <td>3.595625</td>\n",
       "      <td>1.532955</td>\n",
       "      <td>2.904278</td>\n",
       "      <td>1.170127</td>\n",
       "      <td>3.227203</td>\n",
       "      <td>3.540337</td>\n",
       "      <td>2.538398</td>\n",
       "      <td>1.476830</td>\n",
       "      <td>2.076616</td>\n",
       "      <td>2.349541</td>\n",
       "      <td>...</td>\n",
       "      <td>2.956889</td>\n",
       "      <td>2.552813</td>\n",
       "      <td>4.585819</td>\n",
       "      <td>1.158734</td>\n",
       "      <td>2.027627</td>\n",
       "      <td>3.946569</td>\n",
       "      <td>1.819588</td>\n",
       "      <td>1.455488</td>\n",
       "      <td>2.938610</td>\n",
       "      <td>3.450070</td>\n",
       "    </tr>\n",
       "    <tr>\n",
       "      <th>2520</th>\n",
       "      <td>3.604511</td>\n",
       "      <td>1.556391</td>\n",
       "      <td>2.953732</td>\n",
       "      <td>1.166045</td>\n",
       "      <td>3.249233</td>\n",
       "      <td>3.532960</td>\n",
       "      <td>2.542436</td>\n",
       "      <td>1.456630</td>\n",
       "      <td>2.075784</td>\n",
       "      <td>2.362455</td>\n",
       "      <td>...</td>\n",
       "      <td>2.961091</td>\n",
       "      <td>2.600066</td>\n",
       "      <td>4.546991</td>\n",
       "      <td>1.161924</td>\n",
       "      <td>1.993113</td>\n",
       "      <td>3.950739</td>\n",
       "      <td>1.810415</td>\n",
       "      <td>1.453259</td>\n",
       "      <td>2.869766</td>\n",
       "      <td>3.407935</td>\n",
       "    </tr>\n",
       "  </tbody>\n",
       "</table>\n",
       "<p>2521 rows × 500 columns</p>\n",
       "</div>"
      ],
      "text/plain": [
       "           0         1         2         3         4         5         6    \\\n",
       "0     1.000000  1.000000  1.000000  1.000000  1.000000  1.000000  1.000000   \n",
       "1     1.018717  0.985884  1.016826  1.006081  0.979848  0.999357  1.008708   \n",
       "2     1.016878  0.978935  1.012572  0.993134  0.982363  0.991231  1.009187   \n",
       "3     1.038520  0.977591  1.020394  0.991987  0.992593  0.979169  1.019193   \n",
       "4     1.038032  0.967401  1.012617  0.994286  0.982638  0.987658  1.019676   \n",
       "...        ...       ...       ...       ...       ...       ...       ...   \n",
       "2516  3.676009  1.517756  2.935310  1.184310  3.205765  3.585804  2.627253   \n",
       "2517  3.686521  1.530144  2.944531  1.174240  3.191907  3.644812  2.592463   \n",
       "2518  3.628362  1.510109  2.924711  1.168753  3.224423  3.568590  2.557383   \n",
       "2519  3.595625  1.532955  2.904278  1.170127  3.227203  3.540337  2.538398   \n",
       "2520  3.604511  1.556391  2.953732  1.166045  3.249233  3.532960  2.542436   \n",
       "\n",
       "           7         8         9    ...       490       491       492  \\\n",
       "0     1.000000  1.000000  1.000000  ...  1.000000  1.000000  1.000000   \n",
       "1     1.012729  1.019460  0.998781  ...  0.988942  0.990801  1.011483   \n",
       "2     1.020906  1.023899  1.010439  ...  0.980078  0.993720  1.008188   \n",
       "3     1.025642  1.023988  1.014736  ...  0.977615  1.003930  1.007144   \n",
       "4     1.011262  1.039575  1.010984  ...  0.971048  0.998919  1.014512   \n",
       "...        ...       ...       ...  ...       ...       ...       ...   \n",
       "2516  1.484689  2.119219  2.325369  ...  2.924146  2.500444  4.577436   \n",
       "2517  1.495715  2.118541  2.344945  ...  2.952403  2.519432  4.611486   \n",
       "2518  1.491336  2.108162  2.368039  ...  2.937944  2.523903  4.630417   \n",
       "2519  1.476830  2.076616  2.349541  ...  2.956889  2.552813  4.585819   \n",
       "2520  1.456630  2.075784  2.362455  ...  2.961091  2.600066  4.546991   \n",
       "\n",
       "           493       494       495       496       497       498       499  \n",
       "0     1.000000  1.000000  1.000000  1.000000  1.000000  1.000000  1.000000  \n",
       "1     1.009978  1.000712  1.016162  1.016679  0.999229  1.022327  0.993093  \n",
       "2     1.009171  1.009173  1.023830  1.008413  1.011569  1.010619  1.000312  \n",
       "3     1.028305  1.006777  1.032927  1.008236  1.010533  1.001966  0.988981  \n",
       "4     1.022322  0.998752  1.034398  0.992429  1.014724  1.018284  0.979611  \n",
       "...        ...       ...       ...       ...       ...       ...       ...  \n",
       "2516  1.188093  2.084403  3.913905  1.792080  1.424876  3.048421  3.499700  \n",
       "2517  1.165881  2.047783  3.900063  1.819969  1.444730  2.976563  3.513382  \n",
       "2518  1.159910  2.053281  3.931771  1.835823  1.449457  2.973702  3.518557  \n",
       "2519  1.158734  2.027627  3.946569  1.819588  1.455488  2.938610  3.450070  \n",
       "2520  1.161924  1.993113  3.950739  1.810415  1.453259  2.869766  3.407935  \n",
       "\n",
       "[2521 rows x 500 columns]"
      ]
     },
     "execution_count": 50,
     "metadata": {},
     "output_type": "execute_result"
    }
   ],
   "source": [
    "# Configure a Monte Carlo simulation to forecast 10 years cumulative returns\n",
    "# The weights should be split 20% to AGG and 80% to SPY.\n",
    "# Run 500 samples.\n",
    "MC_tenyear = MCSimulation(\n",
    "    portfolio_data = df_portfolio,\n",
    "    weights = [.80,.20],\n",
    "    num_simulation = 500,\n",
    "    num_trading_days = 252*10\n",
    ")\n",
    "\n",
    "# Review the simulation input data\n",
    "MC_tenyear.portfolio_data.head()\n",
    "MC_tenyear.calc_cumulative_return()\n",
    "\n",
    "\n"
   ]
  },
  {
   "cell_type": "code",
   "execution_count": 51,
   "metadata": {},
   "outputs": [],
   "source": [
    "# Run the Monte Carlo simulation to forecast 10 years cumulative returns\n"
   ]
  },
  {
   "cell_type": "code",
   "execution_count": 52,
   "metadata": {},
   "outputs": [
    {
     "data": {
      "image/png": "[encoded data removed]",
      "text/plain": [
       "<Figure size 432x288 with 1 Axes>"
      ]
     },
     "metadata": {
      "needs_background": "light"
     },
     "output_type": "display_data"
    }
   ],
   "source": [
    "# Visualize the 10-year Monte Carlo simulation by creating an\n",
    "# overlay line plot\n",
    "MC_sim_line_plot = MC_tenyear.plot_simulation()\n",
    "\n",
    "# Save the plot for future use\n",
    "MC_sim_line_plot.get_figure().savefig(\"MC_tenyear_sim_plot.png\", bbox_inches=\"tight\")\n",
    "\n"
   ]
  },
  {
   "cell_type": "code",
   "execution_count": 53,
   "metadata": {},
   "outputs": [
    {
     "data": {
      "image/png": "[encoded data removed]",
      "text/plain": [
       "<Figure size 432x288 with 1 Axes>"
      ]
     },
     "metadata": {
      "needs_background": "light"
     },
     "output_type": "display_data"
    }
   ],
   "source": [
    "# Visualize the probability distribution of the 10-year Monte Carlo simulation \n",
    "# by plotting a histogram\n",
    "MC_sim10_agg_plot = MC_tenyear.portfolio_data[(\"AGG\", \"close\")].plot(kind=\"hist\",title='AGG Probability Distribution')\n",
    "MC_sim10_agg_plot = MC_tenyear.portfolio_data[(\"SPY\", \"close\")].plot(kind=\"hist\",title='AGG Probability Distribution')\n",
    "\n"
   ]
  },
  {
   "cell_type": "code",
   "execution_count": 54,
   "metadata": {},
   "outputs": [
    {
     "name": "stdout",
     "output_type": "stream",
     "text": [
      "Running Monte Carlo simulation number 0.\n",
      "Running Monte Carlo simulation number 10.\n",
      "Running Monte Carlo simulation number 20.\n",
      "Running Monte Carlo simulation number 30.\n",
      "Running Monte Carlo simulation number 40.\n",
      "Running Monte Carlo simulation number 50.\n",
      "Running Monte Carlo simulation number 60.\n",
      "Running Monte Carlo simulation number 70.\n",
      "Running Monte Carlo simulation number 80.\n",
      "Running Monte Carlo simulation number 90.\n",
      "Running Monte Carlo simulation number 100.\n"
     ]
    },
    {
     "name": "stderr",
     "output_type": "stream",
     "text": [
      "/Users/crystalevans/finTech/Module5/MCForecastTools.py:117: PerformanceWarning: DataFrame is highly fragmented.  This is usually the result of calling `frame.insert` many times, which has poor performance.  Consider joining all columns at once using pd.concat(axis=1) instead.  To get a de-fragmented frame, use `newframe = frame.copy()`\n",
      "  portfolio_cumulative_returns[n] = (1 + sim_df.fillna(0)).cumprod()\n"
     ]
    },
    {
     "name": "stdout",
     "output_type": "stream",
     "text": [
      "Running Monte Carlo simulation number 110.\n",
      "Running Monte Carlo simulation number 120.\n",
      "Running Monte Carlo simulation number 130.\n",
      "Running Monte Carlo simulation number 140.\n",
      "Running Monte Carlo simulation number 150.\n",
      "Running Monte Carlo simulation number 160.\n",
      "Running Monte Carlo simulation number 170.\n",
      "Running Monte Carlo simulation number 180.\n",
      "Running Monte Carlo simulation number 190.\n",
      "Running Monte Carlo simulation number 200.\n",
      "Running Monte Carlo simulation number 210.\n",
      "Running Monte Carlo simulation number 220.\n",
      "Running Monte Carlo simulation number 230.\n",
      "Running Monte Carlo simulation number 240.\n",
      "Running Monte Carlo simulation number 250.\n",
      "Running Monte Carlo simulation number 260.\n",
      "Running Monte Carlo simulation number 270.\n",
      "Running Monte Carlo simulation number 280.\n",
      "Running Monte Carlo simulation number 290.\n",
      "Running Monte Carlo simulation number 300.\n",
      "Running Monte Carlo simulation number 310.\n",
      "Running Monte Carlo simulation number 320.\n",
      "Running Monte Carlo simulation number 330.\n",
      "Running Monte Carlo simulation number 340.\n",
      "Running Monte Carlo simulation number 350.\n",
      "Running Monte Carlo simulation number 360.\n",
      "Running Monte Carlo simulation number 370.\n",
      "Running Monte Carlo simulation number 380.\n",
      "Running Monte Carlo simulation number 390.\n",
      "Running Monte Carlo simulation number 400.\n",
      "Running Monte Carlo simulation number 410.\n",
      "Running Monte Carlo simulation number 420.\n",
      "Running Monte Carlo simulation number 430.\n",
      "Running Monte Carlo simulation number 440.\n",
      "Running Monte Carlo simulation number 450.\n",
      "Running Monte Carlo simulation number 460.\n",
      "Running Monte Carlo simulation number 470.\n",
      "Running Monte Carlo simulation number 480.\n",
      "Running Monte Carlo simulation number 490.\n"
     ]
    }
   ],
   "source": [
    "# Generate summary statistics from the 10-year Monte Carlo simulation results\n",
    "# Save the results as a variable\n",
    "\n",
    "\n",
    "# Generate descriptive statistics\n",
    "MC_tenyear_cum = MC_tenyear.calc_cumulative_return()\n",
    "\n",
    "\n"
   ]
  },
  {
   "cell_type": "code",
   "execution_count": 55,
   "metadata": {},
   "outputs": [
    {
     "data": {
      "text/html": [
       "<div>\n",
       "<style scoped>\n",
       "    .dataframe tbody tr th:only-of-type {\n",
       "        vertical-align: middle;\n",
       "    }\n",
       "\n",
       "    .dataframe tbody tr th {\n",
       "        vertical-align: top;\n",
       "    }\n",
       "\n",
       "    .dataframe thead th {\n",
       "        text-align: right;\n",
       "    }\n",
       "</style>\n",
       "<table border=\"1\" class=\"dataframe\">\n",
       "  <thead>\n",
       "    <tr style=\"text-align: right;\">\n",
       "      <th></th>\n",
       "      <th>0</th>\n",
       "      <th>1</th>\n",
       "      <th>2</th>\n",
       "      <th>3</th>\n",
       "      <th>4</th>\n",
       "      <th>5</th>\n",
       "      <th>6</th>\n",
       "      <th>7</th>\n",
       "      <th>8</th>\n",
       "      <th>9</th>\n",
       "      <th>...</th>\n",
       "      <th>490</th>\n",
       "      <th>491</th>\n",
       "      <th>492</th>\n",
       "      <th>493</th>\n",
       "      <th>494</th>\n",
       "      <th>495</th>\n",
       "      <th>496</th>\n",
       "      <th>497</th>\n",
       "      <th>498</th>\n",
       "      <th>499</th>\n",
       "    </tr>\n",
       "  </thead>\n",
       "  <tbody>\n",
       "    <tr>\n",
       "      <th>count</th>\n",
       "      <td>2521.000000</td>\n",
       "      <td>2521.000000</td>\n",
       "      <td>2521.000000</td>\n",
       "      <td>2521.000000</td>\n",
       "      <td>2521.000000</td>\n",
       "      <td>2521.000000</td>\n",
       "      <td>2521.000000</td>\n",
       "      <td>2521.000000</td>\n",
       "      <td>2521.000000</td>\n",
       "      <td>2521.000000</td>\n",
       "      <td>...</td>\n",
       "      <td>2521.000000</td>\n",
       "      <td>2521.000000</td>\n",
       "      <td>2521.000000</td>\n",
       "      <td>2521.000000</td>\n",
       "      <td>2521.000000</td>\n",
       "      <td>2521.000000</td>\n",
       "      <td>2521.000000</td>\n",
       "      <td>2521.000000</td>\n",
       "      <td>2521.000000</td>\n",
       "      <td>2521.000000</td>\n",
       "    </tr>\n",
       "    <tr>\n",
       "      <th>mean</th>\n",
       "      <td>1.135236</td>\n",
       "      <td>1.724942</td>\n",
       "      <td>1.263480</td>\n",
       "      <td>1.945024</td>\n",
       "      <td>0.900612</td>\n",
       "      <td>1.894388</td>\n",
       "      <td>2.137526</td>\n",
       "      <td>1.649342</td>\n",
       "      <td>2.147944</td>\n",
       "      <td>2.369486</td>\n",
       "      <td>...</td>\n",
       "      <td>1.583319</td>\n",
       "      <td>2.521867</td>\n",
       "      <td>1.708313</td>\n",
       "      <td>1.317580</td>\n",
       "      <td>1.988421</td>\n",
       "      <td>1.496588</td>\n",
       "      <td>1.807095</td>\n",
       "      <td>2.278691</td>\n",
       "      <td>1.759091</td>\n",
       "      <td>2.599039</td>\n",
       "    </tr>\n",
       "    <tr>\n",
       "      <th>std</th>\n",
       "      <td>0.181121</td>\n",
       "      <td>0.798200</td>\n",
       "      <td>0.209199</td>\n",
       "      <td>0.993946</td>\n",
       "      <td>0.257742</td>\n",
       "      <td>0.977940</td>\n",
       "      <td>0.901630</td>\n",
       "      <td>0.398268</td>\n",
       "      <td>0.816111</td>\n",
       "      <td>1.055724</td>\n",
       "      <td>...</td>\n",
       "      <td>0.615475</td>\n",
       "      <td>1.018700</td>\n",
       "      <td>0.507146</td>\n",
       "      <td>0.382222</td>\n",
       "      <td>0.642050</td>\n",
       "      <td>0.318345</td>\n",
       "      <td>0.409082</td>\n",
       "      <td>0.795431</td>\n",
       "      <td>0.699622</td>\n",
       "      <td>0.877009</td>\n",
       "    </tr>\n",
       "    <tr>\n",
       "      <th>min</th>\n",
       "      <td>0.723461</td>\n",
       "      <td>0.704673</td>\n",
       "      <td>0.885609</td>\n",
       "      <td>0.834569</td>\n",
       "      <td>0.563986</td>\n",
       "      <td>0.864534</td>\n",
       "      <td>0.850635</td>\n",
       "      <td>0.951480</td>\n",
       "      <td>0.845927</td>\n",
       "      <td>0.948084</td>\n",
       "      <td>...</td>\n",
       "      <td>0.870667</td>\n",
       "      <td>0.983438</td>\n",
       "      <td>0.952384</td>\n",
       "      <td>0.716071</td>\n",
       "      <td>0.962141</td>\n",
       "      <td>0.975109</td>\n",
       "      <td>0.899546</td>\n",
       "      <td>0.947719</td>\n",
       "      <td>0.764846</td>\n",
       "      <td>1.000000</td>\n",
       "    </tr>\n",
       "    <tr>\n",
       "      <th>25%</th>\n",
       "      <td>1.004409</td>\n",
       "      <td>0.937149</td>\n",
       "      <td>1.100115</td>\n",
       "      <td>1.028411</td>\n",
       "      <td>0.719601</td>\n",
       "      <td>1.258847</td>\n",
       "      <td>1.406256</td>\n",
       "      <td>1.292369</td>\n",
       "      <td>1.595698</td>\n",
       "      <td>1.591787</td>\n",
       "      <td>...</td>\n",
       "      <td>1.086881</td>\n",
       "      <td>1.882504</td>\n",
       "      <td>1.262760</td>\n",
       "      <td>0.963941</td>\n",
       "      <td>1.332557</td>\n",
       "      <td>1.295369</td>\n",
       "      <td>1.572568</td>\n",
       "      <td>1.559017</td>\n",
       "      <td>1.110947</td>\n",
       "      <td>1.929277</td>\n",
       "    </tr>\n",
       "    <tr>\n",
       "      <th>50%</th>\n",
       "      <td>1.168650</td>\n",
       "      <td>1.558264</td>\n",
       "      <td>1.207871</td>\n",
       "      <td>1.728220</td>\n",
       "      <td>0.809522</td>\n",
       "      <td>1.517221</td>\n",
       "      <td>2.083262</td>\n",
       "      <td>1.651126</td>\n",
       "      <td>1.907404</td>\n",
       "      <td>1.845395</td>\n",
       "      <td>...</td>\n",
       "      <td>1.473031</td>\n",
       "      <td>2.333048</td>\n",
       "      <td>1.542844</td>\n",
       "      <td>1.253978</td>\n",
       "      <td>2.157664</td>\n",
       "      <td>1.414659</td>\n",
       "      <td>1.854382</td>\n",
       "      <td>2.164997</td>\n",
       "      <td>1.782520</td>\n",
       "      <td>2.734583</td>\n",
       "    </tr>\n",
       "    <tr>\n",
       "      <th>75%</th>\n",
       "      <td>1.279372</td>\n",
       "      <td>2.515893</td>\n",
       "      <td>1.409645</td>\n",
       "      <td>2.494693</td>\n",
       "      <td>1.029683</td>\n",
       "      <td>2.252913</td>\n",
       "      <td>2.684374</td>\n",
       "      <td>1.921137</td>\n",
       "      <td>2.673976</td>\n",
       "      <td>3.450725</td>\n",
       "      <td>...</td>\n",
       "      <td>1.867382</td>\n",
       "      <td>2.645908</td>\n",
       "      <td>2.083936</td>\n",
       "      <td>1.667582</td>\n",
       "      <td>2.443785</td>\n",
       "      <td>1.581129</td>\n",
       "      <td>2.072329</td>\n",
       "      <td>2.964424</td>\n",
       "      <td>2.223980</td>\n",
       "      <td>3.231213</td>\n",
       "    </tr>\n",
       "    <tr>\n",
       "      <th>max</th>\n",
       "      <td>1.463922</td>\n",
       "      <td>3.307520</td>\n",
       "      <td>1.857567</td>\n",
       "      <td>4.512274</td>\n",
       "      <td>1.718917</td>\n",
       "      <td>5.551648</td>\n",
       "      <td>4.782052</td>\n",
       "      <td>2.498730</td>\n",
       "      <td>4.000860</td>\n",
       "      <td>4.701832</td>\n",
       "      <td>...</td>\n",
       "      <td>3.564800</td>\n",
       "      <td>5.355646</td>\n",
       "      <td>2.960434</td>\n",
       "      <td>2.177522</td>\n",
       "      <td>3.505773</td>\n",
       "      <td>2.431579</td>\n",
       "      <td>2.754889</td>\n",
       "      <td>4.175733</td>\n",
       "      <td>3.345778</td>\n",
       "      <td>4.799774</td>\n",
       "    </tr>\n",
       "  </tbody>\n",
       "</table>\n",
       "<p>8 rows × 500 columns</p>\n",
       "</div>"
      ],
      "text/plain": [
       "               0            1            2            3            4    \\\n",
       "count  2521.000000  2521.000000  2521.000000  2521.000000  2521.000000   \n",
       "mean      1.135236     1.724942     1.263480     1.945024     0.900612   \n",
       "std       0.181121     0.798200     0.209199     0.993946     0.257742   \n",
       "min       0.723461     0.704673     0.885609     0.834569     0.563986   \n",
       "25%       1.004409     0.937149     1.100115     1.028411     0.719601   \n",
       "50%       1.168650     1.558264     1.207871     1.728220     0.809522   \n",
       "75%       1.279372     2.515893     1.409645     2.494693     1.029683   \n",
       "max       1.463922     3.307520     1.857567     4.512274     1.718917   \n",
       "\n",
       "               5            6            7            8            9    ...  \\\n",
       "count  2521.000000  2521.000000  2521.000000  2521.000000  2521.000000  ...   \n",
       "mean      1.894388     2.137526     1.649342     2.147944     2.369486  ...   \n",
       "std       0.977940     0.901630     0.398268     0.816111     1.055724  ...   \n",
       "min       0.864534     0.850635     0.951480     0.845927     0.948084  ...   \n",
       "25%       1.258847     1.406256     1.292369     1.595698     1.591787  ...   \n",
       "50%       1.517221     2.083262     1.651126     1.907404     1.845395  ...   \n",
       "75%       2.252913     2.684374     1.921137     2.673976     3.450725  ...   \n",
       "max       5.551648     4.782052     2.498730     4.000860     4.701832  ...   \n",
       "\n",
       "               490          491          492          493          494  \\\n",
       "count  2521.000000  2521.000000  2521.000000  2521.000000  2521.000000   \n",
       "mean      1.583319     2.521867     1.708313     1.317580     1.988421   \n",
       "std       0.615475     1.018700     0.507146     0.382222     0.642050   \n",
       "min       0.870667     0.983438     0.952384     0.716071     0.962141   \n",
       "25%       1.086881     1.882504     1.262760     0.963941     1.332557   \n",
       "50%       1.473031     2.333048     1.542844     1.253978     2.157664   \n",
       "75%       1.867382     2.645908     2.083936     1.667582     2.443785   \n",
       "max       3.564800     5.355646     2.960434     2.177522     3.505773   \n",
       "\n",
       "               495          496          497          498          499  \n",
       "count  2521.000000  2521.000000  2521.000000  2521.000000  2521.000000  \n",
       "mean      1.496588     1.807095     2.278691     1.759091     2.599039  \n",
       "std       0.318345     0.409082     0.795431     0.699622     0.877009  \n",
       "min       0.975109     0.899546     0.947719     0.764846     1.000000  \n",
       "25%       1.295369     1.572568     1.559017     1.110947     1.929277  \n",
       "50%       1.414659     1.854382     2.164997     1.782520     2.734583  \n",
       "75%       1.581129     2.072329     2.964424     2.223980     3.231213  \n",
       "max       2.431579     2.754889     4.175733     3.345778     4.799774  \n",
       "\n",
       "[8 rows x 500 columns]"
      ]
     },
     "execution_count": 55,
     "metadata": {},
     "output_type": "execute_result"
    }
   ],
   "source": [
    "# Review the 10-year Monte Carlo summary statistics\n",
    "MC_tenyear_cum.describe()"
   ]
  },
  {
   "cell_type": "code",
   "execution_count": null,
   "metadata": {},
   "outputs": [],
   "source": []
  },
  {
   "cell_type": "markdown",
   "metadata": {},
   "source": [
    "### Answer the following questions:"
   ]
  },
  {
   "cell_type": "markdown",
   "metadata": {},
   "source": [
    "#### Question: Using the current value of only the stock and bond portion of the member's portfolio and the summary statistics that you generated from the new Monte Carlo simulation, what are the lower and upper bounds for the expected value of the portfolio (with the new weights) with a 95% confidence interval?"
   ]
  },
  {
   "cell_type": "code",
   "execution_count": 56,
   "metadata": {},
   "outputs": [
    {
     "name": "stdout",
     "output_type": "stream",
     "text": [
      "The current balance of the stock and bond portion of the members portfolio is $103716.70\n"
     ]
    }
   ],
   "source": [
    "# Print the current balance of the stock and bond portion of the members portfolio\n",
    "total_stocks_bonds = agg_value + spy_value\n",
    "print(f\"The current balance of the stock and bond portion of the members portfolio is ${total_stocks_bonds:0.2f}\")"
   ]
  },
  {
   "cell_type": "code",
   "execution_count": 57,
   "metadata": {},
   "outputs": [
    {
     "data": {
      "text/plain": [
       "(283.04690885072637, 22.21361565776465)"
      ]
     },
     "execution_count": 57,
     "metadata": {},
     "output_type": "execute_result"
    }
   ],
   "source": [
    "ten_spy_close_df = MC_tenyear.portfolio_data[(\"SPY\",\"close\")]\n",
    "ten_spy_close_mean = spy_close_df.describe()['mean']\n",
    "ten_spy_close_std = spy_close_df.describe()['std']\n",
    "ten_spy_close_mean, spy_close_std"
   ]
  },
  {
   "cell_type": "code",
   "execution_count": 58,
   "metadata": {},
   "outputs": [
    {
     "data": {
      "text/plain": [
       "(110.02952443857325, 4.026540132038654)"
      ]
     },
     "execution_count": 58,
     "metadata": {},
     "output_type": "execute_result"
    }
   ],
   "source": [
    "ten_agg_close_df = MC_tenyear.portfolio_data[(\"AGG\",\"close\")]\n",
    "ten_agg_close_mean = ten_agg_close_df.describe()['mean']\n",
    "ten_agg_close_std = ten_agg_close_df.describe()['std']\n",
    "ten_agg_close_mean, ten_agg_close_std"
   ]
  },
  {
   "cell_type": "code",
   "execution_count": 59,
   "metadata": {},
   "outputs": [],
   "source": [
    "port_mean = ten_spy_close_mean * 0.8 + ten_agg_close_mean * 0.2\n",
    "port_std = ten_spy_close_std * 0.8 + ten_agg_close_std * 0.2"
   ]
  },
  {
   "cell_type": "code",
   "execution_count": 60,
   "metadata": {},
   "outputs": [
    {
     "data": {
      "text/plain": [
       "(212.03407888516165, 284.85278505142986)"
      ]
     },
     "execution_count": 60,
     "metadata": {},
     "output_type": "execute_result"
    }
   ],
   "source": [
    "# Use the lower and upper `95%` confidence intervals to calculate the range of the possible outcomes for the current stock/bond portfolio\n",
    "ci_lower_ten_cumulative_return = port_mean - (1.96 * port_std)\n",
    "ci_upper_ten_cumulative_return = port_mean + (1.96 * port_std)\n",
    "\n",
    "# Print the result of your calculations\n",
    "ci_lower_ten_cumulative_return , ci_upper_ten_cumulative_return"
   ]
  },
  {
   "cell_type": "markdown",
   "metadata": {},
   "source": [
    "#### Question: Will weighting the portfolio more heavily to stocks allow the credit union members to retire after only 10 years?"
   ]
  },
  {
   "cell_type": "raw",
   "metadata": {},
   "source": [
    "**Answer** # \n",
    "#With the ten year strategy the credit union memeber has invested 80% in stocks and 20% in bonds allowing for a greater return in shorter period of time. Much more risky but definitely allows for better performance. \n",
    "#For example with the lower ten cumulative returns the member will earn 212.03407888516165, rather than 184.55993560881558 over the thirty year investment strategy. "
   ]
  },
  {
   "cell_type": "code",
   "execution_count": null,
   "metadata": {},
   "outputs": [],
   "source": [
    "#With the ten year strategy the credit union memeber has invested 80% in stocks and 20% in bonds allowing for a greater return in shorter period of time. Much more risky but definitely allows for better performance. \n",
    "#For example with the lower ten cumulative returns the member will earn 212.03407888516165, rather than 184.55993560881558 over the thirty year investment strategy. "
   ]
  }
 ],
 "metadata": {
  "kernelspec": {
   "display_name": "Python 3 (ipykernel)",
   "language": "python",
   "name": "python3"
  },
  "language_info": {
   "codemirror_mode": {
    "name": "ipython",
    "version": 3
   },
   "file_extension": ".py",
   "mimetype": "text/x-python",
   "name": "python",
   "nbconvert_exporter": "python",
   "pygments_lexer": "ipython3",
   "version": "3.7.13"
  }
 },
 "nbformat": 4,
 "nbformat_minor": 4
}
