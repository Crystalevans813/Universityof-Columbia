{
 "cells": [
  {
   "cell_type": "markdown",
   "metadata": {
    "tags": []
   },
   "source": [
    "# Financial Planning with APIs and Simulations\n",
    "\n",
    "In this Challenge, you’ll create two financial analysis tools by using a single Jupyter notebook:\n",
    "\n",
    "Part 1: A financial planner for emergencies. The members will be able to use this tool to visualize their current savings. The members can then determine if they have enough reserves for an emergency fund.\n",
    "\n",
    "Part 2: A financial planner for retirement. This tool will forecast the performance of their retirement portfolio in 30 years. To do this, the tool will make an Alpaca API call via the Alpaca SDK to get historical price data for use in Monte Carlo simulations.\n",
    "\n",
    "You’ll use the information from the Monte Carlo simulation to answer questions about the portfolio in your Jupyter notebook.\n",
    "\n"
   ]
  },
  {
   "cell_type": "code",
   "execution_count": 1,
   "metadata": {},
   "outputs": [],
   "source": [
    "from alpaca_trade_api.rest import TimeFrame "
   ]
  },
  {
   "cell_type": "code",
   "execution_count": 2,
   "metadata": {},
   "outputs": [],
   "source": [
    "# Import the required libraries and dependencies\n",
    "import os\n",
    "import requests\n",
    "import json\n",
    "import pandas as pd\n",
    "from dotenv import load_dotenv\n",
    "import alpaca_trade_api as tradeapi\n",
    "from MCForecastTools import MCSimulation\n",
    "\n",
    "%matplotlib inline"
   ]
  },
  {
   "cell_type": "code",
   "execution_count": 3,
   "metadata": {},
   "outputs": [
    {
     "data": {
      "text/plain": [
       "True"
      ]
     },
     "execution_count": 3,
     "metadata": {},
     "output_type": "execute_result"
    }
   ],
   "source": [
    "# Load the environment variables from the .env file\n",
    "#by calling the load_dotenv function\n",
    "load_dotenv()"
   ]
  },
  {
   "cell_type": "code",
   "execution_count": null,
   "metadata": {},
   "outputs": [],
   "source": []
  },
  {
   "cell_type": "markdown",
   "metadata": {},
   "source": [
    "## Part 1: Create a Financial Planner for Emergencies"
   ]
  },
  {
   "cell_type": "markdown",
   "metadata": {},
   "source": [
    "### Evaluate the Cryptocurrency Wallet by Using the Requests Library\n",
    "\n",
    "In this section, you’ll determine the current value of a member’s cryptocurrency wallet. You’ll collect the current prices for the Bitcoin and Ethereum cryptocurrencies by using the Python Requests library. For the prototype, you’ll assume that the member holds the 1.2 Bitcoins (BTC) and 5.3 Ethereum coins (ETH). To do all this, complete the following steps:\n",
    "\n",
    "1. Create a variable named `monthly_income`, and set its value to `12000`.\n",
    "\n",
    "2. Use the Requests library to get the current price (in US dollars) of Bitcoin (BTC) and Ethereum (ETH) by using the API endpoints that the starter code supplies.\n",
    "\n",
    "3. Navigate the JSON response object to access the current price of each coin, and store each in a variable.\n",
    "\n",
    "    > **Hint** Note the specific identifier for each cryptocurrency in the API JSON response. The Bitcoin identifier is `1`, and the Ethereum identifier is `1027`.\n",
    "\n",
    "4. Calculate the value, in US dollars, of the current amount of each cryptocurrency and of the entire cryptocurrency wallet.\n",
    "\n"
   ]
  },
  {
   "cell_type": "code",
   "execution_count": 4,
   "metadata": {},
   "outputs": [],
   "source": [
    "# The current number of coins for each cryptocurrency asset held in the portfolio.\n",
    "btc_coins = 1.2\n",
    "eth_coins = 5.3"
   ]
  },
  {
   "cell_type": "markdown",
   "metadata": {},
   "source": [
    "#### Step 1: Create a variable named `monthly_income`, and set its value to `12000`."
   ]
  },
  {
   "cell_type": "code",
   "execution_count": 5,
   "metadata": {},
   "outputs": [],
   "source": [
    "# The monthly amount for the member's household income\n",
    "monthly_income = 12000\n"
   ]
  },
  {
   "cell_type": "markdown",
   "metadata": {},
   "source": [
    "#### Review the endpoint URLs for the API calls to Free Crypto API in order to get the current pricing information for both BTC and ETH."
   ]
  },
  {
   "cell_type": "code",
   "execution_count": 6,
   "metadata": {},
   "outputs": [],
   "source": [
    "# The Free Crypto API Call endpoint URLs for the held cryptocurrency assets\n",
    "btc_url = \"https://api.alternative.me/v2/ticker/Bitcoin/?convert=USD\"\n",
    "eth_url = \"https://api.alternative.me/v2/ticker/Ethereum/?convert=USD\""
   ]
  },
  {
   "cell_type": "markdown",
   "metadata": {},
   "source": [
    "#### Step 2. Use the Requests library to get the current price (in US dollars) of Bitcoin (BTC) and Ethereum (ETH) by using the API endpoints that the starter code supplied."
   ]
  },
  {
   "cell_type": "code",
   "execution_count": 7,
   "metadata": {},
   "outputs": [
    {
     "name": "stdout",
     "output_type": "stream",
     "text": [
      "{\n",
      "    \"data\": {\n",
      "        \"1\": {\n",
      "            \"circulating_supply\": 19099475,\n",
      "            \"id\": 1,\n",
      "            \"last_updated\": 1658425745,\n",
      "            \"max_supply\": 21000000,\n",
      "            \"name\": \"Bitcoin\",\n",
      "            \"quotes\": {\n",
      "                \"USD\": {\n",
      "                    \"market_cap\": 437489084409,\n",
      "                    \"percent_change_1h\": -0.445003950148721,\n",
      "                    \"percent_change_24h\": -3.23463266837213,\n",
      "                    \"percent_change_7d\": 13.2608699544297,\n",
      "                    \"percentage_change_1h\": -0.445003950148721,\n",
      "                    \"percentage_change_24h\": -3.23463266837213,\n",
      "                    \"percentage_change_7d\": 13.2608699544297,\n",
      "                    \"price\": 22907.0,\n",
      "                    \"volume_24h\": 55477620533\n",
      "                }\n",
      "            },\n",
      "            \"rank\": 1,\n",
      "            \"symbol\": \"BTC\",\n",
      "            \"total_supply\": 19099475,\n",
      "            \"website_slug\": \"bitcoin\"\n",
      "        }\n",
      "    },\n",
      "    \"metadata\": {\n",
      "        \"error\": null,\n",
      "        \"num_cryptocurrencies\": 3116,\n",
      "        \"timestamp\": 1658425745\n",
      "    }\n",
      "}\n"
     ]
    }
   ],
   "source": [
    "# Using the Python requests library, make an API call to access the current price of BTC\n",
    "\n",
    "\n",
    "btc_url = \"https://api.alternative.me/v2/ticker/Bitcoin/?convert=USD\"\n",
    "\n",
    "# Use the json.dumps function to review the response data from the API call\n",
    "# Use the indent and sort_keys parameters to make the response object readable\n",
    "btc_url_response = requests.get(btc_url).json()\n",
    "print(json.dumps(btc_url_response, indent=4, sort_keys=True))"
   ]
  },
  {
   "cell_type": "code",
   "execution_count": 8,
   "metadata": {
    "tags": []
   },
   "outputs": [
    {
     "name": "stdout",
     "output_type": "stream",
     "text": [
      "{\n",
      "    \"data\": {\n",
      "        \"1027\": {\n",
      "            \"circulating_supply\": 119767945,\n",
      "            \"id\": 1027,\n",
      "            \"last_updated\": 1658425740,\n",
      "            \"max_supply\": 119768075,\n",
      "            \"name\": \"Ethereum\",\n",
      "            \"quotes\": {\n",
      "                \"USD\": {\n",
      "                    \"market_cap\": 184697465123,\n",
      "                    \"percent_change_1h\": -0.882051079040163,\n",
      "                    \"percent_change_24h\": -1.17433782116612,\n",
      "                    \"percent_change_7d\": 38.5977700752805,\n",
      "                    \"percentage_change_1h\": -0.882051079040163,\n",
      "                    \"percentage_change_24h\": -1.17433782116612,\n",
      "                    \"percentage_change_7d\": 38.5977700752805,\n",
      "                    \"price\": 1542.48,\n",
      "                    \"volume_24h\": 19951082887\n",
      "                }\n",
      "            },\n",
      "            \"rank\": 2,\n",
      "            \"symbol\": \"ETH\",\n",
      "            \"total_supply\": 119767945,\n",
      "            \"website_slug\": \"ethereum\"\n",
      "        }\n",
      "    },\n",
      "    \"metadata\": {\n",
      "        \"error\": null,\n",
      "        \"num_cryptocurrencies\": 3116,\n",
      "        \"timestamp\": 1658425740\n",
      "    }\n",
      "}\n"
     ]
    }
   ],
   "source": [
    "# Using the Python requests library, make an API call to access the current price ETH\n",
    "eth_url = \"https://api.alternative.me/v2/ticker/Ethereum/?convert=USD\"\n",
    "\n",
    "# Use the json.dumps function to review the response data from the API call\n",
    "# Use the indent and sort_keys parameters to make the response object readable\n",
    "eth_url_response  = requests.get(eth_url).json()\n",
    "print(json.dumps(eth_url_response, indent=4, sort_keys=True))\n"
   ]
  },
  {
   "cell_type": "markdown",
   "metadata": {},
   "source": [
    "#### Step 3: Navigate the JSON response object to access the current price of each coin, and store each in a variable."
   ]
  },
  {
   "cell_type": "code",
   "execution_count": 9,
   "metadata": {},
   "outputs": [
    {
     "name": "stdout",
     "output_type": "stream",
     "text": [
      "The symbol for BTC is BTC\n",
      "The CURRENT price for BTC is $22907.0\n"
     ]
    }
   ],
   "source": [
    "btc_symbol = btc_url_response['data']['1']['symbol']\n",
    "print(f\"The symbol for BTC is {btc_symbol}\")\n",
    "btc_price = btc_url_response ['data']['1']['quotes']['USD']['price']\n",
    "print(f\"The CURRENT price for BTC is ${btc_price}\")\n",
    "\n",
    "# Navigate the BTC response object to access the current price of BTC\n",
    "\n",
    "# Print the current price of BTC\n",
    "\n"
   ]
  },
  {
   "cell_type": "code",
   "execution_count": 10,
   "metadata": {},
   "outputs": [
    {
     "name": "stdout",
     "output_type": "stream",
     "text": [
      "The symbol for ETH is ETH\n",
      "The CURRENT price for ETH is $1542.48\n"
     ]
    }
   ],
   "source": [
    "# Navigate the BTC response object to access the current price of ETH\n",
    "\n",
    "eth_symbol = eth_url_response['data']['1027']['symbol']\n",
    "print(f\"The symbol for ETH is {eth_symbol}\")\n",
    "eth_price = eth_url_response ['data']['1027']['quotes']['USD']['price']\n",
    "print(f\"The CURRENT price for ETH is ${eth_price}\")\n",
    "\n",
    "\n"
   ]
  },
  {
   "cell_type": "markdown",
   "metadata": {},
   "source": [
    "### Step 4: Calculate the value, in US dollars, of the current amount of each cryptocurrency and of the entire cryptocurrency wallet."
   ]
  },
  {
   "cell_type": "code",
   "execution_count": 11,
   "metadata": {
    "tags": []
   },
   "outputs": [
    {
     "name": "stdout",
     "output_type": "stream",
     "text": [
      "The Bitcon portfolio value is: $27,488.40\n"
     ]
    }
   ],
   "source": [
    "# Navigate the BTC response object to access the current price of BTC\n",
    "# Print the current price of BTC\n",
    "btc_price = btc_url_response ['data']['1']['quotes']['USD']['price']\n",
    "\n",
    "# Print current value of your holding in BTC\n",
    "btc_value = btc_coins * btc_price\n",
    "print(f\"The Bitcon portfolio value is: ${btc_value:,.2f}\")\n"
   ]
  },
  {
   "cell_type": "code",
   "execution_count": 12,
   "metadata": {},
   "outputs": [
    {
     "name": "stdout",
     "output_type": "stream",
     "text": [
      "The Etherium portfolio value is: $8,175.14\n"
     ]
    }
   ],
   "source": [
    "# Compute the current value of the ETH holding \n",
    "eth_price = eth_url_response ['data']['1027']['quotes']['USD']['price']\n",
    "eth_value = eth_coins * eth_price\n",
    "print(f\"The Etherium portfolio value is: ${eth_value:,.2f}\")"
   ]
  },
  {
   "cell_type": "code",
   "execution_count": 13,
   "metadata": {},
   "outputs": [
    {
     "name": "stdout",
     "output_type": "stream",
     "text": [
      "Current cryptocurrency wallet balance: $35,663.54\n"
     ]
    }
   ],
   "source": [
    "# Compute the total value of the cryptocurrency wallet\n",
    "# Add the value of the BTC holding to the value of the ETH holding\n",
    "total_crypto_wallet = btc_value + eth_value\n",
    "\n",
    "# Print current cryptocurrency wallet balance\n",
    "print(f\"Current cryptocurrency wallet balance: ${total_crypto_wallet:,.2f}\")\n"
   ]
  },
  {
   "cell_type": "markdown",
   "metadata": {
    "tags": []
   },
   "source": [
    "### Evaluate the Stock and Bond Holdings by Using the Alpaca SDK\n",
    "\n",
    "In this section, you’ll determine the current value of a member’s stock and bond holdings. You’ll make an API call to Alpaca via the Alpaca SDK to get the current closing prices of the SPDR S&P 500 ETF Trust (ticker: SPY) and of the iShares Core US Aggregate Bond ETF (ticker: AGG). For the prototype, assume that the member holds 110 shares of SPY, which represents the stock portion of their portfolio, and 200 shares of AGG, which represents the bond portion. To do all this, complete the following steps:\n",
    "\n",
    "1. In the `Starter_Code` folder, create an environment file (`.env`) to store the values of your Alpaca API key and Alpaca secret key.\n",
    "\n",
    "2. Set the variables for the Alpaca API and secret keys. Using the Alpaca SDK, create the Alpaca `tradeapi.REST` object. In this object, include the parameters for the Alpaca API key, the secret key, and the version number.\n",
    "\n",
    "3. Set the following parameters for the Alpaca API call:\n",
    "\n",
    "    - `tickers`: Use the tickers for the member’s stock and bond holdings.\n",
    "\n",
    "    - `timeframe`: Use a time frame of one day.\n",
    "\n",
    "    - `start_date` and `end_date`: Use the same date for these parameters, and format them with the date of the previous weekday (or `2020-08-07`). This is because you want the one closing price for the most-recent trading day.\n",
    "\n",
    "4. Get the current closing prices for `SPY` and `AGG` by using the Alpaca `get_bars` function. Format the response as a Pandas DataFrame by including the `df` property at the end of the `get_bars` function.\n",
    "\n",
    "5. Navigating the Alpaca response DataFrame, select the `SPY` and `AGG` closing prices, and store them as variables.\n",
    "\n",
    "6. Calculate the value, in US dollars, of the current amount of shares in each of the stock and bond portions of the portfolio, and print the results.\n"
   ]
  },
  {
   "cell_type": "markdown",
   "metadata": {},
   "source": [
    "#### Review the total number of shares held in both (SPY) and (AGG)."
   ]
  },
  {
   "cell_type": "code",
   "execution_count": 14,
   "metadata": {
    "tags": []
   },
   "outputs": [],
   "source": [
    "# Current amount of shares held in both the stock (SPY) and bond (AGG) portion of the portfolio.\n",
    "spy_shares = 110\n",
    "agg_shares = 200\n"
   ]
  },
  {
   "cell_type": "markdown",
   "metadata": {
    "tags": []
   },
   "source": [
    "#### Step 1: In the `Starter_Code` folder, create an environment file (`.env`) to store the values of your Alpaca API key and Alpaca secret key."
   ]
  },
  {
   "cell_type": "markdown",
   "metadata": {
    "tags": []
   },
   "source": [
    "#### Step 2: Set the variables for the Alpaca API and secret keys. Using the Alpaca SDK, create the Alpaca `tradeapi.REST` object. In this object, include the parameters for the Alpaca API key, the secret key, and the version number."
   ]
  },
  {
   "cell_type": "code",
   "execution_count": null,
   "metadata": {
    "tags": []
   },
   "outputs": [],
   "source": []
  },
  {
   "cell_type": "code",
   "execution_count": 66,
   "metadata": {},
   "outputs": [
    {
     "data": {
      "text/plain": [
       "str"
      ]
     },
     "execution_count": 66,
     "metadata": {},
     "output_type": "execute_result"
    }
   ],
   "source": [
    "load_dotenv()\n",
    "\n",
    "# Set Alpaca API key and secret\n",
    "alpaca_api_key = os.getenv(\"alpaca_api_key\")\n",
    "type(alpaca_api_key) \n",
    "\n",
    "alpaca_secret_key = os.getenv(\"alpaca_secret_key\")\n",
    "type(alpaca_secret_key)                          \n"
   ]
  },
  {
   "cell_type": "code",
   "execution_count": 67,
   "metadata": {},
   "outputs": [],
   "source": [
    "# Create the Alpaca API object\n",
    "alpaca = tradeapi.REST(alpaca_api_key,alpaca_secret_key,api_version=\"v2\")\n"
   ]
  },
  {
   "cell_type": "code",
   "execution_count": null,
   "metadata": {},
   "outputs": [],
   "source": []
  },
  {
   "cell_type": "markdown",
   "metadata": {},
   "source": [
    "#### Step 3: Set the following parameters for the Alpaca API call:\n",
    "\n",
    "- `tickers`: Use the tickers for the member’s stock and bond holdings.\n",
    "\n",
    "- `timeframe`: Use a time frame of one day.\n",
    "\n",
    "- `start_date` and `end_date`: Use the same date for these parameters, and format them with the date of the previous weekday (or `2020-08-07`). This is because you want the one closing price for the most-recent trading day.\n"
   ]
  },
  {
   "cell_type": "code",
   "execution_count": 87,
   "metadata": {},
   "outputs": [],
   "source": [
    "# Set the tickers for both the bond and stock portion of the portfolio\n",
    "#SPDR S&P 500 ETF Trust (ticker: SPY)\n",
    "#Core US Aggregate Bond ETF \n",
    "\n",
    "tickers = [\"SPY\", \"AGG\"]\n",
    "\n",
    "# Set timeframe to 1Day\n",
    "timeframe = \"1Day\"\n",
    "\n",
    "\n",
    "# Format current date as ISO format\n",
    "# Set both the start and end date at the date of your prior weekday \n",
    "# This will give you the closing price of the previous trading day\n",
    "# Alternatively you can use a start and end date of 2020-08-07\n",
    "# Format current date as ISO format\n",
    "\n",
    "start_date = pd.Timestamp(\"2020-08-07\", tz=\"America/New_York\").isoformat()\n",
    "end_date = pd.Timestamp(\"2020-08-07\", tz=\"America/New_York\").isoformat()\n"
   ]
  },
  {
   "cell_type": "markdown",
   "metadata": {},
   "source": [
    "#### Step 4: Get the current closing prices for `SPY` and `AGG` by using the Alpaca `get_bars` function. Format the response as a Pandas DataFrame by including the `df` property at the end of the `get_bars` function."
   ]
  },
  {
   "cell_type": "code",
   "execution_count": 88,
   "metadata": {},
   "outputs": [
    {
     "data": {
      "text/html": [
       "<div>\n",
       "<style scoped>\n",
       "    .dataframe tbody tr th:only-of-type {\n",
       "        vertical-align: middle;\n",
       "    }\n",
       "\n",
       "    .dataframe tbody tr th {\n",
       "        vertical-align: top;\n",
       "    }\n",
       "\n",
       "    .dataframe thead tr th {\n",
       "        text-align: left;\n",
       "    }\n",
       "\n",
       "    .dataframe thead tr:last-of-type th {\n",
       "        text-align: right;\n",
       "    }\n",
       "</style>\n",
       "<table border=\"1\" class=\"dataframe\">\n",
       "  <thead>\n",
       "    <tr>\n",
       "      <th></th>\n",
       "      <th colspan=\"7\" halign=\"left\">SPY</th>\n",
       "      <th colspan=\"7\" halign=\"left\">AGG</th>\n",
       "    </tr>\n",
       "    <tr>\n",
       "      <th></th>\n",
       "      <th>open</th>\n",
       "      <th>high</th>\n",
       "      <th>low</th>\n",
       "      <th>close</th>\n",
       "      <th>volume</th>\n",
       "      <th>trade_count</th>\n",
       "      <th>vwap</th>\n",
       "      <th>open</th>\n",
       "      <th>high</th>\n",
       "      <th>low</th>\n",
       "      <th>close</th>\n",
       "      <th>volume</th>\n",
       "      <th>trade_count</th>\n",
       "      <th>vwap</th>\n",
       "    </tr>\n",
       "    <tr>\n",
       "      <th>timestamp</th>\n",
       "      <th></th>\n",
       "      <th></th>\n",
       "      <th></th>\n",
       "      <th></th>\n",
       "      <th></th>\n",
       "      <th></th>\n",
       "      <th></th>\n",
       "      <th></th>\n",
       "      <th></th>\n",
       "      <th></th>\n",
       "      <th></th>\n",
       "      <th></th>\n",
       "      <th></th>\n",
       "      <th></th>\n",
       "    </tr>\n",
       "  </thead>\n",
       "  <tbody>\n",
       "    <tr>\n",
       "      <th>2020-08-07 04:00:00+00:00</th>\n",
       "      <td>333.29</td>\n",
       "      <td>334.88</td>\n",
       "      <td>332.3</td>\n",
       "      <td>334.57</td>\n",
       "      <td>57282821</td>\n",
       "      <td>350100</td>\n",
       "      <td>333.800372</td>\n",
       "      <td>119.66</td>\n",
       "      <td>119.73</td>\n",
       "      <td>119.395</td>\n",
       "      <td>119.43</td>\n",
       "      <td>5559066</td>\n",
       "      <td>15246</td>\n",
       "      <td>119.475306</td>\n",
       "    </tr>\n",
       "  </tbody>\n",
       "</table>\n",
       "</div>"
      ],
      "text/plain": [
       "                              SPY                                   \\\n",
       "                             open    high    low   close    volume   \n",
       "timestamp                                                            \n",
       "2020-08-07 04:00:00+00:00  333.29  334.88  332.3  334.57  57282821   \n",
       "\n",
       "                                                      AGG                   \\\n",
       "                          trade_count        vwap    open    high      low   \n",
       "timestamp                                                                    \n",
       "2020-08-07 04:00:00+00:00      350100  333.800372  119.66  119.73  119.395   \n",
       "\n",
       "                                                                    \n",
       "                            close   volume trade_count        vwap  \n",
       "timestamp                                                           \n",
       "2020-08-07 04:00:00+00:00  119.43  5559066       15246  119.475306  "
      ]
     },
     "execution_count": 88,
     "metadata": {},
     "output_type": "execute_result"
    }
   ],
   "source": [
    "# Use the Alpaca get_bars function to get current closing prices the portfolio\n",
    "# Be sure to set the `df` property after the function to format the response object as a DataFrame\n",
    "df_portfolio = alpaca.get_bars(\n",
    "    tickers,\n",
    "    timeframe,\n",
    "    start = start_date,\n",
    "    end = end_date\n",
    ").df\n",
    "\n",
    "# Display sample data\n",
    "df_portfolio\n",
    "\n",
    "# Reorganize the DataFrame by separating ticker data\n",
    "#tickers = [\"SPY\", \"AGG\"]\n",
    "SPY = df_portfolio[df_portfolio['symbol']=='SPY'].drop('symbol', axis=1)\n",
    "AGG = df_portfolio[df_portfolio['symbol']=='AGG'].drop('symbol', axis=1)\n",
    "\n",
    "# Concatenate the Ticker DataFrames\n",
    "df_portfolio = pd.concat([SPY,AGG],axis=1, keys=['SPY','AGG'])\n",
    "\n",
    "# Display sample data\n",
    "df_portfolio.head()\n",
    "\n"
   ]
  },
  {
   "cell_type": "code",
   "execution_count": null,
   "metadata": {},
   "outputs": [],
   "source": []
  },
  {
   "cell_type": "markdown",
   "metadata": {},
   "source": [
    "#### Step 5: Navigating the Alpaca response DataFrame, select the `SPY` and `AGG` closing prices, and store them as variables."
   ]
  },
  {
   "cell_type": "code",
   "execution_count": null,
   "metadata": {},
   "outputs": [],
   "source": []
  },
  {
   "cell_type": "code",
   "execution_count": 70,
   "metadata": {},
   "outputs": [
    {
     "name": "stdout",
     "output_type": "stream",
     "text": [
      "119.43\n",
      "<class 'float'>\n"
     ]
    }
   ],
   "source": [
    "# Access the closing price for AGG from the Alpaca DataFrame\n",
    "# Converting the value to a floating point number\n",
    "agg_close_price = float(df_portfolio[\"AGG\"][\"close\"])\n",
    "\n",
    "# Print the AGG closing price\n",
    "print(agg_close_price)\n",
    "print(type(agg_close_price))\n"
   ]
  },
  {
   "cell_type": "code",
   "execution_count": 71,
   "metadata": {},
   "outputs": [
    {
     "name": "stdout",
     "output_type": "stream",
     "text": [
      "334.57\n",
      "<class 'float'>\n"
     ]
    }
   ],
   "source": [
    "# Access the closing price for SPY from the Alpaca DataFrame\n",
    "# Converting the value to a floating point number\n",
    "spy_close_price = agg_close_price = float(df_portfolio[\"SPY\"][\"close\"])\n",
    "\n",
    "# Print the SPY closing price\n",
    "print(spy_close_price)\n",
    "print(type(spy_close_price))"
   ]
  },
  {
   "cell_type": "markdown",
   "metadata": {},
   "source": [
    "#### Step 6: Calculate the value, in US dollars, of the current amount of shares in each of the stock and bond portions of the portfolio, and print the results."
   ]
  },
  {
   "cell_type": "code",
   "execution_count": 72,
   "metadata": {},
   "outputs": [
    {
     "name": "stdout",
     "output_type": "stream",
     "text": [
      "The current value of the 200 is $66914.00\n"
     ]
    }
   ],
   "source": [
    "# Calculate the current value of the bond portion of the portfolio\n",
    "\n",
    "agg_value = agg_close_price * agg_shares\n",
    "print(f\"The current value of the {agg_shares} is ${agg_value:0.2f}\")\n",
    "\n",
    "                                            "
   ]
  },
  {
   "cell_type": "code",
   "execution_count": null,
   "metadata": {},
   "outputs": [],
   "source": []
  },
  {
   "cell_type": "code",
   "execution_count": 73,
   "metadata": {},
   "outputs": [
    {
     "name": "stdout",
     "output_type": "stream",
     "text": [
      "The current value of the 110 is $36802.70\n"
     ]
    }
   ],
   "source": [
    "# Calculate the current value of the stock portion of the portfolio\n",
    "spy_value = spy_shares*spy_close_price\n",
    "\n",
    "# Print the current value of the stock portfolio\n",
    "print(f\"The current value of the {spy_shares} is ${spy_value:0.2f}\")\n"
   ]
  },
  {
   "cell_type": "code",
   "execution_count": 74,
   "metadata": {},
   "outputs": [
    {
     "name": "stdout",
     "output_type": "stream",
     "text": [
      "The total value of the stock and bond portion of the portfolio is $103716.70\n"
     ]
    }
   ],
   "source": [
    "# Calculate the total value of the stock and bond portion of the portfolio\n",
    "total_stocks_bonds = agg_value + spy_value\n",
    "print(f\"The total value of the stock and bond portion of the portfolio is ${total_stocks_bonds:0.2f}\")\n",
    "\n"
   ]
  },
  {
   "cell_type": "code",
   "execution_count": 75,
   "metadata": {},
   "outputs": [
    {
     "name": "stdout",
     "output_type": "stream",
     "text": [
      "The current value of the is $139380.24\n"
     ]
    }
   ],
   "source": [
    "# Calculate the total value of the member's entire savings portfolio\n",
    "# Add the value of the cryptocurrency walled to the value of the total stocks and bonds\n",
    "\n",
    "total_portfolio = total_crypto_wallet + total_stocks_bonds\n",
    "print(f\"The current value of the is ${total_portfolio:0.2f}\")\n"
   ]
  },
  {
   "cell_type": "code",
   "execution_count": null,
   "metadata": {},
   "outputs": [],
   "source": []
  },
  {
   "cell_type": "markdown",
   "metadata": {},
   "source": [
    "### Evaluate the Emergency Fund\n",
    "\n",
    "In this section, you’ll use the valuations for the cryptocurrency wallet and for the stock and bond portions of the portfolio to determine if the credit union member has enough savings to build an emergency fund into their financial plan. To do this, complete the following steps:\n",
    "\n",
    "1. Create a Python list named `savings_data` that has two elements. The first element contains the total value of the cryptocurrency wallet. The second element contains the total value of the stock and bond portions of the portfolio.\n",
    "\n",
    "2. Use the `savings_data` list to create a Pandas DataFrame named `savings_df`, and then display this DataFrame. The function to create the DataFrame should take the following three parameters:\n",
    "\n",
    "    - `savings_data`: Use the list that you just created.\n",
    "\n",
    "    - `columns`: Set this parameter equal to a Python list with a single value called `amount`.\n",
    "\n",
    "    - `index`: Set this parameter equal to a Python list with the values of `crypto` and `stock/bond`.\n",
    "\n",
    "3. Use the `savings_df` DataFrame to plot a pie chart that visualizes the composition of the member’s portfolio. The y-axis of the pie chart uses `amount`. Be sure to add a title.\n",
    "\n",
    "4. Using Python, determine if the current portfolio has enough to create an emergency fund as part of the member’s financial plan. Ideally, an emergency fund should equal to three times the member’s monthly income. To do this, implement the following steps:\n",
    "\n",
    "    1. Create a variable named `emergency_fund_value`, and set it equal to three times the value of the member’s `monthly_income` of $12000. (You set this earlier in Part 1).\n",
    "\n",
    "    2. Create a series of three if statements to determine if the member’s total portfolio is large enough to fund the emergency portfolio:\n",
    "\n",
    "        1. If the total portfolio value is greater than the emergency fund value, display a message congratulating the member for having enough money in this fund.\n",
    "\n",
    "        2. Else if the total portfolio value is equal to the emergency fund value, display a message congratulating the member on reaching this important financial goal.\n",
    "\n",
    "        3. Else the total portfolio is less than the emergency fund value, so display a message showing how many dollars away the member is from reaching the goal. (Subtract the total portfolio value from the emergency fund value.)\n"
   ]
  },
  {
   "cell_type": "markdown",
   "metadata": {},
   "source": [
    "#### Step 1: Create a Python list named `savings_data` that has two elements. The first element contains the total value of the cryptocurrency wallet. The second element contains the total value of the stock and bond portions of the portfolio."
   ]
  },
  {
   "cell_type": "code",
   "execution_count": 76,
   "metadata": {},
   "outputs": [
    {
     "name": "stdout",
     "output_type": "stream",
     "text": [
      "[35663.543999999994, 103716.7]\n"
     ]
    }
   ],
   "source": [
    "# Consolidate financial assets data into a Python list\n",
    "\n",
    "savings_data = [total_crypto_wallet, total_stocks_bonds]\n",
    "print(savings_data)\n",
    "\n",
    "# Review the Python list savings_data\n"
   ]
  },
  {
   "cell_type": "markdown",
   "metadata": {},
   "source": [
    "#### Step 2: Use the `savings_data` list to create a Pandas DataFrame named `savings_df`, and then display this DataFrame. The function to create the DataFrame should take the following three parameters:\n",
    "\n",
    "- `savings_data`: Use the list that you just created.\n",
    "\n",
    "- `columns`: Set this parameter equal to a Python list with a single value called `amount`.\n",
    "\n",
    "- `index`: Set this parameter equal to a Python list with the values of `crypto` and `stock/bond`.\n"
   ]
  },
  {
   "cell_type": "code",
   "execution_count": 77,
   "metadata": {},
   "outputs": [
    {
     "name": "stdout",
     "output_type": "stream",
     "text": [
      "                amount\n",
      "crypto       35663.544\n",
      "stock/bond  103716.700\n"
     ]
    },
    {
     "data": {
      "text/html": [
       "<div>\n",
       "<style scoped>\n",
       "    .dataframe tbody tr th:only-of-type {\n",
       "        vertical-align: middle;\n",
       "    }\n",
       "\n",
       "    .dataframe tbody tr th {\n",
       "        vertical-align: top;\n",
       "    }\n",
       "\n",
       "    .dataframe thead th {\n",
       "        text-align: right;\n",
       "    }\n",
       "</style>\n",
       "<table border=\"1\" class=\"dataframe\">\n",
       "  <thead>\n",
       "    <tr style=\"text-align: right;\">\n",
       "      <th></th>\n",
       "      <th>amount</th>\n",
       "    </tr>\n",
       "  </thead>\n",
       "  <tbody>\n",
       "    <tr>\n",
       "      <th>crypto</th>\n",
       "      <td>35663.544</td>\n",
       "    </tr>\n",
       "    <tr>\n",
       "      <th>stock/bond</th>\n",
       "      <td>103716.700</td>\n",
       "    </tr>\n",
       "  </tbody>\n",
       "</table>\n",
       "</div>"
      ],
      "text/plain": [
       "                amount\n",
       "crypto       35663.544\n",
       "stock/bond  103716.700"
      ]
     },
     "metadata": {},
     "output_type": "display_data"
    }
   ],
   "source": [
    "# Create a Pandas DataFrame called savings_df \n",
    "savings_df  = pd.DataFrame(\n",
    "   savings_data,\n",
    "   columns = [\"amount\"],\n",
    "    index = [\"crypto\",\"stock/bond\"]\n",
    ")\n",
    "\n",
    "# Display sample data\n",
    "print(savings_df)\n",
    "\n",
    "# Display the savings_df DataFrame\n",
    "display(savings_df)\n"
   ]
  },
  {
   "cell_type": "code",
   "execution_count": null,
   "metadata": {},
   "outputs": [],
   "source": []
  },
  {
   "cell_type": "markdown",
   "metadata": {},
   "source": [
    "#### Step 3: Use the `savings_df` DataFrame to plot a pie chart that visualizes the composition of the member’s portfolio. The y-axis of the pie chart uses `amount`. Be sure to add a title."
   ]
  },
  {
   "cell_type": "code",
   "execution_count": 78,
   "metadata": {},
   "outputs": [
    {
     "name": "stdout",
     "output_type": "stream",
     "text": [
      "                amount\n",
      "crypto       35663.544\n",
      "stock/bond  103716.700\n"
     ]
    },
    {
     "data": {
      "text/html": [
       "<div>\n",
       "<style scoped>\n",
       "    .dataframe tbody tr th:only-of-type {\n",
       "        vertical-align: middle;\n",
       "    }\n",
       "\n",
       "    .dataframe tbody tr th {\n",
       "        vertical-align: top;\n",
       "    }\n",
       "\n",
       "    .dataframe thead th {\n",
       "        text-align: right;\n",
       "    }\n",
       "</style>\n",
       "<table border=\"1\" class=\"dataframe\">\n",
       "  <thead>\n",
       "    <tr style=\"text-align: right;\">\n",
       "      <th></th>\n",
       "      <th>amount</th>\n",
       "    </tr>\n",
       "  </thead>\n",
       "  <tbody>\n",
       "    <tr>\n",
       "      <th>crypto</th>\n",
       "      <td>35663.544</td>\n",
       "    </tr>\n",
       "    <tr>\n",
       "      <th>stock/bond</th>\n",
       "      <td>103716.700</td>\n",
       "    </tr>\n",
       "  </tbody>\n",
       "</table>\n",
       "</div>"
      ],
      "text/plain": [
       "                amount\n",
       "crypto       35663.544\n",
       "stock/bond  103716.700"
      ]
     },
     "metadata": {},
     "output_type": "display_data"
    }
   ],
   "source": [
    "pie_savings_df  = pd.DataFrame(\n",
    "   savings_data,\n",
    "   columns = [\"amount\"],\n",
    "    index = [\"crypto\",\"stock/bond\"]\n",
    ")\n",
    "\n",
    "# Display sample data\n",
    "print(pie_savings_df)\n",
    "\n",
    "# Display the savings_df DataFrame\n",
    "display(pie_savings_df )"
   ]
  },
  {
   "cell_type": "code",
   "execution_count": 79,
   "metadata": {},
   "outputs": [
    {
     "data": {
      "text/plain": [
       "<AxesSubplot:title={'center':' Member’s Total Portfolio'}, ylabel='amount'>"
      ]
     },
     "execution_count": 79,
     "metadata": {},
     "output_type": "execute_result"
    },
    {
     "data": {
      "image/png": "[encoded data removed]",
      "text/plain": [
       "<Figure size 432x288 with 1 Axes>"
      ]
     },
     "metadata": {},
     "output_type": "display_data"
    }
   ],
   "source": [
    "# Plot the total value of the member's portfolio (crypto and stock/bond) in a pie chart\n",
    "pie_savings_df.plot.pie(y=\"amount\", title=\" Member’s Total Portfolio\")\n"
   ]
  },
  {
   "cell_type": "markdown",
   "metadata": {},
   "source": [
    "#### Step 4: Using Python, determine if the current portfolio has enough to create an emergency fund as part of the member’s financial plan. Ideally, an emergency fund should equal to three times the member’s monthly income. To do this, implement the following steps:\n",
    "\n",
    "Step 1. Create a variable named `emergency_fund_value`, and set it equal to three times the value of the member’s `monthly_income` of 12000. (You set this earlier in Part 1).\n",
    "\n",
    "Step 2. Create a series of three if statements to determine if the member’s total portfolio is large enough to fund the emergency portfolio:\n",
    "\n",
    "* If the total portfolio value is greater than the emergency fund value, display a message congratulating the member for having enough money in this fund.\n",
    "\n",
    "* Else if the total portfolio value is equal to the emergency fund value, display a message congratulating the member on reaching this important financial goal.\n",
    "\n",
    "* Else the total portfolio is less than the emergency fund value, so display a message showing how many dollars away the member is from reaching the goal. (Subtract the total portfolio value from the emergency fund value.)\n"
   ]
  },
  {
   "cell_type": "markdown",
   "metadata": {},
   "source": [
    "##### Step 4-1: Create a variable named `emergency_fund_value`, and set it equal to three times the value of the member’s `monthly_income` of 12000. (You set this earlier in Part 1)."
   ]
  },
  {
   "cell_type": "code",
   "execution_count": 80,
   "metadata": {},
   "outputs": [],
   "source": [
    "# Create a variable named emergency_fund_value\n",
    "emergency_fund_value = monthly_income\n",
    "total_portfolio_value = total_crypto_wallet + total_stocks_bonds\n"
   ]
  },
  {
   "cell_type": "markdown",
   "metadata": {},
   "source": [
    "##### Step 4-2: Create a series of three if statements to determine if the member’s total portfolio is large enough to fund the emergency portfolio:\n",
    "\n",
    "* If the total portfolio value is greater than the emergency fund value, display a message congratulating the member for having enough money in this fund.\n",
    "\n",
    "* Else if the total portfolio value is equal to the emergency fund value, display a message congratulating the member on reaching this important financial goal.\n",
    "\n",
    "* Else the total portfolio is less than the emergency fund value, so display a message showing how many dollars away the member is from reaching the goal. (Subtract the total portfolio value from the emergency fund value.)"
   ]
  },
  {
   "cell_type": "code",
   "execution_count": 82,
   "metadata": {},
   "outputs": [
    {
     "name": "stdout",
     "output_type": "stream",
     "text": [
      "Dear Sir or Madam, Congratulation your total portfolio has sufficient funds in the amount of $139380.244\n"
     ]
    }
   ],
   "source": [
    "# Evaluate the possibility of creating an emergency fund with 3 conditions: state if the member’s total portfolio is large enough to fund the emergency portfolio:\n",
    "if  total_portfolio_value > emergency_fund_value: \n",
    "    print(f\"Dear Sir or Madam, Congratulation your total portfolio has sufficient funds in the amount of ${total_portfolio_value}\")\n",
    "    \n",
    "elif total_portfolio_value == emergency_fund_value:\n",
    "    print(f\"Congratulating on reaching this important financial goal\")\n",
    "    \n",
    "else: \n",
    "    total_portfolio_value < emergency_fund_value\n",
    "    print(f\"approximately ${total_portfolio_value - emergency_fund_value:0.2f} more than you emergency fund, which is more than enough to fund your emergency portfolio with ${emergency_fund_value:0.2f}\")\n"
   ]
  },
  {
   "cell_type": "markdown",
   "metadata": {},
   "source": [
    "## Part 2: Create a Financial Planner for Retirement"
   ]
  },
  {
   "cell_type": "markdown",
   "metadata": {},
   "source": [
    "### Create the Monte Carlo Simulation\n",
    "\n",
    "In this section, you’ll use the MCForecastTools library to create a Monte Carlo simulation for the member’s savings portfolio. To do this, complete the following steps:\n",
    "\n",
    "1. Make an API call via the Alpaca SDK to get 3 years of historical closing prices for a traditional 60/40 portfolio split: 60% stocks (SPY) and 40% bonds (AGG).\n",
    "\n",
    "2. Run a Monte Carlo simulation of 500 samples and 30 years for the 60/40 portfolio, and then plot the results.The following image shows the overlay line plot resulting from a simulation with these characteristics. However, because a random number generator is used to run each live Monte Carlo simulation, your image will differ slightly from this exact image:\n",
    "\n",
    "![A screenshot depicts the resulting plot.](Images/5-4-monte-carlo-line-plot.png)\n",
    "\n",
    "3. Plot the probability distribution of the Monte Carlo simulation. Plot the probability distribution of the Monte Carlo simulation. The following image shows the histogram plot resulting from a simulation with these characteristics. However, because a random number generator is used to run each live Monte Carlo simulation, your image will differ slightly from this exact image:\n",
    "\n",
    "![A screenshot depicts the histogram plot.](Images/5-4-monte-carlo-histogram.png)\n",
    "\n",
    "4. Generate the summary statistics for the Monte Carlo simulation.\n",
    "\n"
   ]
  },
  {
   "cell_type": "markdown",
   "metadata": {},
   "source": [
    "#### Step 1: Make an API call via the Alpaca SDK to get 3 years of historical closing prices for a traditional 60/40 portfolio split: 60% stocks (SPY) and 40% bonds (AGG)."
   ]
  },
  {
   "cell_type": "code",
   "execution_count": 83,
   "metadata": {},
   "outputs": [],
   "source": [
    "# Set start and end dates of 3 years back from your current date\n",
    "# Alternatively, you can use an end date of 2020-08-07 and work 3 years back from that date \n",
    "\n"
   ]
  },
  {
   "cell_type": "code",
   "execution_count": 90,
   "metadata": {},
   "outputs": [
    {
     "data": {
      "text/html": [
       "<div>\n",
       "<style scoped>\n",
       "    .dataframe tbody tr th:only-of-type {\n",
       "        vertical-align: middle;\n",
       "    }\n",
       "\n",
       "    .dataframe tbody tr th {\n",
       "        vertical-align: top;\n",
       "    }\n",
       "\n",
       "    .dataframe thead tr th {\n",
       "        text-align: left;\n",
       "    }\n",
       "\n",
       "    .dataframe thead tr:last-of-type th {\n",
       "        text-align: right;\n",
       "    }\n",
       "</style>\n",
       "<table border=\"1\" class=\"dataframe\">\n",
       "  <thead>\n",
       "    <tr>\n",
       "      <th></th>\n",
       "      <th colspan=\"7\" halign=\"left\">SPY</th>\n",
       "      <th colspan=\"7\" halign=\"left\">AGG</th>\n",
       "    </tr>\n",
       "    <tr>\n",
       "      <th></th>\n",
       "      <th>open</th>\n",
       "      <th>high</th>\n",
       "      <th>low</th>\n",
       "      <th>close</th>\n",
       "      <th>volume</th>\n",
       "      <th>trade_count</th>\n",
       "      <th>vwap</th>\n",
       "      <th>open</th>\n",
       "      <th>high</th>\n",
       "      <th>low</th>\n",
       "      <th>close</th>\n",
       "      <th>volume</th>\n",
       "      <th>trade_count</th>\n",
       "      <th>vwap</th>\n",
       "    </tr>\n",
       "    <tr>\n",
       "      <th>timestamp</th>\n",
       "      <th></th>\n",
       "      <th></th>\n",
       "      <th></th>\n",
       "      <th></th>\n",
       "      <th></th>\n",
       "      <th></th>\n",
       "      <th></th>\n",
       "      <th></th>\n",
       "      <th></th>\n",
       "      <th></th>\n",
       "      <th></th>\n",
       "      <th></th>\n",
       "      <th></th>\n",
       "      <th></th>\n",
       "    </tr>\n",
       "  </thead>\n",
       "  <tbody>\n",
       "    <tr>\n",
       "      <th>2017-08-07 04:00:00+00:00</th>\n",
       "      <td>247.50</td>\n",
       "      <td>247.87</td>\n",
       "      <td>247.37</td>\n",
       "      <td>247.87</td>\n",
       "      <td>31995021</td>\n",
       "      <td>100111</td>\n",
       "      <td>247.668698</td>\n",
       "      <td>109.69</td>\n",
       "      <td>109.72</td>\n",
       "      <td>109.6066</td>\n",
       "      <td>109.67</td>\n",
       "      <td>2359826</td>\n",
       "      <td>7755</td>\n",
       "      <td>109.674876</td>\n",
       "    </tr>\n",
       "    <tr>\n",
       "      <th>2017-08-08 04:00:00+00:00</th>\n",
       "      <td>247.49</td>\n",
       "      <td>248.91</td>\n",
       "      <td>246.83</td>\n",
       "      <td>247.26</td>\n",
       "      <td>61719353</td>\n",
       "      <td>192921</td>\n",
       "      <td>247.739709</td>\n",
       "      <td>109.67</td>\n",
       "      <td>109.69</td>\n",
       "      <td>109.5000</td>\n",
       "      <td>109.57</td>\n",
       "      <td>2570876</td>\n",
       "      <td>12663</td>\n",
       "      <td>109.577636</td>\n",
       "    </tr>\n",
       "    <tr>\n",
       "      <th>2017-08-09 04:00:00+00:00</th>\n",
       "      <td>246.46</td>\n",
       "      <td>247.31</td>\n",
       "      <td>246.06</td>\n",
       "      <td>247.25</td>\n",
       "      <td>62632619</td>\n",
       "      <td>223650</td>\n",
       "      <td>246.791421</td>\n",
       "      <td>109.87</td>\n",
       "      <td>109.87</td>\n",
       "      <td>109.6600</td>\n",
       "      <td>109.67</td>\n",
       "      <td>2308932</td>\n",
       "      <td>11031</td>\n",
       "      <td>109.771749</td>\n",
       "    </tr>\n",
       "    <tr>\n",
       "      <th>2017-08-10 04:00:00+00:00</th>\n",
       "      <td>246.30</td>\n",
       "      <td>246.44</td>\n",
       "      <td>243.70</td>\n",
       "      <td>243.76</td>\n",
       "      <td>120418270</td>\n",
       "      <td>424321</td>\n",
       "      <td>245.027847</td>\n",
       "      <td>109.70</td>\n",
       "      <td>109.85</td>\n",
       "      <td>109.6700</td>\n",
       "      <td>109.78</td>\n",
       "      <td>2004163</td>\n",
       "      <td>12437</td>\n",
       "      <td>109.776611</td>\n",
       "    </tr>\n",
       "    <tr>\n",
       "      <th>2017-08-11 04:00:00+00:00</th>\n",
       "      <td>244.00</td>\n",
       "      <td>244.80</td>\n",
       "      <td>243.75</td>\n",
       "      <td>244.12</td>\n",
       "      <td>74869947</td>\n",
       "      <td>278786</td>\n",
       "      <td>244.222867</td>\n",
       "      <td>109.75</td>\n",
       "      <td>109.94</td>\n",
       "      <td>109.6800</td>\n",
       "      <td>109.87</td>\n",
       "      <td>1913253</td>\n",
       "      <td>10113</td>\n",
       "      <td>109.860974</td>\n",
       "    </tr>\n",
       "  </tbody>\n",
       "</table>\n",
       "</div>"
      ],
      "text/plain": [
       "                              SPY                                     \\\n",
       "                             open    high     low   close     volume   \n",
       "timestamp                                                              \n",
       "2017-08-07 04:00:00+00:00  247.50  247.87  247.37  247.87   31995021   \n",
       "2017-08-08 04:00:00+00:00  247.49  248.91  246.83  247.26   61719353   \n",
       "2017-08-09 04:00:00+00:00  246.46  247.31  246.06  247.25   62632619   \n",
       "2017-08-10 04:00:00+00:00  246.30  246.44  243.70  243.76  120418270   \n",
       "2017-08-11 04:00:00+00:00  244.00  244.80  243.75  244.12   74869947   \n",
       "\n",
       "                                                      AGG                    \\\n",
       "                          trade_count        vwap    open    high       low   \n",
       "timestamp                                                                     \n",
       "2017-08-07 04:00:00+00:00      100111  247.668698  109.69  109.72  109.6066   \n",
       "2017-08-08 04:00:00+00:00      192921  247.739709  109.67  109.69  109.5000   \n",
       "2017-08-09 04:00:00+00:00      223650  246.791421  109.87  109.87  109.6600   \n",
       "2017-08-10 04:00:00+00:00      424321  245.027847  109.70  109.85  109.6700   \n",
       "2017-08-11 04:00:00+00:00      278786  244.222867  109.75  109.94  109.6800   \n",
       "\n",
       "                                                                    \n",
       "                            close   volume trade_count        vwap  \n",
       "timestamp                                                           \n",
       "2017-08-07 04:00:00+00:00  109.67  2359826        7755  109.674876  \n",
       "2017-08-08 04:00:00+00:00  109.57  2570876       12663  109.577636  \n",
       "2017-08-09 04:00:00+00:00  109.67  2308932       11031  109.771749  \n",
       "2017-08-10 04:00:00+00:00  109.78  2004163       12437  109.776611  \n",
       "2017-08-11 04:00:00+00:00  109.87  1913253       10113  109.860974  "
      ]
     },
     "execution_count": 90,
     "metadata": {},
     "output_type": "execute_result"
    }
   ],
   "source": [
    "# Use the Alpaca get_bars function to make the API call to get the 3 years worth of pricing data\n",
    "# The tickers and timeframe parameters should have been set in Part 1 of this activity \n",
    "# The start and end dates should be updated with the information set above\n",
    "# Remember to add the df property to the end of the call so the response is returned as a DataFrame\n",
    "\n",
    "tickers = [\"SPY\",\"AGG\"]\n",
    "timeframe = \"1Day\"\n",
    "\n",
    "start_date = pd.Timestamp(\"2017-08-07\", tz=\"America/New_York\").isoformat()\n",
    "end_date = pd.Timestamp(\"2020-08-07\", tz=\"America/New_York\").isoformat()\n",
    "\n",
    "\n",
    "df_portfolio = alpaca.get_bars(\n",
    "    tickers,\n",
    "    timeframe,\n",
    "    start = start_date,\n",
    "    end = end_date\n",
    ").df\n",
    "\n",
    "# Display sample data\n",
    "df_portfolio\n",
    "\n",
    "# Reorganize the DataFrame by separating ticker data\n",
    "#tickers = [\"SPY\", \"AGG\"]\n",
    "SPY = df_portfolio[df_portfolio['symbol']=='SPY'].drop('symbol', axis=1)\n",
    "AGG = df_portfolio[df_portfolio['symbol']=='AGG'].drop('symbol', axis=1)\n",
    "\n",
    "# Concatenate the Ticker DataFrames\n",
    "df_portfolio = pd.concat([SPY,AGG],axis=1, keys=['SPY','AGG'])\n",
    "\n",
    "# Display sample data\n",
    "df_portfolio.head()\n"
   ]
  },
  {
   "cell_type": "markdown",
   "metadata": {},
   "source": [
    "#### Step 2: Run a Monte Carlo simulation of 500 samples and 30 years for the 60/40 portfolio, and then plot the results."
   ]
  },
  {
   "cell_type": "code",
   "execution_count": 92,
   "metadata": {},
   "outputs": [
    {
     "name": "stdout",
     "output_type": "stream",
     "text": [
      "Running Monte Carlo simulation number 0.\n",
      "Running Monte Carlo simulation number 10.\n",
      "Running Monte Carlo simulation number 20.\n",
      "Running Monte Carlo simulation number 30.\n",
      "Running Monte Carlo simulation number 40.\n",
      "Running Monte Carlo simulation number 50.\n",
      "Running Monte Carlo simulation number 60.\n",
      "Running Monte Carlo simulation number 70.\n",
      "Running Monte Carlo simulation number 80.\n",
      "Running Monte Carlo simulation number 90.\n",
      "Running Monte Carlo simulation number 100.\n"
     ]
    },
    {
     "name": "stderr",
     "output_type": "stream",
     "text": [
      "/Users/crystalevans/finTech/Module5/MCForecastTools.py:117: PerformanceWarning: DataFrame is highly fragmented.  This is usually the result of calling `frame.insert` many times, which has poor performance.  Consider joining all columns at once using pd.concat(axis=1) instead.  To get a de-fragmented frame, use `newframe = frame.copy()`\n",
      "  portfolio_cumulative_returns[n] = (1 + sim_df.fillna(0)).cumprod()\n"
     ]
    },
    {
     "name": "stdout",
     "output_type": "stream",
     "text": [
      "Running Monte Carlo simulation number 110.\n",
      "Running Monte Carlo simulation number 120.\n",
      "Running Monte Carlo simulation number 130.\n",
      "Running Monte Carlo simulation number 140.\n",
      "Running Monte Carlo simulation number 150.\n",
      "Running Monte Carlo simulation number 160.\n",
      "Running Monte Carlo simulation number 170.\n",
      "Running Monte Carlo simulation number 180.\n",
      "Running Monte Carlo simulation number 190.\n",
      "Running Monte Carlo simulation number 200.\n",
      "Running Monte Carlo simulation number 210.\n",
      "Running Monte Carlo simulation number 220.\n",
      "Running Monte Carlo simulation number 230.\n",
      "Running Monte Carlo simulation number 240.\n",
      "Running Monte Carlo simulation number 250.\n",
      "Running Monte Carlo simulation number 260.\n",
      "Running Monte Carlo simulation number 270.\n",
      "Running Monte Carlo simulation number 280.\n",
      "Running Monte Carlo simulation number 290.\n",
      "Running Monte Carlo simulation number 300.\n",
      "Running Monte Carlo simulation number 310.\n",
      "Running Monte Carlo simulation number 320.\n",
      "Running Monte Carlo simulation number 330.\n",
      "Running Monte Carlo simulation number 340.\n",
      "Running Monte Carlo simulation number 350.\n",
      "Running Monte Carlo simulation number 360.\n",
      "Running Monte Carlo simulation number 370.\n",
      "Running Monte Carlo simulation number 380.\n",
      "Running Monte Carlo simulation number 390.\n",
      "Running Monte Carlo simulation number 400.\n",
      "Running Monte Carlo simulation number 410.\n",
      "Running Monte Carlo simulation number 420.\n",
      "Running Monte Carlo simulation number 430.\n",
      "Running Monte Carlo simulation number 440.\n",
      "Running Monte Carlo simulation number 450.\n",
      "Running Monte Carlo simulation number 460.\n",
      "Running Monte Carlo simulation number 470.\n",
      "Running Monte Carlo simulation number 480.\n",
      "Running Monte Carlo simulation number 490.\n"
     ]
    },
    {
     "data": {
      "text/html": [
       "<div>\n",
       "<style scoped>\n",
       "    .dataframe tbody tr th:only-of-type {\n",
       "        vertical-align: middle;\n",
       "    }\n",
       "\n",
       "    .dataframe tbody tr th {\n",
       "        vertical-align: top;\n",
       "    }\n",
       "\n",
       "    .dataframe thead th {\n",
       "        text-align: right;\n",
       "    }\n",
       "</style>\n",
       "<table border=\"1\" class=\"dataframe\">\n",
       "  <thead>\n",
       "    <tr style=\"text-align: right;\">\n",
       "      <th></th>\n",
       "      <th>0</th>\n",
       "      <th>1</th>\n",
       "      <th>2</th>\n",
       "      <th>3</th>\n",
       "      <th>4</th>\n",
       "      <th>5</th>\n",
       "      <th>6</th>\n",
       "      <th>7</th>\n",
       "      <th>8</th>\n",
       "      <th>9</th>\n",
       "      <th>...</th>\n",
       "      <th>490</th>\n",
       "      <th>491</th>\n",
       "      <th>492</th>\n",
       "      <th>493</th>\n",
       "      <th>494</th>\n",
       "      <th>495</th>\n",
       "      <th>496</th>\n",
       "      <th>497</th>\n",
       "      <th>498</th>\n",
       "      <th>499</th>\n",
       "    </tr>\n",
       "  </thead>\n",
       "  <tbody>\n",
       "    <tr>\n",
       "      <th>0</th>\n",
       "      <td>1.000000</td>\n",
       "      <td>1.000000</td>\n",
       "      <td>1.000000</td>\n",
       "      <td>1.000000</td>\n",
       "      <td>1.000000</td>\n",
       "      <td>1.000000</td>\n",
       "      <td>1.000000</td>\n",
       "      <td>1.000000</td>\n",
       "      <td>1.000000</td>\n",
       "      <td>1.000000</td>\n",
       "      <td>...</td>\n",
       "      <td>1.000000</td>\n",
       "      <td>1.000000</td>\n",
       "      <td>1.000000</td>\n",
       "      <td>1.000000</td>\n",
       "      <td>1.000000</td>\n",
       "      <td>1.000000</td>\n",
       "      <td>1.000000</td>\n",
       "      <td>1.000000</td>\n",
       "      <td>1.000000</td>\n",
       "      <td>1.000000</td>\n",
       "    </tr>\n",
       "    <tr>\n",
       "      <th>1</th>\n",
       "      <td>0.989633</td>\n",
       "      <td>0.991864</td>\n",
       "      <td>1.013759</td>\n",
       "      <td>0.980761</td>\n",
       "      <td>0.987060</td>\n",
       "      <td>1.006777</td>\n",
       "      <td>1.002393</td>\n",
       "      <td>0.994161</td>\n",
       "      <td>1.001962</td>\n",
       "      <td>1.002999</td>\n",
       "      <td>...</td>\n",
       "      <td>1.019931</td>\n",
       "      <td>0.991780</td>\n",
       "      <td>1.011541</td>\n",
       "      <td>0.999564</td>\n",
       "      <td>0.984545</td>\n",
       "      <td>1.007895</td>\n",
       "      <td>1.009555</td>\n",
       "      <td>0.987428</td>\n",
       "      <td>1.014858</td>\n",
       "      <td>0.998282</td>\n",
       "    </tr>\n",
       "    <tr>\n",
       "      <th>2</th>\n",
       "      <td>0.998322</td>\n",
       "      <td>1.001071</td>\n",
       "      <td>1.020007</td>\n",
       "      <td>0.991594</td>\n",
       "      <td>0.982837</td>\n",
       "      <td>1.013318</td>\n",
       "      <td>1.005548</td>\n",
       "      <td>0.982978</td>\n",
       "      <td>1.010775</td>\n",
       "      <td>1.008909</td>\n",
       "      <td>...</td>\n",
       "      <td>1.018614</td>\n",
       "      <td>0.992335</td>\n",
       "      <td>1.013101</td>\n",
       "      <td>0.987171</td>\n",
       "      <td>0.975407</td>\n",
       "      <td>1.011108</td>\n",
       "      <td>1.010086</td>\n",
       "      <td>0.981347</td>\n",
       "      <td>1.009858</td>\n",
       "      <td>1.003530</td>\n",
       "    </tr>\n",
       "    <tr>\n",
       "      <th>3</th>\n",
       "      <td>0.985527</td>\n",
       "      <td>1.001347</td>\n",
       "      <td>1.020756</td>\n",
       "      <td>0.980908</td>\n",
       "      <td>0.985900</td>\n",
       "      <td>0.997190</td>\n",
       "      <td>1.005012</td>\n",
       "      <td>0.984141</td>\n",
       "      <td>1.013794</td>\n",
       "      <td>1.014007</td>\n",
       "      <td>...</td>\n",
       "      <td>1.026994</td>\n",
       "      <td>0.993506</td>\n",
       "      <td>1.013674</td>\n",
       "      <td>0.986305</td>\n",
       "      <td>0.973675</td>\n",
       "      <td>1.009591</td>\n",
       "      <td>1.020008</td>\n",
       "      <td>0.986197</td>\n",
       "      <td>1.006128</td>\n",
       "      <td>1.004426</td>\n",
       "    </tr>\n",
       "    <tr>\n",
       "      <th>4</th>\n",
       "      <td>0.981688</td>\n",
       "      <td>1.011364</td>\n",
       "      <td>1.036279</td>\n",
       "      <td>0.984363</td>\n",
       "      <td>0.978161</td>\n",
       "      <td>0.996947</td>\n",
       "      <td>1.003834</td>\n",
       "      <td>0.981964</td>\n",
       "      <td>1.001894</td>\n",
       "      <td>1.020733</td>\n",
       "      <td>...</td>\n",
       "      <td>1.035997</td>\n",
       "      <td>0.998766</td>\n",
       "      <td>1.018741</td>\n",
       "      <td>0.992016</td>\n",
       "      <td>0.978434</td>\n",
       "      <td>0.992266</td>\n",
       "      <td>1.032430</td>\n",
       "      <td>0.975267</td>\n",
       "      <td>0.996994</td>\n",
       "      <td>0.993965</td>\n",
       "    </tr>\n",
       "    <tr>\n",
       "      <th>...</th>\n",
       "      <td>...</td>\n",
       "      <td>...</td>\n",
       "      <td>...</td>\n",
       "      <td>...</td>\n",
       "      <td>...</td>\n",
       "      <td>...</td>\n",
       "      <td>...</td>\n",
       "      <td>...</td>\n",
       "      <td>...</td>\n",
       "      <td>...</td>\n",
       "      <td>...</td>\n",
       "      <td>...</td>\n",
       "      <td>...</td>\n",
       "      <td>...</td>\n",
       "      <td>...</td>\n",
       "      <td>...</td>\n",
       "      <td>...</td>\n",
       "      <td>...</td>\n",
       "      <td>...</td>\n",
       "      <td>...</td>\n",
       "      <td>...</td>\n",
       "    </tr>\n",
       "    <tr>\n",
       "      <th>1256</th>\n",
       "      <td>1.612173</td>\n",
       "      <td>1.980182</td>\n",
       "      <td>1.616384</td>\n",
       "      <td>1.093212</td>\n",
       "      <td>1.209362</td>\n",
       "      <td>1.355922</td>\n",
       "      <td>1.224469</td>\n",
       "      <td>1.470605</td>\n",
       "      <td>1.037280</td>\n",
       "      <td>2.159508</td>\n",
       "      <td>...</td>\n",
       "      <td>1.512942</td>\n",
       "      <td>1.520304</td>\n",
       "      <td>1.880298</td>\n",
       "      <td>1.339641</td>\n",
       "      <td>1.329736</td>\n",
       "      <td>1.421468</td>\n",
       "      <td>1.442754</td>\n",
       "      <td>1.085608</td>\n",
       "      <td>1.001799</td>\n",
       "      <td>1.779259</td>\n",
       "    </tr>\n",
       "    <tr>\n",
       "      <th>1257</th>\n",
       "      <td>1.591974</td>\n",
       "      <td>1.960725</td>\n",
       "      <td>1.606585</td>\n",
       "      <td>1.109759</td>\n",
       "      <td>1.189848</td>\n",
       "      <td>1.363228</td>\n",
       "      <td>1.246757</td>\n",
       "      <td>1.465282</td>\n",
       "      <td>1.029187</td>\n",
       "      <td>2.178016</td>\n",
       "      <td>...</td>\n",
       "      <td>1.509269</td>\n",
       "      <td>1.541499</td>\n",
       "      <td>1.864312</td>\n",
       "      <td>1.337637</td>\n",
       "      <td>1.330775</td>\n",
       "      <td>1.427525</td>\n",
       "      <td>1.449235</td>\n",
       "      <td>1.079375</td>\n",
       "      <td>0.995975</td>\n",
       "      <td>1.802653</td>\n",
       "    </tr>\n",
       "    <tr>\n",
       "      <th>1258</th>\n",
       "      <td>1.588683</td>\n",
       "      <td>1.937677</td>\n",
       "      <td>1.613191</td>\n",
       "      <td>1.106846</td>\n",
       "      <td>1.176546</td>\n",
       "      <td>1.379813</td>\n",
       "      <td>1.223306</td>\n",
       "      <td>1.473621</td>\n",
       "      <td>1.029097</td>\n",
       "      <td>2.153236</td>\n",
       "      <td>...</td>\n",
       "      <td>1.493566</td>\n",
       "      <td>1.541065</td>\n",
       "      <td>1.845054</td>\n",
       "      <td>1.334540</td>\n",
       "      <td>1.352415</td>\n",
       "      <td>1.430134</td>\n",
       "      <td>1.452336</td>\n",
       "      <td>1.070717</td>\n",
       "      <td>0.996954</td>\n",
       "      <td>1.793578</td>\n",
       "    </tr>\n",
       "    <tr>\n",
       "      <th>1259</th>\n",
       "      <td>1.581592</td>\n",
       "      <td>1.925128</td>\n",
       "      <td>1.610997</td>\n",
       "      <td>1.104752</td>\n",
       "      <td>1.195068</td>\n",
       "      <td>1.390230</td>\n",
       "      <td>1.224691</td>\n",
       "      <td>1.480281</td>\n",
       "      <td>1.046366</td>\n",
       "      <td>2.153248</td>\n",
       "      <td>...</td>\n",
       "      <td>1.492839</td>\n",
       "      <td>1.533445</td>\n",
       "      <td>1.880991</td>\n",
       "      <td>1.311328</td>\n",
       "      <td>1.353987</td>\n",
       "      <td>1.433319</td>\n",
       "      <td>1.461089</td>\n",
       "      <td>1.081804</td>\n",
       "      <td>1.009122</td>\n",
       "      <td>1.811529</td>\n",
       "    </tr>\n",
       "    <tr>\n",
       "      <th>1260</th>\n",
       "      <td>1.604869</td>\n",
       "      <td>1.938652</td>\n",
       "      <td>1.607695</td>\n",
       "      <td>1.107466</td>\n",
       "      <td>1.189923</td>\n",
       "      <td>1.398354</td>\n",
       "      <td>1.227151</td>\n",
       "      <td>1.476164</td>\n",
       "      <td>1.041440</td>\n",
       "      <td>2.164418</td>\n",
       "      <td>...</td>\n",
       "      <td>1.486829</td>\n",
       "      <td>1.533650</td>\n",
       "      <td>1.899959</td>\n",
       "      <td>1.297117</td>\n",
       "      <td>1.347170</td>\n",
       "      <td>1.427890</td>\n",
       "      <td>1.480277</td>\n",
       "      <td>1.068367</td>\n",
       "      <td>0.998617</td>\n",
       "      <td>1.820391</td>\n",
       "    </tr>\n",
       "  </tbody>\n",
       "</table>\n",
       "<p>1261 rows × 500 columns</p>\n",
       "</div>"
      ],
      "text/plain": [
       "           0         1         2         3         4         5         6    \\\n",
       "0     1.000000  1.000000  1.000000  1.000000  1.000000  1.000000  1.000000   \n",
       "1     0.989633  0.991864  1.013759  0.980761  0.987060  1.006777  1.002393   \n",
       "2     0.998322  1.001071  1.020007  0.991594  0.982837  1.013318  1.005548   \n",
       "3     0.985527  1.001347  1.020756  0.980908  0.985900  0.997190  1.005012   \n",
       "4     0.981688  1.011364  1.036279  0.984363  0.978161  0.996947  1.003834   \n",
       "...        ...       ...       ...       ...       ...       ...       ...   \n",
       "1256  1.612173  1.980182  1.616384  1.093212  1.209362  1.355922  1.224469   \n",
       "1257  1.591974  1.960725  1.606585  1.109759  1.189848  1.363228  1.246757   \n",
       "1258  1.588683  1.937677  1.613191  1.106846  1.176546  1.379813  1.223306   \n",
       "1259  1.581592  1.925128  1.610997  1.104752  1.195068  1.390230  1.224691   \n",
       "1260  1.604869  1.938652  1.607695  1.107466  1.189923  1.398354  1.227151   \n",
       "\n",
       "           7         8         9    ...       490       491       492  \\\n",
       "0     1.000000  1.000000  1.000000  ...  1.000000  1.000000  1.000000   \n",
       "1     0.994161  1.001962  1.002999  ...  1.019931  0.991780  1.011541   \n",
       "2     0.982978  1.010775  1.008909  ...  1.018614  0.992335  1.013101   \n",
       "3     0.984141  1.013794  1.014007  ...  1.026994  0.993506  1.013674   \n",
       "4     0.981964  1.001894  1.020733  ...  1.035997  0.998766  1.018741   \n",
       "...        ...       ...       ...  ...       ...       ...       ...   \n",
       "1256  1.470605  1.037280  2.159508  ...  1.512942  1.520304  1.880298   \n",
       "1257  1.465282  1.029187  2.178016  ...  1.509269  1.541499  1.864312   \n",
       "1258  1.473621  1.029097  2.153236  ...  1.493566  1.541065  1.845054   \n",
       "1259  1.480281  1.046366  2.153248  ...  1.492839  1.533445  1.880991   \n",
       "1260  1.476164  1.041440  2.164418  ...  1.486829  1.533650  1.899959   \n",
       "\n",
       "           493       494       495       496       497       498       499  \n",
       "0     1.000000  1.000000  1.000000  1.000000  1.000000  1.000000  1.000000  \n",
       "1     0.999564  0.984545  1.007895  1.009555  0.987428  1.014858  0.998282  \n",
       "2     0.987171  0.975407  1.011108  1.010086  0.981347  1.009858  1.003530  \n",
       "3     0.986305  0.973675  1.009591  1.020008  0.986197  1.006128  1.004426  \n",
       "4     0.992016  0.978434  0.992266  1.032430  0.975267  0.996994  0.993965  \n",
       "...        ...       ...       ...       ...       ...       ...       ...  \n",
       "1256  1.339641  1.329736  1.421468  1.442754  1.085608  1.001799  1.779259  \n",
       "1257  1.337637  1.330775  1.427525  1.449235  1.079375  0.995975  1.802653  \n",
       "1258  1.334540  1.352415  1.430134  1.452336  1.070717  0.996954  1.793578  \n",
       "1259  1.311328  1.353987  1.433319  1.461089  1.081804  1.009122  1.811529  \n",
       "1260  1.297117  1.347170  1.427890  1.480277  1.068367  0.998617  1.820391  \n",
       "\n",
       "[1261 rows x 500 columns]"
      ]
     },
     "execution_count": 92,
     "metadata": {},
     "output_type": "execute_result"
    }
   ],
   "source": [
    "# Configure the Monte Carlo simulation to forecast 30 years cumulative returns\n",
    "# The weights should be split 40% to AGG and 60% to SPY.\n",
    "# Run 500 samples.\n",
    "MC_fiveyear = MCSimulation(\n",
    "    portfolio_data = df_portfolio,\n",
    "    weights = [.60,.40],\n",
    "    num_simulation = 500,\n",
    "    num_trading_days = 252*5\n",
    ")\n",
    "\n",
    "# Review the simulation input data\n",
    "MC_fiveyear.portfolio_data.head()\n",
    "MC_fiveyear.calc_cumulative_return()\n"
   ]
  },
  {
   "cell_type": "code",
   "execution_count": 98,
   "metadata": {},
   "outputs": [
    {
     "data": {
      "image/png": "[encoded data removed]",
      "text/plain": [
       "<Figure size 432x288 with 1 Axes>"
      ]
     },
     "metadata": {
      "needs_background": "light"
     },
     "output_type": "display_data"
    }
   ],
   "source": [
    "# Visualize the 5-year Monte Carlo simulation by creating an\n",
    "# overlay line plot\n",
    "# Plot simulation outcomes\n",
    "MC_sim_line_plot = MC_fiveyear.plot_simulation()\n",
    "\n",
    "# Save the plot for future use\n",
    "MC_sim_line_plot.get_figure().savefig(\"MC_fiveyear_sim_plot.png\", bbox_inches=\"tight\")"
   ]
  },
  {
   "cell_type": "code",
   "execution_count": 94,
   "metadata": {},
   "outputs": [
    {
     "name": "stdout",
     "output_type": "stream",
     "text": [
      "Running Monte Carlo simulation number 0.\n",
      "Running Monte Carlo simulation number 10.\n",
      "Running Monte Carlo simulation number 20.\n",
      "Running Monte Carlo simulation number 30.\n",
      "Running Monte Carlo simulation number 40.\n",
      "Running Monte Carlo simulation number 50.\n",
      "Running Monte Carlo simulation number 60.\n",
      "Running Monte Carlo simulation number 70.\n",
      "Running Monte Carlo simulation number 80.\n",
      "Running Monte Carlo simulation number 90.\n",
      "Running Monte Carlo simulation number 100.\n"
     ]
    },
    {
     "name": "stderr",
     "output_type": "stream",
     "text": [
      "/Users/crystalevans/finTech/Module5/MCForecastTools.py:117: PerformanceWarning: DataFrame is highly fragmented.  This is usually the result of calling `frame.insert` many times, which has poor performance.  Consider joining all columns at once using pd.concat(axis=1) instead.  To get a de-fragmented frame, use `newframe = frame.copy()`\n",
      "  portfolio_cumulative_returns[n] = (1 + sim_df.fillna(0)).cumprod()\n"
     ]
    },
    {
     "name": "stdout",
     "output_type": "stream",
     "text": [
      "Running Monte Carlo simulation number 110.\n",
      "Running Monte Carlo simulation number 120.\n",
      "Running Monte Carlo simulation number 130.\n",
      "Running Monte Carlo simulation number 140.\n",
      "Running Monte Carlo simulation number 150.\n",
      "Running Monte Carlo simulation number 160.\n",
      "Running Monte Carlo simulation number 170.\n",
      "Running Monte Carlo simulation number 180.\n",
      "Running Monte Carlo simulation number 190.\n",
      "Running Monte Carlo simulation number 200.\n",
      "Running Monte Carlo simulation number 210.\n",
      "Running Monte Carlo simulation number 220.\n",
      "Running Monte Carlo simulation number 230.\n",
      "Running Monte Carlo simulation number 240.\n",
      "Running Monte Carlo simulation number 250.\n",
      "Running Monte Carlo simulation number 260.\n",
      "Running Monte Carlo simulation number 270.\n",
      "Running Monte Carlo simulation number 280.\n",
      "Running Monte Carlo simulation number 290.\n",
      "Running Monte Carlo simulation number 300.\n",
      "Running Monte Carlo simulation number 310.\n",
      "Running Monte Carlo simulation number 320.\n",
      "Running Monte Carlo simulation number 330.\n",
      "Running Monte Carlo simulation number 340.\n",
      "Running Monte Carlo simulation number 350.\n",
      "Running Monte Carlo simulation number 360.\n",
      "Running Monte Carlo simulation number 370.\n",
      "Running Monte Carlo simulation number 380.\n",
      "Running Monte Carlo simulation number 390.\n",
      "Running Monte Carlo simulation number 400.\n",
      "Running Monte Carlo simulation number 410.\n",
      "Running Monte Carlo simulation number 420.\n",
      "Running Monte Carlo simulation number 430.\n",
      "Running Monte Carlo simulation number 440.\n",
      "Running Monte Carlo simulation number 450.\n",
      "Running Monte Carlo simulation number 460.\n",
      "Running Monte Carlo simulation number 470.\n",
      "Running Monte Carlo simulation number 480.\n",
      "Running Monte Carlo simulation number 490.\n"
     ]
    },
    {
     "data": {
      "text/html": [
       "<div>\n",
       "<style scoped>\n",
       "    .dataframe tbody tr th:only-of-type {\n",
       "        vertical-align: middle;\n",
       "    }\n",
       "\n",
       "    .dataframe tbody tr th {\n",
       "        vertical-align: top;\n",
       "    }\n",
       "\n",
       "    .dataframe thead th {\n",
       "        text-align: right;\n",
       "    }\n",
       "</style>\n",
       "<table border=\"1\" class=\"dataframe\">\n",
       "  <thead>\n",
       "    <tr style=\"text-align: right;\">\n",
       "      <th></th>\n",
       "      <th>0</th>\n",
       "      <th>1</th>\n",
       "      <th>2</th>\n",
       "      <th>3</th>\n",
       "      <th>4</th>\n",
       "      <th>5</th>\n",
       "      <th>6</th>\n",
       "      <th>7</th>\n",
       "      <th>8</th>\n",
       "      <th>9</th>\n",
       "      <th>...</th>\n",
       "      <th>490</th>\n",
       "      <th>491</th>\n",
       "      <th>492</th>\n",
       "      <th>493</th>\n",
       "      <th>494</th>\n",
       "      <th>495</th>\n",
       "      <th>496</th>\n",
       "      <th>497</th>\n",
       "      <th>498</th>\n",
       "      <th>499</th>\n",
       "    </tr>\n",
       "  </thead>\n",
       "  <tbody>\n",
       "    <tr>\n",
       "      <th>0</th>\n",
       "      <td>1.000000</td>\n",
       "      <td>1.000000</td>\n",
       "      <td>1.000000</td>\n",
       "      <td>1.000000</td>\n",
       "      <td>1.000000</td>\n",
       "      <td>1.000000</td>\n",
       "      <td>1.000000</td>\n",
       "      <td>1.000000</td>\n",
       "      <td>1.000000</td>\n",
       "      <td>1.000000</td>\n",
       "      <td>...</td>\n",
       "      <td>1.000000</td>\n",
       "      <td>1.000000</td>\n",
       "      <td>1.000000</td>\n",
       "      <td>1.000000</td>\n",
       "      <td>1.000000</td>\n",
       "      <td>1.000000</td>\n",
       "      <td>1.000000</td>\n",
       "      <td>1.000000</td>\n",
       "      <td>1.000000</td>\n",
       "      <td>1.000000</td>\n",
       "    </tr>\n",
       "    <tr>\n",
       "      <th>1</th>\n",
       "      <td>0.994072</td>\n",
       "      <td>1.006680</td>\n",
       "      <td>0.991916</td>\n",
       "      <td>0.999007</td>\n",
       "      <td>0.994135</td>\n",
       "      <td>0.988031</td>\n",
       "      <td>0.997149</td>\n",
       "      <td>0.998720</td>\n",
       "      <td>1.006636</td>\n",
       "      <td>0.987834</td>\n",
       "      <td>...</td>\n",
       "      <td>0.991726</td>\n",
       "      <td>0.999381</td>\n",
       "      <td>0.986642</td>\n",
       "      <td>0.999685</td>\n",
       "      <td>0.994964</td>\n",
       "      <td>0.987253</td>\n",
       "      <td>0.995880</td>\n",
       "      <td>1.007403</td>\n",
       "      <td>1.001745</td>\n",
       "      <td>1.012091</td>\n",
       "    </tr>\n",
       "    <tr>\n",
       "      <th>2</th>\n",
       "      <td>0.990369</td>\n",
       "      <td>1.011171</td>\n",
       "      <td>0.996911</td>\n",
       "      <td>0.991502</td>\n",
       "      <td>0.982574</td>\n",
       "      <td>0.998214</td>\n",
       "      <td>1.001469</td>\n",
       "      <td>1.005668</td>\n",
       "      <td>1.000729</td>\n",
       "      <td>0.979739</td>\n",
       "      <td>...</td>\n",
       "      <td>0.995930</td>\n",
       "      <td>1.000611</td>\n",
       "      <td>0.999861</td>\n",
       "      <td>0.997984</td>\n",
       "      <td>1.001206</td>\n",
       "      <td>0.989003</td>\n",
       "      <td>0.998207</td>\n",
       "      <td>1.006112</td>\n",
       "      <td>1.007795</td>\n",
       "      <td>1.022539</td>\n",
       "    </tr>\n",
       "    <tr>\n",
       "      <th>3</th>\n",
       "      <td>0.986295</td>\n",
       "      <td>1.014873</td>\n",
       "      <td>0.992107</td>\n",
       "      <td>1.005104</td>\n",
       "      <td>0.990516</td>\n",
       "      <td>1.015652</td>\n",
       "      <td>0.999409</td>\n",
       "      <td>1.008288</td>\n",
       "      <td>1.009682</td>\n",
       "      <td>0.972478</td>\n",
       "      <td>...</td>\n",
       "      <td>0.999450</td>\n",
       "      <td>0.998579</td>\n",
       "      <td>0.995336</td>\n",
       "      <td>1.001560</td>\n",
       "      <td>1.006483</td>\n",
       "      <td>0.964936</td>\n",
       "      <td>1.004977</td>\n",
       "      <td>0.996612</td>\n",
       "      <td>1.003771</td>\n",
       "      <td>1.025938</td>\n",
       "    </tr>\n",
       "    <tr>\n",
       "      <th>4</th>\n",
       "      <td>0.997935</td>\n",
       "      <td>1.021064</td>\n",
       "      <td>0.995553</td>\n",
       "      <td>1.022002</td>\n",
       "      <td>0.989939</td>\n",
       "      <td>1.021850</td>\n",
       "      <td>0.990861</td>\n",
       "      <td>1.020146</td>\n",
       "      <td>0.999734</td>\n",
       "      <td>0.973352</td>\n",
       "      <td>...</td>\n",
       "      <td>1.000011</td>\n",
       "      <td>0.993274</td>\n",
       "      <td>1.002673</td>\n",
       "      <td>1.000136</td>\n",
       "      <td>1.000484</td>\n",
       "      <td>0.967593</td>\n",
       "      <td>1.012332</td>\n",
       "      <td>0.988856</td>\n",
       "      <td>1.005359</td>\n",
       "      <td>1.001279</td>\n",
       "    </tr>\n",
       "    <tr>\n",
       "      <th>...</th>\n",
       "      <td>...</td>\n",
       "      <td>...</td>\n",
       "      <td>...</td>\n",
       "      <td>...</td>\n",
       "      <td>...</td>\n",
       "      <td>...</td>\n",
       "      <td>...</td>\n",
       "      <td>...</td>\n",
       "      <td>...</td>\n",
       "      <td>...</td>\n",
       "      <td>...</td>\n",
       "      <td>...</td>\n",
       "      <td>...</td>\n",
       "      <td>...</td>\n",
       "      <td>...</td>\n",
       "      <td>...</td>\n",
       "      <td>...</td>\n",
       "      <td>...</td>\n",
       "      <td>...</td>\n",
       "      <td>...</td>\n",
       "      <td>...</td>\n",
       "    </tr>\n",
       "    <tr>\n",
       "      <th>7556</th>\n",
       "      <td>9.740552</td>\n",
       "      <td>5.118765</td>\n",
       "      <td>17.802316</td>\n",
       "      <td>6.502376</td>\n",
       "      <td>18.108143</td>\n",
       "      <td>38.990269</td>\n",
       "      <td>7.770315</td>\n",
       "      <td>14.421207</td>\n",
       "      <td>10.949333</td>\n",
       "      <td>6.564559</td>\n",
       "      <td>...</td>\n",
       "      <td>10.590941</td>\n",
       "      <td>18.156202</td>\n",
       "      <td>6.752675</td>\n",
       "      <td>3.258961</td>\n",
       "      <td>13.981043</td>\n",
       "      <td>13.058482</td>\n",
       "      <td>16.777247</td>\n",
       "      <td>5.944141</td>\n",
       "      <td>14.320095</td>\n",
       "      <td>9.395326</td>\n",
       "    </tr>\n",
       "    <tr>\n",
       "      <th>7557</th>\n",
       "      <td>9.702840</td>\n",
       "      <td>5.141034</td>\n",
       "      <td>17.613289</td>\n",
       "      <td>6.506525</td>\n",
       "      <td>18.168427</td>\n",
       "      <td>39.166549</td>\n",
       "      <td>7.777760</td>\n",
       "      <td>14.158468</td>\n",
       "      <td>10.939105</td>\n",
       "      <td>6.611288</td>\n",
       "      <td>...</td>\n",
       "      <td>10.689761</td>\n",
       "      <td>18.003001</td>\n",
       "      <td>6.790827</td>\n",
       "      <td>3.253529</td>\n",
       "      <td>13.887262</td>\n",
       "      <td>13.070548</td>\n",
       "      <td>16.856974</td>\n",
       "      <td>6.002437</td>\n",
       "      <td>14.432206</td>\n",
       "      <td>9.442890</td>\n",
       "    </tr>\n",
       "    <tr>\n",
       "      <th>7558</th>\n",
       "      <td>9.754956</td>\n",
       "      <td>5.099226</td>\n",
       "      <td>17.825309</td>\n",
       "      <td>6.608147</td>\n",
       "      <td>18.307127</td>\n",
       "      <td>38.957731</td>\n",
       "      <td>7.742225</td>\n",
       "      <td>14.324019</td>\n",
       "      <td>10.953189</td>\n",
       "      <td>6.738350</td>\n",
       "      <td>...</td>\n",
       "      <td>10.820742</td>\n",
       "      <td>17.991781</td>\n",
       "      <td>6.826182</td>\n",
       "      <td>3.269535</td>\n",
       "      <td>13.982994</td>\n",
       "      <td>13.142160</td>\n",
       "      <td>16.800740</td>\n",
       "      <td>5.987794</td>\n",
       "      <td>14.421862</td>\n",
       "      <td>9.362844</td>\n",
       "    </tr>\n",
       "    <tr>\n",
       "      <th>7559</th>\n",
       "      <td>9.704475</td>\n",
       "      <td>5.157019</td>\n",
       "      <td>17.965893</td>\n",
       "      <td>6.482716</td>\n",
       "      <td>18.558566</td>\n",
       "      <td>39.336688</td>\n",
       "      <td>7.808375</td>\n",
       "      <td>14.146797</td>\n",
       "      <td>10.888176</td>\n",
       "      <td>6.741859</td>\n",
       "      <td>...</td>\n",
       "      <td>10.758961</td>\n",
       "      <td>17.971013</td>\n",
       "      <td>6.726294</td>\n",
       "      <td>3.261324</td>\n",
       "      <td>13.950767</td>\n",
       "      <td>12.946161</td>\n",
       "      <td>16.554946</td>\n",
       "      <td>6.023211</td>\n",
       "      <td>14.623681</td>\n",
       "      <td>9.481105</td>\n",
       "    </tr>\n",
       "    <tr>\n",
       "      <th>7560</th>\n",
       "      <td>9.762267</td>\n",
       "      <td>5.119603</td>\n",
       "      <td>18.229910</td>\n",
       "      <td>6.468571</td>\n",
       "      <td>18.576272</td>\n",
       "      <td>39.199855</td>\n",
       "      <td>7.769421</td>\n",
       "      <td>14.260994</td>\n",
       "      <td>10.853233</td>\n",
       "      <td>6.808099</td>\n",
       "      <td>...</td>\n",
       "      <td>10.804873</td>\n",
       "      <td>18.263588</td>\n",
       "      <td>6.800257</td>\n",
       "      <td>3.245522</td>\n",
       "      <td>14.135123</td>\n",
       "      <td>13.089314</td>\n",
       "      <td>16.505757</td>\n",
       "      <td>6.017793</td>\n",
       "      <td>14.831111</td>\n",
       "      <td>9.591475</td>\n",
       "    </tr>\n",
       "  </tbody>\n",
       "</table>\n",
       "<p>7561 rows × 500 columns</p>\n",
       "</div>"
      ],
      "text/plain": [
       "           0         1          2         3          4          5         6    \\\n",
       "0     1.000000  1.000000   1.000000  1.000000   1.000000   1.000000  1.000000   \n",
       "1     0.994072  1.006680   0.991916  0.999007   0.994135   0.988031  0.997149   \n",
       "2     0.990369  1.011171   0.996911  0.991502   0.982574   0.998214  1.001469   \n",
       "3     0.986295  1.014873   0.992107  1.005104   0.990516   1.015652  0.999409   \n",
       "4     0.997935  1.021064   0.995553  1.022002   0.989939   1.021850  0.990861   \n",
       "...        ...       ...        ...       ...        ...        ...       ...   \n",
       "7556  9.740552  5.118765  17.802316  6.502376  18.108143  38.990269  7.770315   \n",
       "7557  9.702840  5.141034  17.613289  6.506525  18.168427  39.166549  7.777760   \n",
       "7558  9.754956  5.099226  17.825309  6.608147  18.307127  38.957731  7.742225   \n",
       "7559  9.704475  5.157019  17.965893  6.482716  18.558566  39.336688  7.808375   \n",
       "7560  9.762267  5.119603  18.229910  6.468571  18.576272  39.199855  7.769421   \n",
       "\n",
       "            7          8         9    ...        490        491       492  \\\n",
       "0      1.000000   1.000000  1.000000  ...   1.000000   1.000000  1.000000   \n",
       "1      0.998720   1.006636  0.987834  ...   0.991726   0.999381  0.986642   \n",
       "2      1.005668   1.000729  0.979739  ...   0.995930   1.000611  0.999861   \n",
       "3      1.008288   1.009682  0.972478  ...   0.999450   0.998579  0.995336   \n",
       "4      1.020146   0.999734  0.973352  ...   1.000011   0.993274  1.002673   \n",
       "...         ...        ...       ...  ...        ...        ...       ...   \n",
       "7556  14.421207  10.949333  6.564559  ...  10.590941  18.156202  6.752675   \n",
       "7557  14.158468  10.939105  6.611288  ...  10.689761  18.003001  6.790827   \n",
       "7558  14.324019  10.953189  6.738350  ...  10.820742  17.991781  6.826182   \n",
       "7559  14.146797  10.888176  6.741859  ...  10.758961  17.971013  6.726294   \n",
       "7560  14.260994  10.853233  6.808099  ...  10.804873  18.263588  6.800257   \n",
       "\n",
       "           493        494        495        496       497        498       499  \n",
       "0     1.000000   1.000000   1.000000   1.000000  1.000000   1.000000  1.000000  \n",
       "1     0.999685   0.994964   0.987253   0.995880  1.007403   1.001745  1.012091  \n",
       "2     0.997984   1.001206   0.989003   0.998207  1.006112   1.007795  1.022539  \n",
       "3     1.001560   1.006483   0.964936   1.004977  0.996612   1.003771  1.025938  \n",
       "4     1.000136   1.000484   0.967593   1.012332  0.988856   1.005359  1.001279  \n",
       "...        ...        ...        ...        ...       ...        ...       ...  \n",
       "7556  3.258961  13.981043  13.058482  16.777247  5.944141  14.320095  9.395326  \n",
       "7557  3.253529  13.887262  13.070548  16.856974  6.002437  14.432206  9.442890  \n",
       "7558  3.269535  13.982994  13.142160  16.800740  5.987794  14.421862  9.362844  \n",
       "7559  3.261324  13.950767  12.946161  16.554946  6.023211  14.623681  9.481105  \n",
       "7560  3.245522  14.135123  13.089314  16.505757  6.017793  14.831111  9.591475  \n",
       "\n",
       "[7561 rows x 500 columns]"
      ]
     },
     "execution_count": 94,
     "metadata": {},
     "output_type": "execute_result"
    }
   ],
   "source": [
    "# Run the Monte Carlo simulation to forecast 30 years cumulative returns\n",
    "\n",
    "MC_thirtyyear = MCSimulation(\n",
    "    portfolio_data = df_portfolio,\n",
    "    weights = [.60,.40],\n",
    "    num_simulation = 500,\n",
    "    num_trading_days = 252*30\n",
    ")\n",
    "\n",
    "# Review the simulation input data\n",
    "MC_thirtyyear.portfolio_data.head()\n",
    "MC_thirtyyear.calc_cumulative_return()"
   ]
  },
  {
   "cell_type": "code",
   "execution_count": 118,
   "metadata": {},
   "outputs": [
    {
     "data": {
      "text/plain": [
       "<AxesSubplot:title={'center':'SPY 30 year sim'}, xlabel='timestamp'>"
      ]
     },
     "execution_count": 118,
     "metadata": {},
     "output_type": "execute_result"
    },
    {
     "data": {
      "image/png": "[encoded data removed]",
      "text/plain": [
       "<Figure size 432x288 with 1 Axes>"
      ]
     },
     "metadata": {
      "needs_background": "light"
     },
     "output_type": "display_data"
    }
   ],
   "source": [
    "MC_thirtyyear.portfolio_data[(\"SPY\",\"close\")].plot(title=\"SPY 30 year sim\")"
   ]
  },
  {
   "cell_type": "code",
   "execution_count": 117,
   "metadata": {},
   "outputs": [
    {
     "data": {
      "text/plain": [
       "<AxesSubplot:title={'center':'AGG 30 year sim'}, xlabel='timestamp'>"
      ]
     },
     "execution_count": 117,
     "metadata": {},
     "output_type": "execute_result"
    },
    {
     "data": {
      "image/png": "[encoded data removed]",
      "text/plain": [
       "<Figure size 432x288 with 1 Axes>"
      ]
     },
     "metadata": {
      "needs_background": "light"
     },
     "output_type": "display_data"
    }
   ],
   "source": [
    "MC_thirtyyear.portfolio_data[(\"AGG\",\"close\")].plot(title=\"AGG 30 year sim\")"
   ]
  },
  {
   "cell_type": "code",
   "execution_count": 97,
   "metadata": {},
   "outputs": [
    {
     "data": {
      "image/png": "[encoded data removed]",
      "text/plain": [
       "<Figure size 432x288 with 1 Axes>"
      ]
     },
     "metadata": {
      "needs_background": "light"
     },
     "output_type": "display_data"
    }
   ],
   "source": [
    "# Visualize the 30-year Monte Carlo simulation by creating an\n",
    "# overlay line plot\n",
    "# Plot simulation outcomes\n",
    "MC_sim_line_plot = MC_thirtyyear.plot_simulation()\n",
    "\n",
    "# Save the plot for future use\n",
    "MC_sim_line_plot.get_figure().savefig(\"MC_thirtyyear_sim_plot.png\", bbox_inches=\"tight\")\n"
   ]
  },
  {
   "cell_type": "markdown",
   "metadata": {},
   "source": [
    "#### Step 3: Plot the probability distribution of the Monte Carlo simulation."
   ]
  },
  {
   "cell_type": "code",
   "execution_count": null,
   "metadata": {},
   "outputs": [],
   "source": [
    "# Visualize the probability distribution of the 30-year Monte Carlo simulation \n",
    "# by plotting a histogram\n",
    "# YOUR CODE HERE\n"
   ]
  },
  {
   "cell_type": "markdown",
   "metadata": {},
   "source": [
    "#### Step 4: Generate the summary statistics for the Monte Carlo simulation."
   ]
  },
  {
   "cell_type": "code",
   "execution_count": 102,
   "metadata": {},
   "outputs": [
    {
     "data": {
      "text/plain": [
       "MCForecastTools.MCSimulation"
      ]
     },
     "execution_count": 102,
     "metadata": {},
     "output_type": "execute_result"
    }
   ],
   "source": [
    "type(MC_thirtyyear)"
   ]
  },
  {
   "cell_type": "code",
   "execution_count": 109,
   "metadata": {},
   "outputs": [
    {
     "data": {
      "text/html": [
       "<div>\n",
       "<style scoped>\n",
       "    .dataframe tbody tr th:only-of-type {\n",
       "        vertical-align: middle;\n",
       "    }\n",
       "\n",
       "    .dataframe tbody tr th {\n",
       "        vertical-align: top;\n",
       "    }\n",
       "\n",
       "    .dataframe thead tr th {\n",
       "        text-align: left;\n",
       "    }\n",
       "\n",
       "    .dataframe thead tr:last-of-type th {\n",
       "        text-align: right;\n",
       "    }\n",
       "</style>\n",
       "<table border=\"1\" class=\"dataframe\">\n",
       "  <thead>\n",
       "    <tr>\n",
       "      <th></th>\n",
       "      <th colspan=\"8\" halign=\"left\">SPY</th>\n",
       "      <th colspan=\"8\" halign=\"left\">AGG</th>\n",
       "    </tr>\n",
       "    <tr>\n",
       "      <th></th>\n",
       "      <th>open</th>\n",
       "      <th>high</th>\n",
       "      <th>low</th>\n",
       "      <th>close</th>\n",
       "      <th>volume</th>\n",
       "      <th>trade_count</th>\n",
       "      <th>vwap</th>\n",
       "      <th>daily_return</th>\n",
       "      <th>open</th>\n",
       "      <th>high</th>\n",
       "      <th>low</th>\n",
       "      <th>close</th>\n",
       "      <th>volume</th>\n",
       "      <th>trade_count</th>\n",
       "      <th>vwap</th>\n",
       "      <th>daily_return</th>\n",
       "    </tr>\n",
       "    <tr>\n",
       "      <th>timestamp</th>\n",
       "      <th></th>\n",
       "      <th></th>\n",
       "      <th></th>\n",
       "      <th></th>\n",
       "      <th></th>\n",
       "      <th></th>\n",
       "      <th></th>\n",
       "      <th></th>\n",
       "      <th></th>\n",
       "      <th></th>\n",
       "      <th></th>\n",
       "      <th></th>\n",
       "      <th></th>\n",
       "      <th></th>\n",
       "      <th></th>\n",
       "      <th></th>\n",
       "    </tr>\n",
       "  </thead>\n",
       "  <tbody>\n",
       "    <tr>\n",
       "      <th>2017-08-07 04:00:00+00:00</th>\n",
       "      <td>247.50</td>\n",
       "      <td>247.87</td>\n",
       "      <td>247.37</td>\n",
       "      <td>247.87</td>\n",
       "      <td>31995021</td>\n",
       "      <td>100111</td>\n",
       "      <td>247.668698</td>\n",
       "      <td>NaN</td>\n",
       "      <td>109.69</td>\n",
       "      <td>109.72</td>\n",
       "      <td>109.6066</td>\n",
       "      <td>109.67</td>\n",
       "      <td>2359826</td>\n",
       "      <td>7755</td>\n",
       "      <td>109.674876</td>\n",
       "      <td>NaN</td>\n",
       "    </tr>\n",
       "    <tr>\n",
       "      <th>2017-08-08 04:00:00+00:00</th>\n",
       "      <td>247.49</td>\n",
       "      <td>248.91</td>\n",
       "      <td>246.83</td>\n",
       "      <td>247.26</td>\n",
       "      <td>61719353</td>\n",
       "      <td>192921</td>\n",
       "      <td>247.739709</td>\n",
       "      <td>-0.002461</td>\n",
       "      <td>109.67</td>\n",
       "      <td>109.69</td>\n",
       "      <td>109.5000</td>\n",
       "      <td>109.57</td>\n",
       "      <td>2570876</td>\n",
       "      <td>12663</td>\n",
       "      <td>109.577636</td>\n",
       "      <td>-0.000912</td>\n",
       "    </tr>\n",
       "  </tbody>\n",
       "</table>\n",
       "</div>"
      ],
      "text/plain": [
       "                              SPY                                    \\\n",
       "                             open    high     low   close    volume   \n",
       "timestamp                                                             \n",
       "2017-08-07 04:00:00+00:00  247.50  247.87  247.37  247.87  31995021   \n",
       "2017-08-08 04:00:00+00:00  247.49  248.91  246.83  247.26  61719353   \n",
       "\n",
       "                                                                   AGG  \\\n",
       "                          trade_count        vwap daily_return    open   \n",
       "timestamp                                                                \n",
       "2017-08-07 04:00:00+00:00      100111  247.668698          NaN  109.69   \n",
       "2017-08-08 04:00:00+00:00      192921  247.739709    -0.002461  109.67   \n",
       "\n",
       "                                                                          \\\n",
       "                             high       low   close   volume trade_count   \n",
       "timestamp                                                                  \n",
       "2017-08-07 04:00:00+00:00  109.72  109.6066  109.67  2359826        7755   \n",
       "2017-08-08 04:00:00+00:00  109.69  109.5000  109.57  2570876       12663   \n",
       "\n",
       "                                                    \n",
       "                                 vwap daily_return  \n",
       "timestamp                                           \n",
       "2017-08-07 04:00:00+00:00  109.674876          NaN  \n",
       "2017-08-08 04:00:00+00:00  109.577636    -0.000912  "
      ]
     },
     "execution_count": 109,
     "metadata": {},
     "output_type": "execute_result"
    }
   ],
   "source": [
    "MC_thirtyyear.portfolio_data.head(2)"
   ]
  },
  {
   "cell_type": "code",
   "execution_count": 113,
   "metadata": {
    "tags": []
   },
   "outputs": [
    {
     "data": {
      "image/png": "[encoded data removed]",
      "text/plain": [
       "<Figure size 432x288 with 1 Axes>"
      ]
     },
     "metadata": {
      "needs_background": "light"
     },
     "output_type": "display_data"
    }
   ],
   "source": [
    "# Generate summary statistics from the 30-year Monte Carlo simulation results\n",
    "# Save the results as a variable\n",
    "# Generate descriptive statistics\n",
    "\n",
    "MC_thirtyyear.portfolio_data.describe()\n",
    "\n",
    "MC_sim30_spy_plot = MC_thirtyyear.portfolio_data[(\"SPY\", \"close\")].plot(kind=\"hist\", title='SPY Probability Distribution')"
   ]
  },
  {
   "cell_type": "code",
   "execution_count": 114,
   "metadata": {
    "tags": []
   },
   "outputs": [
    {
     "data": {
      "image/png": "[encoded data removed]",
      "text/plain": [
       "<Figure size 432x288 with 1 Axes>"
      ]
     },
     "metadata": {
      "needs_background": "light"
     },
     "output_type": "display_data"
    }
   ],
   "source": [
    "MC_sim30_agg_plot = MC_thirtyyear.portfolio_data[(\"AGG\", \"close\")].plot(kind=\"hist\",title='AGG Probability Distribution')\n",
    "\n",
    "# Review the 30-year Monte Carlo summary statistics\n",
    "# YOUR CODE HERE"
   ]
  },
  {
   "cell_type": "markdown",
   "metadata": {},
   "source": [
    "### Analyze the Retirement Portfolio Forecasts\n",
    "\n",
    "Using the current value of only the stock and bond portion of the member's portfolio and the summary statistics that you generated from the Monte Carlo simulation, answer the following question in your Jupyter notebook:\n",
    "\n",
    "-  What are the lower and upper bounds for the expected value of the portfolio with a 95% confidence interval?\n"
   ]
  },
  {
   "cell_type": "code",
   "execution_count": 120,
   "metadata": {},
   "outputs": [
    {
     "data": {
      "text/html": [
       "<div>\n",
       "<style scoped>\n",
       "    .dataframe tbody tr th:only-of-type {\n",
       "        vertical-align: middle;\n",
       "    }\n",
       "\n",
       "    .dataframe tbody tr th {\n",
       "        vertical-align: top;\n",
       "    }\n",
       "\n",
       "    .dataframe thead tr th {\n",
       "        text-align: left;\n",
       "    }\n",
       "</style>\n",
       "<table border=\"1\" class=\"dataframe\">\n",
       "  <thead>\n",
       "    <tr>\n",
       "      <th></th>\n",
       "      <th colspan=\"8\" halign=\"left\">SPY</th>\n",
       "      <th colspan=\"8\" halign=\"left\">AGG</th>\n",
       "    </tr>\n",
       "    <tr>\n",
       "      <th></th>\n",
       "      <th>open</th>\n",
       "      <th>high</th>\n",
       "      <th>low</th>\n",
       "      <th>close</th>\n",
       "      <th>volume</th>\n",
       "      <th>trade_count</th>\n",
       "      <th>vwap</th>\n",
       "      <th>daily_return</th>\n",
       "      <th>open</th>\n",
       "      <th>high</th>\n",
       "      <th>low</th>\n",
       "      <th>close</th>\n",
       "      <th>volume</th>\n",
       "      <th>trade_count</th>\n",
       "      <th>vwap</th>\n",
       "      <th>daily_return</th>\n",
       "    </tr>\n",
       "  </thead>\n",
       "  <tbody>\n",
       "    <tr>\n",
       "      <th>count</th>\n",
       "      <td>757.000000</td>\n",
       "      <td>757.000000</td>\n",
       "      <td>757.000000</td>\n",
       "      <td>757.000000</td>\n",
       "      <td>7.570000e+02</td>\n",
       "      <td>7.570000e+02</td>\n",
       "      <td>757.000000</td>\n",
       "      <td>756.000000</td>\n",
       "      <td>757.000000</td>\n",
       "      <td>757.000000</td>\n",
       "      <td>757.000000</td>\n",
       "      <td>757.000000</td>\n",
       "      <td>7.570000e+02</td>\n",
       "      <td>757.000000</td>\n",
       "      <td>757.000000</td>\n",
       "      <td>756.000000</td>\n",
       "    </tr>\n",
       "    <tr>\n",
       "      <th>mean</th>\n",
       "      <td>283.026354</td>\n",
       "      <td>284.629050</td>\n",
       "      <td>281.256257</td>\n",
       "      <td>283.046909</td>\n",
       "      <td>8.969203e+07</td>\n",
       "      <td>4.192793e+05</td>\n",
       "      <td>282.991967</td>\n",
       "      <td>0.000495</td>\n",
       "      <td>110.030264</td>\n",
       "      <td>110.167568</td>\n",
       "      <td>109.880810</td>\n",
       "      <td>110.029524</td>\n",
       "      <td>4.618833e+06</td>\n",
       "      <td>15384.072655</td>\n",
       "      <td>110.032067</td>\n",
       "      <td>0.000119</td>\n",
       "    </tr>\n",
       "    <tr>\n",
       "      <th>std</th>\n",
       "      <td>22.195649</td>\n",
       "      <td>22.032066</td>\n",
       "      <td>22.350123</td>\n",
       "      <td>22.213616</td>\n",
       "      <td>5.319384e+07</td>\n",
       "      <td>4.055646e+05</td>\n",
       "      <td>22.132909</td>\n",
       "      <td>0.013949</td>\n",
       "      <td>4.034746</td>\n",
       "      <td>4.054598</td>\n",
       "      <td>3.986533</td>\n",
       "      <td>4.026540</td>\n",
       "      <td>3.015248e+06</td>\n",
       "      <td>8542.604772</td>\n",
       "      <td>4.022279</td>\n",
       "      <td>0.003414</td>\n",
       "    </tr>\n",
       "    <tr>\n",
       "      <th>min</th>\n",
       "      <td>228.000000</td>\n",
       "      <td>229.683300</td>\n",
       "      <td>218.260000</td>\n",
       "      <td>222.950000</td>\n",
       "      <td>2.053806e+07</td>\n",
       "      <td>8.430500e+04</td>\n",
       "      <td>224.679293</td>\n",
       "      <td>-0.109424</td>\n",
       "      <td>104.070000</td>\n",
       "      <td>104.169900</td>\n",
       "      <td>103.940000</td>\n",
       "      <td>104.010000</td>\n",
       "      <td>1.131600e+06</td>\n",
       "      <td>5750.000000</td>\n",
       "      <td>104.067149</td>\n",
       "      <td>-0.040010</td>\n",
       "    </tr>\n",
       "    <tr>\n",
       "      <th>25%</th>\n",
       "      <td>267.500000</td>\n",
       "      <td>268.550000</td>\n",
       "      <td>265.500000</td>\n",
       "      <td>267.190000</td>\n",
       "      <td>5.722988e+07</td>\n",
       "      <td>2.235030e+05</td>\n",
       "      <td>267.169028</td>\n",
       "      <td>-0.003428</td>\n",
       "      <td>106.540000</td>\n",
       "      <td>106.650000</td>\n",
       "      <td>106.400000</td>\n",
       "      <td>106.510000</td>\n",
       "      <td>2.665096e+06</td>\n",
       "      <td>10540.000000</td>\n",
       "      <td>106.542041</td>\n",
       "      <td>-0.001067</td>\n",
       "    </tr>\n",
       "    <tr>\n",
       "      <th>50%</th>\n",
       "      <td>280.700000</td>\n",
       "      <td>282.580000</td>\n",
       "      <td>279.360000</td>\n",
       "      <td>281.060000</td>\n",
       "      <td>7.464939e+07</td>\n",
       "      <td>2.954980e+05</td>\n",
       "      <td>281.076175</td>\n",
       "      <td>0.000825</td>\n",
       "      <td>109.270000</td>\n",
       "      <td>109.420000</td>\n",
       "      <td>109.153600</td>\n",
       "      <td>109.300000</td>\n",
       "      <td>3.703224e+06</td>\n",
       "      <td>13034.000000</td>\n",
       "      <td>109.303491</td>\n",
       "      <td>0.000188</td>\n",
       "    </tr>\n",
       "    <tr>\n",
       "      <th>75%</th>\n",
       "      <td>296.280000</td>\n",
       "      <td>297.892000</td>\n",
       "      <td>294.330000</td>\n",
       "      <td>296.280000</td>\n",
       "      <td>1.020926e+08</td>\n",
       "      <td>4.421280e+05</td>\n",
       "      <td>296.650886</td>\n",
       "      <td>0.006178</td>\n",
       "      <td>112.850000</td>\n",
       "      <td>112.940000</td>\n",
       "      <td>112.620000</td>\n",
       "      <td>112.810000</td>\n",
       "      <td>5.584110e+06</td>\n",
       "      <td>17210.000000</td>\n",
       "      <td>112.821055</td>\n",
       "      <td>0.001317</td>\n",
       "    </tr>\n",
       "    <tr>\n",
       "      <th>max</th>\n",
       "      <td>337.810000</td>\n",
       "      <td>339.080000</td>\n",
       "      <td>337.480000</td>\n",
       "      <td>338.340000</td>\n",
       "      <td>3.943770e+08</td>\n",
       "      <td>3.709931e+06</td>\n",
       "      <td>338.258804</td>\n",
       "      <td>0.090603</td>\n",
       "      <td>119.660000</td>\n",
       "      <td>119.730000</td>\n",
       "      <td>119.530000</td>\n",
       "      <td>119.630000</td>\n",
       "      <td>2.517426e+07</td>\n",
       "      <td>72445.000000</td>\n",
       "      <td>119.604199</td>\n",
       "      <td>0.023721</td>\n",
       "    </tr>\n",
       "  </tbody>\n",
       "</table>\n",
       "</div>"
      ],
      "text/plain": [
       "              SPY                                                    \\\n",
       "             open        high         low       close        volume   \n",
       "count  757.000000  757.000000  757.000000  757.000000  7.570000e+02   \n",
       "mean   283.026354  284.629050  281.256257  283.046909  8.969203e+07   \n",
       "std     22.195649   22.032066   22.350123   22.213616  5.319384e+07   \n",
       "min    228.000000  229.683300  218.260000  222.950000  2.053806e+07   \n",
       "25%    267.500000  268.550000  265.500000  267.190000  5.722988e+07   \n",
       "50%    280.700000  282.580000  279.360000  281.060000  7.464939e+07   \n",
       "75%    296.280000  297.892000  294.330000  296.280000  1.020926e+08   \n",
       "max    337.810000  339.080000  337.480000  338.340000  3.943770e+08   \n",
       "\n",
       "                                                     AGG              \\\n",
       "        trade_count        vwap daily_return        open        high   \n",
       "count  7.570000e+02  757.000000   756.000000  757.000000  757.000000   \n",
       "mean   4.192793e+05  282.991967     0.000495  110.030264  110.167568   \n",
       "std    4.055646e+05   22.132909     0.013949    4.034746    4.054598   \n",
       "min    8.430500e+04  224.679293    -0.109424  104.070000  104.169900   \n",
       "25%    2.235030e+05  267.169028    -0.003428  106.540000  106.650000   \n",
       "50%    2.954980e+05  281.076175     0.000825  109.270000  109.420000   \n",
       "75%    4.421280e+05  296.650886     0.006178  112.850000  112.940000   \n",
       "max    3.709931e+06  338.258804     0.090603  119.660000  119.730000   \n",
       "\n",
       "                                                                       \\\n",
       "              low       close        volume   trade_count        vwap   \n",
       "count  757.000000  757.000000  7.570000e+02    757.000000  757.000000   \n",
       "mean   109.880810  110.029524  4.618833e+06  15384.072655  110.032067   \n",
       "std      3.986533    4.026540  3.015248e+06   8542.604772    4.022279   \n",
       "min    103.940000  104.010000  1.131600e+06   5750.000000  104.067149   \n",
       "25%    106.400000  106.510000  2.665096e+06  10540.000000  106.542041   \n",
       "50%    109.153600  109.300000  3.703224e+06  13034.000000  109.303491   \n",
       "75%    112.620000  112.810000  5.584110e+06  17210.000000  112.821055   \n",
       "max    119.530000  119.630000  2.517426e+07  72445.000000  119.604199   \n",
       "\n",
       "                    \n",
       "      daily_return  \n",
       "count   756.000000  \n",
       "mean      0.000119  \n",
       "std       0.003414  \n",
       "min      -0.040010  \n",
       "25%      -0.001067  \n",
       "50%       0.000188  \n",
       "75%       0.001317  \n",
       "max       0.023721  "
      ]
     },
     "execution_count": 120,
     "metadata": {},
     "output_type": "execute_result"
    }
   ],
   "source": [
    "MC_thirtyyear.portfolio_data.describe()"
   ]
  },
  {
   "cell_type": "code",
   "execution_count": 127,
   "metadata": {},
   "outputs": [
    {
     "data": {
      "text/plain": [
       "(283.04690885072637, 22.21361565776465)"
      ]
     },
     "execution_count": 127,
     "metadata": {},
     "output_type": "execute_result"
    }
   ],
   "source": [
    "spy_close_df = MC_thirtyyear.portfolio_data[(\"SPY\",\"close\")]\n",
    "spy_close_mean = spy_close_df.describe()['mean']\n",
    "spy_close_std = spy_close_df.describe()['std']\n",
    "spy_close_mean, spy_close_std"
   ]
  },
  {
   "cell_type": "code",
   "execution_count": 128,
   "metadata": {},
   "outputs": [
    {
     "data": {
      "text/plain": [
       "(110.02952443857325, 4.026540132038654)"
      ]
     },
     "execution_count": 128,
     "metadata": {},
     "output_type": "execute_result"
    }
   ],
   "source": [
    "agg_close_df = MC_thirtyyear.portfolio_data[(\"AGG\",\"close\")]\n",
    "agg_close_mean = agg_close_df.describe()['mean']\n",
    "agg_close_std = agg_close_df.describe()['std']\n",
    "agg_close_mean, agg_close_std"
   ]
  },
  {
   "cell_type": "code",
   "execution_count": 155,
   "metadata": {},
   "outputs": [],
   "source": [
    "port_mean = spy_close_mean * 0.6 + agg_close_mean * 0.4\n",
    "port_std = spy_close_std * 0.6 + agg_close_std * 0.4"
   ]
  },
  {
   "cell_type": "code",
   "execution_count": 122,
   "metadata": {
    "tags": []
   },
   "outputs": [
    {
     "name": "stdout",
     "output_type": "stream",
     "text": [
      "The current balance of the stock and bond portion of the members portfolio is $103716.70\n"
     ]
    }
   ],
   "source": [
    "# Print the current balance of the stock and bond portion of the members portfolio\n",
    "total_stocks_bonds = agg_value + spy_value\n",
    "print(f\"The current balance of the stock and bond portion of the members portfolio is ${total_stocks_bonds:0.2f}\")\n"
   ]
  },
  {
   "cell_type": "code",
   "execution_count": 132,
   "metadata": {},
   "outputs": [
    {
     "data": {
      "text/plain": [
       "(184.55993560881558, 243.11997456291465)"
      ]
     },
     "execution_count": 132,
     "metadata": {},
     "output_type": "execute_result"
    }
   ],
   "source": [
    "# Use the lower and upper `95%` confidence intervals to calculate the range of the possible outcomes for the current stock/bond portfolio\n",
    "ci_lower_thirty_cumulative_return = port_mean - (1.96 * port_std)\n",
    "ci_upper_thirty_cumulative_return = port_mean + (1.96 * port_std)\n",
    "\n",
    "# Print the result of your calculations\n",
    "ci_lower_thirty_cumulative_return, ci_upper_thirty_cumulative_return"
   ]
  },
  {
   "cell_type": "markdown",
   "metadata": {},
   "source": [
    "### Forecast Cumulative Returns in 10 Years\n",
    "\n",
    "The CTO of the credit union is impressed with your work on these planning tools but wonders if 30 years is a long time to wait until retirement. So, your next task is to adjust the retirement portfolio and run a new Monte Carlo simulation to find out if the changes will allow members to retire earlier.\n",
    "\n",
    "For this new Monte Carlo simulation, do the following: \n",
    "\n",
    "- Forecast the cumulative returns for 10 years from now. Because of the shortened investment horizon (30 years to 10 years), the portfolio needs to invest more heavily in the riskier asset&mdash;that is, stock&mdash;to help accumulate wealth for retirement. \n",
    "\n",
    "- Adjust the weights of the retirement portfolio so that the composition for the Monte Carlo simulation consists of 20% bonds and 80% stocks. \n",
    "\n",
    "- Run the simulation over 500 samples, and use the same data that the API call to Alpaca generated.\n",
    "\n",
    "- Based on the new Monte Carlo simulation, answer the following questions in your Jupyter notebook:\n",
    "\n",
    "    - Using the current value of only the stock and bond portion of the member's portfolio and the summary statistics that you generated from the new Monte Carlo simulation, what are the lower and upper bounds for the expected value of the portfolio (with the new weights) with a 95% confidence interval?\n",
    "\n",
    "    - Will weighting the portfolio more heavily toward stocks allow the credit union members to retire after only 10 years?\n"
   ]
  },
  {
   "cell_type": "code",
   "execution_count": 133,
   "metadata": {},
   "outputs": [
    {
     "name": "stdout",
     "output_type": "stream",
     "text": [
      "Running Monte Carlo simulation number 0.\n",
      "Running Monte Carlo simulation number 10.\n",
      "Running Monte Carlo simulation number 20.\n",
      "Running Monte Carlo simulation number 30.\n",
      "Running Monte Carlo simulation number 40.\n",
      "Running Monte Carlo simulation number 50.\n",
      "Running Monte Carlo simulation number 60.\n",
      "Running Monte Carlo simulation number 70.\n",
      "Running Monte Carlo simulation number 80.\n",
      "Running Monte Carlo simulation number 90.\n",
      "Running Monte Carlo simulation number 100.\n"
     ]
    },
    {
     "name": "stderr",
     "output_type": "stream",
     "text": [
      "/Users/crystalevans/finTech/Module5/MCForecastTools.py:117: PerformanceWarning: DataFrame is highly fragmented.  This is usually the result of calling `frame.insert` many times, which has poor performance.  Consider joining all columns at once using pd.concat(axis=1) instead.  To get a de-fragmented frame, use `newframe = frame.copy()`\n",
      "  portfolio_cumulative_returns[n] = (1 + sim_df.fillna(0)).cumprod()\n"
     ]
    },
    {
     "name": "stdout",
     "output_type": "stream",
     "text": [
      "Running Monte Carlo simulation number 110.\n",
      "Running Monte Carlo simulation number 120.\n",
      "Running Monte Carlo simulation number 130.\n",
      "Running Monte Carlo simulation number 140.\n",
      "Running Monte Carlo simulation number 150.\n",
      "Running Monte Carlo simulation number 160.\n",
      "Running Monte Carlo simulation number 170.\n",
      "Running Monte Carlo simulation number 180.\n",
      "Running Monte Carlo simulation number 190.\n",
      "Running Monte Carlo simulation number 200.\n",
      "Running Monte Carlo simulation number 210.\n",
      "Running Monte Carlo simulation number 220.\n",
      "Running Monte Carlo simulation number 230.\n",
      "Running Monte Carlo simulation number 240.\n",
      "Running Monte Carlo simulation number 250.\n",
      "Running Monte Carlo simulation number 260.\n",
      "Running Monte Carlo simulation number 270.\n",
      "Running Monte Carlo simulation number 280.\n",
      "Running Monte Carlo simulation number 290.\n",
      "Running Monte Carlo simulation number 300.\n",
      "Running Monte Carlo simulation number 310.\n",
      "Running Monte Carlo simulation number 320.\n",
      "Running Monte Carlo simulation number 330.\n",
      "Running Monte Carlo simulation number 340.\n",
      "Running Monte Carlo simulation number 350.\n",
      "Running Monte Carlo simulation number 360.\n",
      "Running Monte Carlo simulation number 370.\n",
      "Running Monte Carlo simulation number 380.\n",
      "Running Monte Carlo simulation number 390.\n",
      "Running Monte Carlo simulation number 400.\n",
      "Running Monte Carlo simulation number 410.\n",
      "Running Monte Carlo simulation number 420.\n",
      "Running Monte Carlo simulation number 430.\n",
      "Running Monte Carlo simulation number 440.\n",
      "Running Monte Carlo simulation number 450.\n",
      "Running Monte Carlo simulation number 460.\n",
      "Running Monte Carlo simulation number 470.\n",
      "Running Monte Carlo simulation number 480.\n",
      "Running Monte Carlo simulation number 490.\n"
     ]
    },
    {
     "data": {
      "text/html": [
       "<div>\n",
       "<style scoped>\n",
       "    .dataframe tbody tr th:only-of-type {\n",
       "        vertical-align: middle;\n",
       "    }\n",
       "\n",
       "    .dataframe tbody tr th {\n",
       "        vertical-align: top;\n",
       "    }\n",
       "\n",
       "    .dataframe thead th {\n",
       "        text-align: right;\n",
       "    }\n",
       "</style>\n",
       "<table border=\"1\" class=\"dataframe\">\n",
       "  <thead>\n",
       "    <tr style=\"text-align: right;\">\n",
       "      <th></th>\n",
       "      <th>0</th>\n",
       "      <th>1</th>\n",
       "      <th>2</th>\n",
       "      <th>3</th>\n",
       "      <th>4</th>\n",
       "      <th>5</th>\n",
       "      <th>6</th>\n",
       "      <th>7</th>\n",
       "      <th>8</th>\n",
       "      <th>9</th>\n",
       "      <th>...</th>\n",
       "      <th>490</th>\n",
       "      <th>491</th>\n",
       "      <th>492</th>\n",
       "      <th>493</th>\n",
       "      <th>494</th>\n",
       "      <th>495</th>\n",
       "      <th>496</th>\n",
       "      <th>497</th>\n",
       "      <th>498</th>\n",
       "      <th>499</th>\n",
       "    </tr>\n",
       "  </thead>\n",
       "  <tbody>\n",
       "    <tr>\n",
       "      <th>0</th>\n",
       "      <td>1.000000</td>\n",
       "      <td>1.000000</td>\n",
       "      <td>1.000000</td>\n",
       "      <td>1.000000</td>\n",
       "      <td>1.000000</td>\n",
       "      <td>1.000000</td>\n",
       "      <td>1.000000</td>\n",
       "      <td>1.000000</td>\n",
       "      <td>1.000000</td>\n",
       "      <td>1.000000</td>\n",
       "      <td>...</td>\n",
       "      <td>1.000000</td>\n",
       "      <td>1.000000</td>\n",
       "      <td>1.000000</td>\n",
       "      <td>1.000000</td>\n",
       "      <td>1.000000</td>\n",
       "      <td>1.000000</td>\n",
       "      <td>1.000000</td>\n",
       "      <td>1.000000</td>\n",
       "      <td>1.000000</td>\n",
       "      <td>1.000000</td>\n",
       "    </tr>\n",
       "    <tr>\n",
       "      <th>1</th>\n",
       "      <td>1.002417</td>\n",
       "      <td>1.013294</td>\n",
       "      <td>0.988072</td>\n",
       "      <td>0.977659</td>\n",
       "      <td>0.990923</td>\n",
       "      <td>0.996848</td>\n",
       "      <td>1.000796</td>\n",
       "      <td>0.995744</td>\n",
       "      <td>0.992897</td>\n",
       "      <td>1.001405</td>\n",
       "      <td>...</td>\n",
       "      <td>1.000204</td>\n",
       "      <td>0.988840</td>\n",
       "      <td>0.991616</td>\n",
       "      <td>1.008589</td>\n",
       "      <td>1.009361</td>\n",
       "      <td>0.999407</td>\n",
       "      <td>1.015397</td>\n",
       "      <td>1.018327</td>\n",
       "      <td>0.989746</td>\n",
       "      <td>0.987800</td>\n",
       "    </tr>\n",
       "    <tr>\n",
       "      <th>2</th>\n",
       "      <td>0.995335</td>\n",
       "      <td>1.013785</td>\n",
       "      <td>0.996718</td>\n",
       "      <td>0.994289</td>\n",
       "      <td>1.001913</td>\n",
       "      <td>0.992522</td>\n",
       "      <td>1.013719</td>\n",
       "      <td>1.028559</td>\n",
       "      <td>1.014941</td>\n",
       "      <td>0.989633</td>\n",
       "      <td>...</td>\n",
       "      <td>0.989609</td>\n",
       "      <td>0.994364</td>\n",
       "      <td>0.997950</td>\n",
       "      <td>1.013082</td>\n",
       "      <td>0.986869</td>\n",
       "      <td>1.001626</td>\n",
       "      <td>1.040520</td>\n",
       "      <td>1.025330</td>\n",
       "      <td>0.984952</td>\n",
       "      <td>0.984722</td>\n",
       "    </tr>\n",
       "    <tr>\n",
       "      <th>3</th>\n",
       "      <td>0.986085</td>\n",
       "      <td>1.010974</td>\n",
       "      <td>1.011407</td>\n",
       "      <td>1.000448</td>\n",
       "      <td>0.977522</td>\n",
       "      <td>0.960845</td>\n",
       "      <td>1.022296</td>\n",
       "      <td>1.041870</td>\n",
       "      <td>1.005623</td>\n",
       "      <td>0.994199</td>\n",
       "      <td>...</td>\n",
       "      <td>0.988501</td>\n",
       "      <td>0.987894</td>\n",
       "      <td>0.999566</td>\n",
       "      <td>0.998365</td>\n",
       "      <td>0.988102</td>\n",
       "      <td>1.016274</td>\n",
       "      <td>1.053964</td>\n",
       "      <td>1.004786</td>\n",
       "      <td>0.983766</td>\n",
       "      <td>0.968703</td>\n",
       "    </tr>\n",
       "    <tr>\n",
       "      <th>4</th>\n",
       "      <td>0.982892</td>\n",
       "      <td>1.019952</td>\n",
       "      <td>1.003263</td>\n",
       "      <td>0.997734</td>\n",
       "      <td>0.971527</td>\n",
       "      <td>0.964372</td>\n",
       "      <td>1.035164</td>\n",
       "      <td>1.028204</td>\n",
       "      <td>1.006798</td>\n",
       "      <td>0.995827</td>\n",
       "      <td>...</td>\n",
       "      <td>1.008867</td>\n",
       "      <td>0.998229</td>\n",
       "      <td>0.997173</td>\n",
       "      <td>0.997016</td>\n",
       "      <td>0.976924</td>\n",
       "      <td>1.034606</td>\n",
       "      <td>1.039082</td>\n",
       "      <td>1.011152</td>\n",
       "      <td>0.973974</td>\n",
       "      <td>0.965460</td>\n",
       "    </tr>\n",
       "    <tr>\n",
       "      <th>...</th>\n",
       "      <td>...</td>\n",
       "      <td>...</td>\n",
       "      <td>...</td>\n",
       "      <td>...</td>\n",
       "      <td>...</td>\n",
       "      <td>...</td>\n",
       "      <td>...</td>\n",
       "      <td>...</td>\n",
       "      <td>...</td>\n",
       "      <td>...</td>\n",
       "      <td>...</td>\n",
       "      <td>...</td>\n",
       "      <td>...</td>\n",
       "      <td>...</td>\n",
       "      <td>...</td>\n",
       "      <td>...</td>\n",
       "      <td>...</td>\n",
       "      <td>...</td>\n",
       "      <td>...</td>\n",
       "      <td>...</td>\n",
       "      <td>...</td>\n",
       "    </tr>\n",
       "    <tr>\n",
       "      <th>2516</th>\n",
       "      <td>2.368532</td>\n",
       "      <td>1.053599</td>\n",
       "      <td>5.142677</td>\n",
       "      <td>5.334585</td>\n",
       "      <td>3.083350</td>\n",
       "      <td>2.519699</td>\n",
       "      <td>4.113070</td>\n",
       "      <td>3.109170</td>\n",
       "      <td>0.767026</td>\n",
       "      <td>12.785335</td>\n",
       "      <td>...</td>\n",
       "      <td>5.340905</td>\n",
       "      <td>3.073865</td>\n",
       "      <td>3.350399</td>\n",
       "      <td>2.089719</td>\n",
       "      <td>2.676561</td>\n",
       "      <td>5.842719</td>\n",
       "      <td>1.971759</td>\n",
       "      <td>1.474619</td>\n",
       "      <td>0.910557</td>\n",
       "      <td>2.316297</td>\n",
       "    </tr>\n",
       "    <tr>\n",
       "      <th>2517</th>\n",
       "      <td>2.367485</td>\n",
       "      <td>1.078625</td>\n",
       "      <td>5.091720</td>\n",
       "      <td>5.291920</td>\n",
       "      <td>3.101176</td>\n",
       "      <td>2.503231</td>\n",
       "      <td>4.111118</td>\n",
       "      <td>3.127364</td>\n",
       "      <td>0.767894</td>\n",
       "      <td>12.915629</td>\n",
       "      <td>...</td>\n",
       "      <td>5.345599</td>\n",
       "      <td>3.095045</td>\n",
       "      <td>3.334618</td>\n",
       "      <td>2.093507</td>\n",
       "      <td>2.703142</td>\n",
       "      <td>5.925317</td>\n",
       "      <td>1.936499</td>\n",
       "      <td>1.441781</td>\n",
       "      <td>0.911520</td>\n",
       "      <td>2.341555</td>\n",
       "    </tr>\n",
       "    <tr>\n",
       "      <th>2518</th>\n",
       "      <td>2.388660</td>\n",
       "      <td>1.095670</td>\n",
       "      <td>5.045410</td>\n",
       "      <td>5.248957</td>\n",
       "      <td>3.120912</td>\n",
       "      <td>2.538072</td>\n",
       "      <td>4.182289</td>\n",
       "      <td>3.158798</td>\n",
       "      <td>0.770944</td>\n",
       "      <td>12.890512</td>\n",
       "      <td>...</td>\n",
       "      <td>5.239619</td>\n",
       "      <td>3.093755</td>\n",
       "      <td>3.285374</td>\n",
       "      <td>2.054959</td>\n",
       "      <td>2.716259</td>\n",
       "      <td>5.978484</td>\n",
       "      <td>1.936105</td>\n",
       "      <td>1.467464</td>\n",
       "      <td>0.909028</td>\n",
       "      <td>2.345693</td>\n",
       "    </tr>\n",
       "    <tr>\n",
       "      <th>2519</th>\n",
       "      <td>2.423980</td>\n",
       "      <td>1.079392</td>\n",
       "      <td>5.126589</td>\n",
       "      <td>5.259811</td>\n",
       "      <td>3.102894</td>\n",
       "      <td>2.546966</td>\n",
       "      <td>4.205566</td>\n",
       "      <td>3.178327</td>\n",
       "      <td>0.770528</td>\n",
       "      <td>12.838209</td>\n",
       "      <td>...</td>\n",
       "      <td>5.116997</td>\n",
       "      <td>3.116186</td>\n",
       "      <td>3.238633</td>\n",
       "      <td>2.031234</td>\n",
       "      <td>2.697436</td>\n",
       "      <td>5.903074</td>\n",
       "      <td>1.978516</td>\n",
       "      <td>1.437919</td>\n",
       "      <td>0.919207</td>\n",
       "      <td>2.385108</td>\n",
       "    </tr>\n",
       "    <tr>\n",
       "      <th>2520</th>\n",
       "      <td>2.447682</td>\n",
       "      <td>1.070758</td>\n",
       "      <td>5.110668</td>\n",
       "      <td>5.177144</td>\n",
       "      <td>3.129113</td>\n",
       "      <td>2.564269</td>\n",
       "      <td>4.267615</td>\n",
       "      <td>3.154004</td>\n",
       "      <td>0.786885</td>\n",
       "      <td>12.884374</td>\n",
       "      <td>...</td>\n",
       "      <td>5.097795</td>\n",
       "      <td>3.125793</td>\n",
       "      <td>3.248748</td>\n",
       "      <td>2.025020</td>\n",
       "      <td>2.726853</td>\n",
       "      <td>5.856733</td>\n",
       "      <td>1.961994</td>\n",
       "      <td>1.422058</td>\n",
       "      <td>0.905902</td>\n",
       "      <td>2.398904</td>\n",
       "    </tr>\n",
       "  </tbody>\n",
       "</table>\n",
       "<p>2521 rows × 500 columns</p>\n",
       "</div>"
      ],
      "text/plain": [
       "           0         1         2         3         4         5         6    \\\n",
       "0     1.000000  1.000000  1.000000  1.000000  1.000000  1.000000  1.000000   \n",
       "1     1.002417  1.013294  0.988072  0.977659  0.990923  0.996848  1.000796   \n",
       "2     0.995335  1.013785  0.996718  0.994289  1.001913  0.992522  1.013719   \n",
       "3     0.986085  1.010974  1.011407  1.000448  0.977522  0.960845  1.022296   \n",
       "4     0.982892  1.019952  1.003263  0.997734  0.971527  0.964372  1.035164   \n",
       "...        ...       ...       ...       ...       ...       ...       ...   \n",
       "2516  2.368532  1.053599  5.142677  5.334585  3.083350  2.519699  4.113070   \n",
       "2517  2.367485  1.078625  5.091720  5.291920  3.101176  2.503231  4.111118   \n",
       "2518  2.388660  1.095670  5.045410  5.248957  3.120912  2.538072  4.182289   \n",
       "2519  2.423980  1.079392  5.126589  5.259811  3.102894  2.546966  4.205566   \n",
       "2520  2.447682  1.070758  5.110668  5.177144  3.129113  2.564269  4.267615   \n",
       "\n",
       "           7         8          9    ...       490       491       492  \\\n",
       "0     1.000000  1.000000   1.000000  ...  1.000000  1.000000  1.000000   \n",
       "1     0.995744  0.992897   1.001405  ...  1.000204  0.988840  0.991616   \n",
       "2     1.028559  1.014941   0.989633  ...  0.989609  0.994364  0.997950   \n",
       "3     1.041870  1.005623   0.994199  ...  0.988501  0.987894  0.999566   \n",
       "4     1.028204  1.006798   0.995827  ...  1.008867  0.998229  0.997173   \n",
       "...        ...       ...        ...  ...       ...       ...       ...   \n",
       "2516  3.109170  0.767026  12.785335  ...  5.340905  3.073865  3.350399   \n",
       "2517  3.127364  0.767894  12.915629  ...  5.345599  3.095045  3.334618   \n",
       "2518  3.158798  0.770944  12.890512  ...  5.239619  3.093755  3.285374   \n",
       "2519  3.178327  0.770528  12.838209  ...  5.116997  3.116186  3.238633   \n",
       "2520  3.154004  0.786885  12.884374  ...  5.097795  3.125793  3.248748   \n",
       "\n",
       "           493       494       495       496       497       498       499  \n",
       "0     1.000000  1.000000  1.000000  1.000000  1.000000  1.000000  1.000000  \n",
       "1     1.008589  1.009361  0.999407  1.015397  1.018327  0.989746  0.987800  \n",
       "2     1.013082  0.986869  1.001626  1.040520  1.025330  0.984952  0.984722  \n",
       "3     0.998365  0.988102  1.016274  1.053964  1.004786  0.983766  0.968703  \n",
       "4     0.997016  0.976924  1.034606  1.039082  1.011152  0.973974  0.965460  \n",
       "...        ...       ...       ...       ...       ...       ...       ...  \n",
       "2516  2.089719  2.676561  5.842719  1.971759  1.474619  0.910557  2.316297  \n",
       "2517  2.093507  2.703142  5.925317  1.936499  1.441781  0.911520  2.341555  \n",
       "2518  2.054959  2.716259  5.978484  1.936105  1.467464  0.909028  2.345693  \n",
       "2519  2.031234  2.697436  5.903074  1.978516  1.437919  0.919207  2.385108  \n",
       "2520  2.025020  2.726853  5.856733  1.961994  1.422058  0.905902  2.398904  \n",
       "\n",
       "[2521 rows x 500 columns]"
      ]
     },
     "execution_count": 133,
     "metadata": {},
     "output_type": "execute_result"
    }
   ],
   "source": [
    "# Configure a Monte Carlo simulation to forecast 10 years cumulative returns\n",
    "# The weights should be split 20% to AGG and 80% to SPY.\n",
    "# Run 500 samples.\n",
    "MC_tenyear = MCSimulation(\n",
    "    portfolio_data = df_portfolio,\n",
    "    weights = [.80,.20],\n",
    "    num_simulation = 500,\n",
    "    num_trading_days = 252*10\n",
    ")\n",
    "\n",
    "# Review the simulation input data\n",
    "MC_tenyear.portfolio_data.head()\n",
    "MC_tenyear.calc_cumulative_return()\n",
    "\n",
    "\n"
   ]
  },
  {
   "cell_type": "code",
   "execution_count": 137,
   "metadata": {},
   "outputs": [],
   "source": [
    "# Run the Monte Carlo simulation to forecast 10 years cumulative returns\n"
   ]
  },
  {
   "cell_type": "code",
   "execution_count": 135,
   "metadata": {},
   "outputs": [
    {
     "data": {
      "image/png": "[encoded data removed]",
      "text/plain": [
       "<Figure size 432x288 with 1 Axes>"
      ]
     },
     "metadata": {
      "needs_background": "light"
     },
     "output_type": "display_data"
    }
   ],
   "source": [
    "# Visualize the 10-year Monte Carlo simulation by creating an\n",
    "# overlay line plot\n",
    "MC_sim_line_plot = MC_tenyear.plot_simulation()\n",
    "\n",
    "# Save the plot for future use\n",
    "MC_sim_line_plot.get_figure().savefig(\"MC_tenyear_sim_plot.png\", bbox_inches=\"tight\")\n",
    "\n"
   ]
  },
  {
   "cell_type": "code",
   "execution_count": 144,
   "metadata": {},
   "outputs": [
    {
     "data": {
      "image/png": "[encoded data removed]",
      "text/plain": [
       "<Figure size 432x288 with 1 Axes>"
      ]
     },
     "metadata": {
      "needs_background": "light"
     },
     "output_type": "display_data"
    }
   ],
   "source": [
    "# Visualize the probability distribution of the 10-year Monte Carlo simulation \n",
    "# by plotting a histogram\n",
    "MC_sim10_agg_plot = MC_tenyear.portfolio_data[(\"AGG\", \"close\")].plot(kind=\"hist\",title='AGG Probability Distribution')\n",
    "MC_sim10_agg_plot = MC_tenyear.portfolio_data[(\"SPY\", \"close\")].plot(kind=\"hist\",title='AGG Probability Distribution')\n",
    "\n"
   ]
  },
  {
   "cell_type": "code",
   "execution_count": 147,
   "metadata": {},
   "outputs": [
    {
     "name": "stdout",
     "output_type": "stream",
     "text": [
      "Running Monte Carlo simulation number 0.\n",
      "Running Monte Carlo simulation number 10.\n",
      "Running Monte Carlo simulation number 20.\n",
      "Running Monte Carlo simulation number 30.\n",
      "Running Monte Carlo simulation number 40.\n",
      "Running Monte Carlo simulation number 50.\n",
      "Running Monte Carlo simulation number 60.\n",
      "Running Monte Carlo simulation number 70.\n",
      "Running Monte Carlo simulation number 80.\n",
      "Running Monte Carlo simulation number 90.\n",
      "Running Monte Carlo simulation number 100.\n"
     ]
    },
    {
     "name": "stderr",
     "output_type": "stream",
     "text": [
      "/Users/crystalevans/finTech/Module5/MCForecastTools.py:117: PerformanceWarning: DataFrame is highly fragmented.  This is usually the result of calling `frame.insert` many times, which has poor performance.  Consider joining all columns at once using pd.concat(axis=1) instead.  To get a de-fragmented frame, use `newframe = frame.copy()`\n",
      "  portfolio_cumulative_returns[n] = (1 + sim_df.fillna(0)).cumprod()\n"
     ]
    },
    {
     "name": "stdout",
     "output_type": "stream",
     "text": [
      "Running Monte Carlo simulation number 110.\n",
      "Running Monte Carlo simulation number 120.\n",
      "Running Monte Carlo simulation number 130.\n",
      "Running Monte Carlo simulation number 140.\n",
      "Running Monte Carlo simulation number 150.\n",
      "Running Monte Carlo simulation number 160.\n",
      "Running Monte Carlo simulation number 170.\n",
      "Running Monte Carlo simulation number 180.\n",
      "Running Monte Carlo simulation number 190.\n",
      "Running Monte Carlo simulation number 200.\n",
      "Running Monte Carlo simulation number 210.\n",
      "Running Monte Carlo simulation number 220.\n",
      "Running Monte Carlo simulation number 230.\n",
      "Running Monte Carlo simulation number 240.\n",
      "Running Monte Carlo simulation number 250.\n",
      "Running Monte Carlo simulation number 260.\n",
      "Running Monte Carlo simulation number 270.\n",
      "Running Monte Carlo simulation number 280.\n",
      "Running Monte Carlo simulation number 290.\n",
      "Running Monte Carlo simulation number 300.\n",
      "Running Monte Carlo simulation number 310.\n",
      "Running Monte Carlo simulation number 320.\n",
      "Running Monte Carlo simulation number 330.\n",
      "Running Monte Carlo simulation number 340.\n",
      "Running Monte Carlo simulation number 350.\n",
      "Running Monte Carlo simulation number 360.\n",
      "Running Monte Carlo simulation number 370.\n",
      "Running Monte Carlo simulation number 380.\n",
      "Running Monte Carlo simulation number 390.\n",
      "Running Monte Carlo simulation number 400.\n",
      "Running Monte Carlo simulation number 410.\n",
      "Running Monte Carlo simulation number 420.\n",
      "Running Monte Carlo simulation number 430.\n",
      "Running Monte Carlo simulation number 440.\n",
      "Running Monte Carlo simulation number 450.\n",
      "Running Monte Carlo simulation number 460.\n",
      "Running Monte Carlo simulation number 470.\n",
      "Running Monte Carlo simulation number 480.\n",
      "Running Monte Carlo simulation number 490.\n"
     ]
    },
    {
     "ename": "AttributeError",
     "evalue": "'DataFrame' object has no attribute 'descriabe'",
     "output_type": "error",
     "traceback": [
      "\u001b[0;31m---------------------------------------------------------------------------\u001b[0m",
      "\u001b[0;31mAttributeError\u001b[0m                            Traceback (most recent call last)",
      "\u001b[0;32m/var/folders/y2/8cwcjfb153g95p1_q65w3kkc0000gn/T/ipykernel_45690/3895429825.py\u001b[0m in \u001b[0;36m<module>\u001b[0;34m\u001b[0m\n\u001b[1;32m      8\u001b[0m \u001b[0;34m\u001b[0m\u001b[0m\n\u001b[1;32m      9\u001b[0m \u001b[0;31m# Review the 10-year Monte Carlo summary statistics\u001b[0m\u001b[0;34m\u001b[0m\u001b[0;34m\u001b[0m\u001b[0;34m\u001b[0m\u001b[0m\n\u001b[0;32m---> 10\u001b[0;31m \u001b[0mMC_tenyear_cum\u001b[0m\u001b[0;34m.\u001b[0m\u001b[0mdescriabe\u001b[0m\u001b[0;34m(\u001b[0m\u001b[0;34m)\u001b[0m\u001b[0;34m\u001b[0m\u001b[0;34m\u001b[0m\u001b[0m\n\u001b[0m",
      "\u001b[0;32m~/opt/anaconda3/envs/dev/lib/python3.7/site-packages/pandas/core/generic.py\u001b[0m in \u001b[0;36m__getattr__\u001b[0;34m(self, name)\u001b[0m\n\u001b[1;32m   5485\u001b[0m         ):\n\u001b[1;32m   5486\u001b[0m             \u001b[0;32mreturn\u001b[0m \u001b[0mself\u001b[0m\u001b[0;34m[\u001b[0m\u001b[0mname\u001b[0m\u001b[0;34m]\u001b[0m\u001b[0;34m\u001b[0m\u001b[0;34m\u001b[0m\u001b[0m\n\u001b[0;32m-> 5487\u001b[0;31m         \u001b[0;32mreturn\u001b[0m \u001b[0mobject\u001b[0m\u001b[0;34m.\u001b[0m\u001b[0m__getattribute__\u001b[0m\u001b[0;34m(\u001b[0m\u001b[0mself\u001b[0m\u001b[0;34m,\u001b[0m \u001b[0mname\u001b[0m\u001b[0;34m)\u001b[0m\u001b[0;34m\u001b[0m\u001b[0;34m\u001b[0m\u001b[0m\n\u001b[0m\u001b[1;32m   5488\u001b[0m \u001b[0;34m\u001b[0m\u001b[0m\n\u001b[1;32m   5489\u001b[0m     \u001b[0;32mdef\u001b[0m \u001b[0m__setattr__\u001b[0m\u001b[0;34m(\u001b[0m\u001b[0mself\u001b[0m\u001b[0;34m,\u001b[0m \u001b[0mname\u001b[0m\u001b[0;34m:\u001b[0m \u001b[0mstr\u001b[0m\u001b[0;34m,\u001b[0m \u001b[0mvalue\u001b[0m\u001b[0;34m)\u001b[0m \u001b[0;34m->\u001b[0m \u001b[0;32mNone\u001b[0m\u001b[0;34m:\u001b[0m\u001b[0;34m\u001b[0m\u001b[0;34m\u001b[0m\u001b[0m\n",
      "\u001b[0;31mAttributeError\u001b[0m: 'DataFrame' object has no attribute 'descriabe'"
     ]
    }
   ],
   "source": [
    "# Generate summary statistics from the 10-year Monte Carlo simulation results\n",
    "# Save the results as a variable\n",
    "\n",
    "\n",
    "# Generate descriptive statistics\n",
    "MC_tenyear_cum = MC_tenyear.calc_cumulative_return()\n",
    "\n",
    "\n"
   ]
  },
  {
   "cell_type": "code",
   "execution_count": 148,
   "metadata": {},
   "outputs": [
    {
     "data": {
      "text/html": [
       "<div>\n",
       "<style scoped>\n",
       "    .dataframe tbody tr th:only-of-type {\n",
       "        vertical-align: middle;\n",
       "    }\n",
       "\n",
       "    .dataframe tbody tr th {\n",
       "        vertical-align: top;\n",
       "    }\n",
       "\n",
       "    .dataframe thead th {\n",
       "        text-align: right;\n",
       "    }\n",
       "</style>\n",
       "<table border=\"1\" class=\"dataframe\">\n",
       "  <thead>\n",
       "    <tr style=\"text-align: right;\">\n",
       "      <th></th>\n",
       "      <th>0</th>\n",
       "      <th>1</th>\n",
       "      <th>2</th>\n",
       "      <th>3</th>\n",
       "      <th>4</th>\n",
       "      <th>5</th>\n",
       "      <th>6</th>\n",
       "      <th>7</th>\n",
       "      <th>8</th>\n",
       "      <th>9</th>\n",
       "      <th>...</th>\n",
       "      <th>490</th>\n",
       "      <th>491</th>\n",
       "      <th>492</th>\n",
       "      <th>493</th>\n",
       "      <th>494</th>\n",
       "      <th>495</th>\n",
       "      <th>496</th>\n",
       "      <th>497</th>\n",
       "      <th>498</th>\n",
       "      <th>499</th>\n",
       "    </tr>\n",
       "  </thead>\n",
       "  <tbody>\n",
       "    <tr>\n",
       "      <th>count</th>\n",
       "      <td>2521.000000</td>\n",
       "      <td>2521.000000</td>\n",
       "      <td>2521.000000</td>\n",
       "      <td>2521.000000</td>\n",
       "      <td>2521.000000</td>\n",
       "      <td>2521.000000</td>\n",
       "      <td>2521.000000</td>\n",
       "      <td>2521.000000</td>\n",
       "      <td>2521.000000</td>\n",
       "      <td>2521.000000</td>\n",
       "      <td>...</td>\n",
       "      <td>2521.000000</td>\n",
       "      <td>2521.000000</td>\n",
       "      <td>2521.000000</td>\n",
       "      <td>2521.000000</td>\n",
       "      <td>2521.000000</td>\n",
       "      <td>2521.000000</td>\n",
       "      <td>2521.000000</td>\n",
       "      <td>2521.000000</td>\n",
       "      <td>2521.000000</td>\n",
       "      <td>2521.000000</td>\n",
       "    </tr>\n",
       "    <tr>\n",
       "      <th>mean</th>\n",
       "      <td>1.229982</td>\n",
       "      <td>2.593038</td>\n",
       "      <td>1.805973</td>\n",
       "      <td>1.485581</td>\n",
       "      <td>1.723815</td>\n",
       "      <td>1.805352</td>\n",
       "      <td>1.088599</td>\n",
       "      <td>1.814552</td>\n",
       "      <td>1.318853</td>\n",
       "      <td>2.958697</td>\n",
       "      <td>...</td>\n",
       "      <td>1.476080</td>\n",
       "      <td>1.701135</td>\n",
       "      <td>1.270052</td>\n",
       "      <td>0.779296</td>\n",
       "      <td>1.447014</td>\n",
       "      <td>1.228034</td>\n",
       "      <td>1.550390</td>\n",
       "      <td>1.788184</td>\n",
       "      <td>1.751802</td>\n",
       "      <td>1.646136</td>\n",
       "    </tr>\n",
       "    <tr>\n",
       "      <th>std</th>\n",
       "      <td>0.199772</td>\n",
       "      <td>1.204177</td>\n",
       "      <td>0.397148</td>\n",
       "      <td>0.443807</td>\n",
       "      <td>0.487065</td>\n",
       "      <td>0.452498</td>\n",
       "      <td>0.302298</td>\n",
       "      <td>0.479782</td>\n",
       "      <td>0.390891</td>\n",
       "      <td>1.359558</td>\n",
       "      <td>...</td>\n",
       "      <td>0.229503</td>\n",
       "      <td>0.610507</td>\n",
       "      <td>0.353065</td>\n",
       "      <td>0.139717</td>\n",
       "      <td>0.346614</td>\n",
       "      <td>0.204576</td>\n",
       "      <td>0.693238</td>\n",
       "      <td>0.659882</td>\n",
       "      <td>0.544936</td>\n",
       "      <td>1.000119</td>\n",
       "    </tr>\n",
       "    <tr>\n",
       "      <th>min</th>\n",
       "      <td>0.868955</td>\n",
       "      <td>0.953250</td>\n",
       "      <td>0.981681</td>\n",
       "      <td>0.832508</td>\n",
       "      <td>0.949243</td>\n",
       "      <td>0.971147</td>\n",
       "      <td>0.726873</td>\n",
       "      <td>0.934906</td>\n",
       "      <td>0.759982</td>\n",
       "      <td>0.956058</td>\n",
       "      <td>...</td>\n",
       "      <td>0.889901</td>\n",
       "      <td>0.856951</td>\n",
       "      <td>0.760449</td>\n",
       "      <td>0.508807</td>\n",
       "      <td>0.917266</td>\n",
       "      <td>0.864784</td>\n",
       "      <td>0.720759</td>\n",
       "      <td>0.772136</td>\n",
       "      <td>0.952540</td>\n",
       "      <td>0.666633</td>\n",
       "    </tr>\n",
       "    <tr>\n",
       "      <th>25%</th>\n",
       "      <td>1.025136</td>\n",
       "      <td>1.878436</td>\n",
       "      <td>1.502673</td>\n",
       "      <td>1.128826</td>\n",
       "      <td>1.242934</td>\n",
       "      <td>1.463586</td>\n",
       "      <td>0.908538</td>\n",
       "      <td>1.460617</td>\n",
       "      <td>0.939416</td>\n",
       "      <td>1.617479</td>\n",
       "      <td>...</td>\n",
       "      <td>1.318640</td>\n",
       "      <td>1.168305</td>\n",
       "      <td>0.976217</td>\n",
       "      <td>0.675995</td>\n",
       "      <td>1.235276</td>\n",
       "      <td>1.025046</td>\n",
       "      <td>0.865321</td>\n",
       "      <td>1.150753</td>\n",
       "      <td>1.195080</td>\n",
       "      <td>0.979352</td>\n",
       "    </tr>\n",
       "    <tr>\n",
       "      <th>50%</th>\n",
       "      <td>1.271793</td>\n",
       "      <td>2.276111</td>\n",
       "      <td>1.869278</td>\n",
       "      <td>1.501727</td>\n",
       "      <td>1.737169</td>\n",
       "      <td>1.962381</td>\n",
       "      <td>0.981406</td>\n",
       "      <td>1.725754</td>\n",
       "      <td>1.345444</td>\n",
       "      <td>3.116767</td>\n",
       "      <td>...</td>\n",
       "      <td>1.486866</td>\n",
       "      <td>1.666278</td>\n",
       "      <td>1.120998</td>\n",
       "      <td>0.764954</td>\n",
       "      <td>1.384351</td>\n",
       "      <td>1.259603</td>\n",
       "      <td>1.366248</td>\n",
       "      <td>1.705083</td>\n",
       "      <td>1.791885</td>\n",
       "      <td>1.247248</td>\n",
       "    </tr>\n",
       "    <tr>\n",
       "      <th>75%</th>\n",
       "      <td>1.385014</td>\n",
       "      <td>3.058170</td>\n",
       "      <td>2.130525</td>\n",
       "      <td>1.691705</td>\n",
       "      <td>2.184277</td>\n",
       "      <td>2.176378</td>\n",
       "      <td>1.094171</td>\n",
       "      <td>2.248423</td>\n",
       "      <td>1.619008</td>\n",
       "      <td>3.683120</td>\n",
       "      <td>...</td>\n",
       "      <td>1.613156</td>\n",
       "      <td>2.152372</td>\n",
       "      <td>1.608735</td>\n",
       "      <td>0.861825</td>\n",
       "      <td>1.542542</td>\n",
       "      <td>1.396765</td>\n",
       "      <td>2.226333</td>\n",
       "      <td>2.409800</td>\n",
       "      <td>2.082681</td>\n",
       "      <td>1.844097</td>\n",
       "    </tr>\n",
       "    <tr>\n",
       "      <th>max</th>\n",
       "      <td>1.687089</td>\n",
       "      <td>6.150605</td>\n",
       "      <td>2.658124</td>\n",
       "      <td>2.758571</td>\n",
       "      <td>2.758373</td>\n",
       "      <td>2.741108</td>\n",
       "      <td>2.113604</td>\n",
       "      <td>2.781806</td>\n",
       "      <td>2.182236</td>\n",
       "      <td>6.069384</td>\n",
       "      <td>...</td>\n",
       "      <td>2.112310</td>\n",
       "      <td>3.424685</td>\n",
       "      <td>2.148733</td>\n",
       "      <td>1.120743</td>\n",
       "      <td>2.634208</td>\n",
       "      <td>1.658651</td>\n",
       "      <td>3.008094</td>\n",
       "      <td>3.117957</td>\n",
       "      <td>3.266244</td>\n",
       "      <td>4.635840</td>\n",
       "    </tr>\n",
       "  </tbody>\n",
       "</table>\n",
       "<p>8 rows × 500 columns</p>\n",
       "</div>"
      ],
      "text/plain": [
       "               0            1            2            3            4    \\\n",
       "count  2521.000000  2521.000000  2521.000000  2521.000000  2521.000000   \n",
       "mean      1.229982     2.593038     1.805973     1.485581     1.723815   \n",
       "std       0.199772     1.204177     0.397148     0.443807     0.487065   \n",
       "min       0.868955     0.953250     0.981681     0.832508     0.949243   \n",
       "25%       1.025136     1.878436     1.502673     1.128826     1.242934   \n",
       "50%       1.271793     2.276111     1.869278     1.501727     1.737169   \n",
       "75%       1.385014     3.058170     2.130525     1.691705     2.184277   \n",
       "max       1.687089     6.150605     2.658124     2.758571     2.758373   \n",
       "\n",
       "               5            6            7            8            9    ...  \\\n",
       "count  2521.000000  2521.000000  2521.000000  2521.000000  2521.000000  ...   \n",
       "mean      1.805352     1.088599     1.814552     1.318853     2.958697  ...   \n",
       "std       0.452498     0.302298     0.479782     0.390891     1.359558  ...   \n",
       "min       0.971147     0.726873     0.934906     0.759982     0.956058  ...   \n",
       "25%       1.463586     0.908538     1.460617     0.939416     1.617479  ...   \n",
       "50%       1.962381     0.981406     1.725754     1.345444     3.116767  ...   \n",
       "75%       2.176378     1.094171     2.248423     1.619008     3.683120  ...   \n",
       "max       2.741108     2.113604     2.781806     2.182236     6.069384  ...   \n",
       "\n",
       "               490          491          492          493          494  \\\n",
       "count  2521.000000  2521.000000  2521.000000  2521.000000  2521.000000   \n",
       "mean      1.476080     1.701135     1.270052     0.779296     1.447014   \n",
       "std       0.229503     0.610507     0.353065     0.139717     0.346614   \n",
       "min       0.889901     0.856951     0.760449     0.508807     0.917266   \n",
       "25%       1.318640     1.168305     0.976217     0.675995     1.235276   \n",
       "50%       1.486866     1.666278     1.120998     0.764954     1.384351   \n",
       "75%       1.613156     2.152372     1.608735     0.861825     1.542542   \n",
       "max       2.112310     3.424685     2.148733     1.120743     2.634208   \n",
       "\n",
       "               495          496          497          498          499  \n",
       "count  2521.000000  2521.000000  2521.000000  2521.000000  2521.000000  \n",
       "mean      1.228034     1.550390     1.788184     1.751802     1.646136  \n",
       "std       0.204576     0.693238     0.659882     0.544936     1.000119  \n",
       "min       0.864784     0.720759     0.772136     0.952540     0.666633  \n",
       "25%       1.025046     0.865321     1.150753     1.195080     0.979352  \n",
       "50%       1.259603     1.366248     1.705083     1.791885     1.247248  \n",
       "75%       1.396765     2.226333     2.409800     2.082681     1.844097  \n",
       "max       1.658651     3.008094     3.117957     3.266244     4.635840  \n",
       "\n",
       "[8 rows x 500 columns]"
      ]
     },
     "execution_count": 148,
     "metadata": {},
     "output_type": "execute_result"
    }
   ],
   "source": [
    "# Review the 10-year Monte Carlo summary statistics\n",
    "MC_tenyear_cum.describe()"
   ]
  },
  {
   "cell_type": "code",
   "execution_count": null,
   "metadata": {},
   "outputs": [],
   "source": []
  },
  {
   "cell_type": "markdown",
   "metadata": {},
   "source": [
    "### Answer the following questions:"
   ]
  },
  {
   "cell_type": "markdown",
   "metadata": {},
   "source": [
    "#### Question: Using the current value of only the stock and bond portion of the member's portfolio and the summary statistics that you generated from the new Monte Carlo simulation, what are the lower and upper bounds for the expected value of the portfolio (with the new weights) with a 95% confidence interval?"
   ]
  },
  {
   "cell_type": "code",
   "execution_count": 150,
   "metadata": {},
   "outputs": [
    {
     "name": "stdout",
     "output_type": "stream",
     "text": [
      "The current balance of the stock and bond portion of the members portfolio is $103716.70\n"
     ]
    }
   ],
   "source": [
    "# Print the current balance of the stock and bond portion of the members portfolio\n",
    "total_stocks_bonds = agg_value + spy_value\n",
    "print(f\"The current balance of the stock and bond portion of the members portfolio is ${total_stocks_bonds:0.2f}\")"
   ]
  },
  {
   "cell_type": "code",
   "execution_count": 151,
   "metadata": {},
   "outputs": [
    {
     "data": {
      "text/plain": [
       "(283.04690885072637, 22.21361565776465)"
      ]
     },
     "execution_count": 151,
     "metadata": {},
     "output_type": "execute_result"
    }
   ],
   "source": [
    "ten_spy_close_df = MC_tenyear.portfolio_data[(\"SPY\",\"close\")]\n",
    "ten_spy_close_mean = spy_close_df.describe()['mean']\n",
    "ten_spy_close_std = spy_close_df.describe()['std']\n",
    "ten_spy_close_mean, spy_close_std"
   ]
  },
  {
   "cell_type": "code",
   "execution_count": 158,
   "metadata": {},
   "outputs": [
    {
     "data": {
      "text/plain": [
       "(110.02952443857325, 4.026540132038654)"
      ]
     },
     "execution_count": 158,
     "metadata": {},
     "output_type": "execute_result"
    }
   ],
   "source": [
    "ten_agg_close_df = MC_tenyear.portfolio_data[(\"AGG\",\"close\")]\n",
    "ten_agg_close_mean = ten_agg_close_df.describe()['mean']\n",
    "ten_agg_close_std = ten_agg_close_df.describe()['std']\n",
    "ten_agg_close_mean, ten_agg_close_std"
   ]
  },
  {
   "cell_type": "code",
   "execution_count": 159,
   "metadata": {},
   "outputs": [],
   "source": [
    "port_mean = ten_spy_close_mean * 0.8 + ten_agg_close_mean * 0.2\n",
    "port_std = ten_spy_close_std * 0.8 + ten_agg_close_std * 0.2"
   ]
  },
  {
   "cell_type": "code",
   "execution_count": 160,
   "metadata": {},
   "outputs": [
    {
     "data": {
      "text/plain": [
       "(212.03407888516165, 284.85278505142986)"
      ]
     },
     "execution_count": 160,
     "metadata": {},
     "output_type": "execute_result"
    }
   ],
   "source": [
    "# Use the lower and upper `95%` confidence intervals to calculate the range of the possible outcomes for the current stock/bond portfolio\n",
    "ci_lower_ten_cumulative_return = port_mean - (1.96 * port_std)\n",
    "ci_upper_ten_cumulative_return = port_mean + (1.96 * port_std)\n",
    "\n",
    "# Print the result of your calculations\n",
    "ci_lower_ten_cumulative_return , ci_upper_ten_cumulative_return"
   ]
  },
  {
   "cell_type": "markdown",
   "metadata": {},
   "source": [
    "#### Question: Will weighting the portfolio more heavily to stocks allow the credit union members to retire after only 10 years?"
   ]
  },
  {
   "cell_type": "raw",
   "metadata": {},
   "source": [
    "**Answer** # With the ten year strategy the credit union memeber has invested 80% in stocks and 20% in bonds allowing for a greater return in shorter period of time. Much more risky but definitely allows for better performance. \n",
    "For example with the lower ten cumulative returns the member will earn 212.03407888516165, rather than 184.55993560881558 over the thirty year investment strategy. "
   ]
  },
  {
   "cell_type": "code",
   "execution_count": null,
   "metadata": {},
   "outputs": [],
   "source": []
  }
 ],
 "metadata": {
  "kernelspec": {
   "display_name": "Python 3 (ipykernel)",
   "language": "python",
   "name": "python3"
  },
  "language_info": {
   "codemirror_mode": {
    "name": "ipython",
    "version": 3
   },
   "file_extension": ".py",
   "mimetype": "text/x-python",
   "name": "python",
   "nbconvert_exporter": "python",
   "pygments_lexer": "ipython3",
   "version": "3.7.13"
  }
 },
 "nbformat": 4,
 "nbformat_minor": 4
}
