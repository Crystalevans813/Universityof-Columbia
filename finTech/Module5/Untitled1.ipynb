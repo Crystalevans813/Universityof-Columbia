{
 "cells": [
  {
   "cell_type": "code",
   "execution_count": 1,
   "id": "3d3ef05a-4e5a-47c8-b18e-142904321b4c",
   "metadata": {},
   "outputs": [
    {
     "name": "stdout",
     "output_type": "stream",
     "text": [
      "{\n",
      "    \"data\": {\n",
      "        \"2\": {\n",
      "            \"circulating_supply\": 70740396,\n",
      "            \"id\": 2,\n",
      "            \"last_updated\": 1658084597,\n",
      "            \"max_supply\": 84000000,\n",
      "            \"name\": \"Litecoin\",\n",
      "            \"quotes\": {\n",
      "                \"USD\": {\n",
      "                    \"market_cap\": 3899997529,\n",
      "                    \"percent_change_1h\": 0.705966280024786,\n",
      "                    \"percent_change_24h\": 1.5179489470159,\n",
      "                    \"percent_change_7d\": 1.7579773652206,\n",
      "                    \"percentage_change_1h\": 0.705966280024786,\n",
      "                    \"percentage_change_24h\": 1.5179489470159,\n",
      "                    \"percentage_change_7d\": 1.7579773652206,\n",
      "                    \"price\": 55.13,\n",
      "                    \"volume_24h\": 531124445\n",
      "                }\n",
      "            },\n",
      "            \"rank\": 15,\n",
      "            \"symbol\": \"LTC\",\n",
      "            \"total_supply\": 70740396,\n",
      "            \"website_slug\": \"litecoin\"\n",
      "        }\n",
      "    },\n",
      "    \"metadata\": {\n",
      "        \"error\": null,\n",
      "        \"num_cryptocurrencies\": 3116,\n",
      "        \"timestamp\": 1658084597\n",
      "    }\n",
      "}\n"
     ]
    }
   ],
   "source": [
    "# Import the required libraries and dependencies\n",
    "import pandas as pd\n",
    "import requests\n",
    "import json\n",
    "\n",
    "# Set the Ripple endpoint\n",
    "ltc_url = \"https://api.alternative.me/v2/ticker/Litecoin/\"\n",
    "\n",
    "# Fetch the current Ripple price\n",
    "ltc_response = requests.get(ltc_url).json()\n",
    "\n",
    "# Display response data\n",
    "print(json.dumps(ltc_response, indent=4, sort_keys=True))"
   ]
  },
  {
   "cell_type": "code",
   "execution_count": 2,
   "id": "a1492340-3ace-4d07-b12d-4438783e05f5",
   "metadata": {},
   "outputs": [],
   "source": [
    "TEST_API_KEY = \"aaBB3dEfgH1jKlmN0P\"\n"
   ]
  }
 ],
 "metadata": {
  "kernelspec": {
   "display_name": "Python 3 (ipykernel)",
   "language": "python",
   "name": "python3"
  },
  "language_info": {
   "codemirror_mode": {
    "name": "ipython",
    "version": 3
   },
   "file_extension": ".py",
   "mimetype": "text/x-python",
   "name": "python",
   "nbconvert_exporter": "python",
   "pygments_lexer": "ipython3",
   "version": "3.7.13"
  }
 },
 "nbformat": 4,
 "nbformat_minor": 5
}
