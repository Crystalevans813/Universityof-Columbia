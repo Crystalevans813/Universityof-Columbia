{
 "cells": [
  {
   "cell_type": "code",
   "execution_count": 1,
   "id": "7646a49d-c897-4cd2-b800-9f66ddd79b35",
   "metadata": {},
   "outputs": [],
   "source": [
    "import os"
   ]
  },
  {
   "cell_type": "code",
   "execution_count": 2,
   "id": "c2cd669b-8b05-44fd-83f5-acfd5b16c37f",
   "metadata": {},
   "outputs": [],
   "source": [
    "from dotenv import load_dotenv"
   ]
  },
  {
   "cell_type": "code",
   "execution_count": 3,
   "id": "f85b51e1-c321-4f53-9b3b-15408a8aeb7c",
   "metadata": {},
   "outputs": [
    {
     "data": {
      "text/plain": [
       "True"
      ]
     },
     "execution_count": 3,
     "metadata": {},
     "output_type": "execute_result"
    }
   ],
   "source": [
    "load_dotenv()"
   ]
  },
  {
   "cell_type": "code",
   "execution_count": 4,
   "id": "480b28ac-f456-4bb9-9fef-95cb35c304c6",
   "metadata": {},
   "outputs": [
    {
     "name": "stdout",
     "output_type": "stream",
     "text": [
      "None\n"
     ]
    }
   ],
   "source": [
    "nasdaq_api_key = os.getenv('8vT8_D8Sxcoo82gVyJP3')\n",
    "print(nasdaq_api_key) "
   ]
  },
  {
   "cell_type": "code",
   "execution_count": null,
   "id": "51e186e0-f8d2-4287-a112-4686f1209380",
   "metadata": {},
   "outputs": [],
   "source": []
  },
  {
   "cell_type": "code",
   "execution_count": null,
   "id": "7f5b2325-f292-4134-919e-76e952b70a9d",
   "metadata": {},
   "outputs": [],
   "source": []
  }
 ],
 "metadata": {
  "kernelspec": {
   "display_name": "Python 3 (ipykernel)",
   "language": "python",
   "name": "python3"
  },
  "language_info": {
   "codemirror_mode": {
    "name": "ipython",
    "version": 3
   },
   "file_extension": ".py",
   "mimetype": "text/x-python",
   "name": "python",
   "nbconvert_exporter": "python",
   "pygments_lexer": "ipython3",
   "version": "3.7.13"
  }
 },
 "nbformat": 4,
 "nbformat_minor": 5
}
